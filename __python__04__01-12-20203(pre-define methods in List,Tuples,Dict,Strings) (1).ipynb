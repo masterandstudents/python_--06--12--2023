{
 "cells": [
  {
   "cell_type": "code",
   "execution_count": 1,
   "id": "19d04bdd",
   "metadata": {},
   "outputs": [],
   "source": [
    "# string"
   ]
  },
  {
   "cell_type": "code",
   "execution_count": 2,
   "id": "70241f2d",
   "metadata": {},
   "outputs": [],
   "source": [
    "city_name = \"Melbourne\""
   ]
  },
  {
   "cell_type": "code",
   "execution_count": 3,
   "id": "94c17ec4",
   "metadata": {},
   "outputs": [
    {
     "data": {
      "text/plain": [
       "'e'"
      ]
     },
     "execution_count": 3,
     "metadata": {},
     "output_type": "execute_result"
    }
   ],
   "source": [
    "city_name[1]"
   ]
  },
  {
   "cell_type": "code",
   "execution_count": 4,
   "id": "b67d06af",
   "metadata": {},
   "outputs": [
    {
     "data": {
      "text/plain": [
       "'M'"
      ]
     },
     "execution_count": 4,
     "metadata": {},
     "output_type": "execute_result"
    }
   ],
   "source": [
    "city_name[0]"
   ]
  },
  {
   "cell_type": "code",
   "execution_count": 5,
   "id": "220b72a1",
   "metadata": {},
   "outputs": [
    {
     "data": {
      "text/plain": [
       "'MELBOURNE'"
      ]
     },
     "execution_count": 5,
     "metadata": {},
     "output_type": "execute_result"
    }
   ],
   "source": [
    "city_name.upper()"
   ]
  },
  {
   "cell_type": "code",
   "execution_count": 6,
   "id": "1b5250f5",
   "metadata": {},
   "outputs": [
    {
     "data": {
      "text/plain": [
       "'melbourne'"
      ]
     },
     "execution_count": 6,
     "metadata": {},
     "output_type": "execute_result"
    }
   ],
   "source": [
    "city_name.lower()"
   ]
  },
  {
   "cell_type": "code",
   "execution_count": 8,
   "id": "64fa2069",
   "metadata": {},
   "outputs": [],
   "source": [
    "city_name=\"meblourne\""
   ]
  },
  {
   "cell_type": "code",
   "execution_count": 9,
   "id": "3dea8598",
   "metadata": {},
   "outputs": [
    {
     "data": {
      "text/plain": [
       "'Meblourne'"
      ]
     },
     "execution_count": 9,
     "metadata": {},
     "output_type": "execute_result"
    }
   ],
   "source": [
    "city_name.capitalize()"
   ]
  },
  {
   "cell_type": "code",
   "execution_count": 11,
   "id": "b0d450d7",
   "metadata": {},
   "outputs": [
    {
     "data": {
      "text/plain": [
       "'kkkkkkkkkkkkkkkkkkkkkkkkkkkkkkkkkkkkkkkkkkkkkmeblournekkkkkkkkkkkkkkkkkkkkkkkkkkkkkkkkkkkkkkkkkkkkkk'"
      ]
     },
     "execution_count": 11,
     "metadata": {},
     "output_type": "execute_result"
    }
   ],
   "source": [
    "city_name.center(100,\"k\")"
   ]
  },
  {
   "cell_type": "code",
   "execution_count": 12,
   "id": "b9eaad6a",
   "metadata": {},
   "outputs": [
    {
     "data": {
      "text/plain": [
       "2"
      ]
     },
     "execution_count": 12,
     "metadata": {},
     "output_type": "execute_result"
    }
   ],
   "source": [
    "city_name.count('e')"
   ]
  },
  {
   "cell_type": "code",
   "execution_count": 13,
   "id": "9d0800d4",
   "metadata": {},
   "outputs": [
    {
     "data": {
      "text/plain": [
       "0"
      ]
     },
     "execution_count": 13,
     "metadata": {},
     "output_type": "execute_result"
    }
   ],
   "source": [
    "city_name.find('m')"
   ]
  },
  {
   "cell_type": "code",
   "execution_count": 14,
   "id": "ecbd7127",
   "metadata": {},
   "outputs": [
    {
     "data": {
      "text/plain": [
       "1"
      ]
     },
     "execution_count": 14,
     "metadata": {},
     "output_type": "execute_result"
    }
   ],
   "source": [
    "city_name.index('e')"
   ]
  },
  {
   "cell_type": "code",
   "execution_count": 16,
   "id": "9e88e0db",
   "metadata": {},
   "outputs": [
    {
     "data": {
      "text/plain": [
       "False"
      ]
     },
     "execution_count": 16,
     "metadata": {},
     "output_type": "execute_result"
    }
   ],
   "source": [
    "city_name.endswith('l')"
   ]
  },
  {
   "cell_type": "code",
   "execution_count": 17,
   "id": "f38396cd",
   "metadata": {},
   "outputs": [
    {
     "data": {
      "text/plain": [
       "True"
      ]
     },
     "execution_count": 17,
     "metadata": {},
     "output_type": "execute_result"
    }
   ],
   "source": [
    "city_name.endswith('e')"
   ]
  },
  {
   "cell_type": "code",
   "execution_count": 18,
   "id": "169ea8e5",
   "metadata": {},
   "outputs": [
    {
     "data": {
      "text/plain": [
       "9"
      ]
     },
     "execution_count": 18,
     "metadata": {},
     "output_type": "execute_result"
    }
   ],
   "source": [
    "len(city_name)"
   ]
  },
  {
   "cell_type": "code",
   "execution_count": 24,
   "id": "abb19e3a",
   "metadata": {},
   "outputs": [],
   "source": [
    "city_name='melbourne'"
   ]
  },
  {
   "cell_type": "code",
   "execution_count": 25,
   "id": "74784cb0",
   "metadata": {},
   "outputs": [
    {
     "data": {
      "text/plain": [
       "True"
      ]
     },
     "execution_count": 25,
     "metadata": {},
     "output_type": "execute_result"
    }
   ],
   "source": [
    "city_name.islower()"
   ]
  },
  {
   "cell_type": "code",
   "execution_count": 26,
   "id": "380e0427",
   "metadata": {},
   "outputs": [
    {
     "data": {
      "text/plain": [
       "False"
      ]
     },
     "execution_count": 26,
     "metadata": {},
     "output_type": "execute_result"
    }
   ],
   "source": [
    "city_name.isupper()"
   ]
  },
  {
   "cell_type": "code",
   "execution_count": 27,
   "id": "d887abc7",
   "metadata": {},
   "outputs": [
    {
     "data": {
      "text/plain": [
       "False"
      ]
     },
     "execution_count": 27,
     "metadata": {},
     "output_type": "execute_result"
    }
   ],
   "source": [
    "city_name.isdigit()"
   ]
  },
  {
   "cell_type": "code",
   "execution_count": 28,
   "id": "2ce7dc15",
   "metadata": {},
   "outputs": [],
   "source": [
    "num='1'"
   ]
  },
  {
   "cell_type": "code",
   "execution_count": 29,
   "id": "0d13397b",
   "metadata": {},
   "outputs": [
    {
     "data": {
      "text/plain": [
       "True"
      ]
     },
     "execution_count": 29,
     "metadata": {},
     "output_type": "execute_result"
    }
   ],
   "source": [
    "num.isdigit()"
   ]
  },
  {
   "cell_type": "code",
   "execution_count": 30,
   "id": "4825b12f",
   "metadata": {},
   "outputs": [
    {
     "ename": "ValueError",
     "evalue": "invalid literal for int() with base 10: 'melbourne'",
     "output_type": "error",
     "traceback": [
      "\u001b[1;31m---------------------------------------------------------------------------\u001b[0m",
      "\u001b[1;31mValueError\u001b[0m                                Traceback (most recent call last)",
      "\u001b[1;32m~\\AppData\\Local\\Temp/ipykernel_15488/2463356699.py\u001b[0m in \u001b[0;36m<module>\u001b[1;34m\u001b[0m\n\u001b[1;32m----> 1\u001b[1;33m \u001b[0mint\u001b[0m\u001b[1;33m(\u001b[0m\u001b[0mcity_name\u001b[0m\u001b[1;33m)\u001b[0m\u001b[1;33m\u001b[0m\u001b[1;33m\u001b[0m\u001b[0m\n\u001b[0m",
      "\u001b[1;31mValueError\u001b[0m: invalid literal for int() with base 10: 'melbourne'"
     ]
    }
   ],
   "source": [
    "int(city_name)"
   ]
  },
  {
   "cell_type": "code",
   "execution_count": 31,
   "id": "681a2e60",
   "metadata": {},
   "outputs": [
    {
     "data": {
      "text/plain": [
       "'melbourne'"
      ]
     },
     "execution_count": 31,
     "metadata": {},
     "output_type": "execute_result"
    }
   ],
   "source": [
    "city_name"
   ]
  },
  {
   "cell_type": "code",
   "execution_count": 32,
   "id": "51fa7078",
   "metadata": {},
   "outputs": [
    {
     "data": {
      "text/plain": [
       "'1'"
      ]
     },
     "execution_count": 32,
     "metadata": {},
     "output_type": "execute_result"
    }
   ],
   "source": [
    "num"
   ]
  },
  {
   "cell_type": "code",
   "execution_count": 33,
   "id": "07823457",
   "metadata": {},
   "outputs": [
    {
     "data": {
      "text/plain": [
       "1"
      ]
     },
     "execution_count": 33,
     "metadata": {},
     "output_type": "execute_result"
    }
   ],
   "source": [
    "int(num)"
   ]
  },
  {
   "cell_type": "code",
   "execution_count": null,
   "id": "0e1dcbf0",
   "metadata": {},
   "outputs": [],
   "source": [
    "city_name.lower()"
   ]
  },
  {
   "cell_type": "code",
   "execution_count": 34,
   "id": "60b794b1",
   "metadata": {},
   "outputs": [
    {
     "data": {
      "text/plain": [
       "'melbourne'"
      ]
     },
     "execution_count": 34,
     "metadata": {},
     "output_type": "execute_result"
    }
   ],
   "source": [
    "city_name"
   ]
  },
  {
   "cell_type": "code",
   "execution_count": 36,
   "id": "da395d20",
   "metadata": {},
   "outputs": [
    {
     "data": {
      "text/plain": [
       "'celbourne'"
      ]
     },
     "execution_count": 36,
     "metadata": {},
     "output_type": "execute_result"
    }
   ],
   "source": [
    "city_name.replace('m','c')"
   ]
  },
  {
   "cell_type": "code",
   "execution_count": 41,
   "id": "95688247",
   "metadata": {},
   "outputs": [
    {
     "data": {
      "text/plain": [
       "'melbourne'"
      ]
     },
     "execution_count": 41,
     "metadata": {},
     "output_type": "execute_result"
    }
   ],
   "source": [
    "city_name"
   ]
  },
  {
   "cell_type": "code",
   "execution_count": 44,
   "id": "1dc17bb4",
   "metadata": {},
   "outputs": [],
   "source": [
    "city_name_new=city_name.replace('mel','bel')"
   ]
  },
  {
   "cell_type": "code",
   "execution_count": 45,
   "id": "bae95019",
   "metadata": {},
   "outputs": [
    {
     "data": {
      "text/plain": [
       "'belbourne'"
      ]
     },
     "execution_count": 45,
     "metadata": {},
     "output_type": "execute_result"
    }
   ],
   "source": [
    "city_name_new"
   ]
  },
  {
   "cell_type": "code",
   "execution_count": 47,
   "id": "cbaf10ea",
   "metadata": {},
   "outputs": [
    {
     "data": {
      "text/plain": [
       "['mel', 'ourne']"
      ]
     },
     "execution_count": 47,
     "metadata": {},
     "output_type": "execute_result"
    }
   ],
   "source": [
    "city_name.split('b')"
   ]
  },
  {
   "cell_type": "code",
   "execution_count": 48,
   "id": "5682b0b5",
   "metadata": {},
   "outputs": [],
   "source": [
    "# lsit"
   ]
  },
  {
   "cell_type": "code",
   "execution_count": 49,
   "id": "a93795ae",
   "metadata": {},
   "outputs": [],
   "source": [
    "lis=[123,2,31,1.0,'hello world']"
   ]
  },
  {
   "cell_type": "code",
   "execution_count": 50,
   "id": "94663cbf",
   "metadata": {},
   "outputs": [
    {
     "data": {
      "text/plain": [
       "2"
      ]
     },
     "execution_count": 50,
     "metadata": {},
     "output_type": "execute_result"
    }
   ],
   "source": [
    "lis[1]"
   ]
  },
  {
   "cell_type": "code",
   "execution_count": 51,
   "id": "2cbfb934",
   "metadata": {},
   "outputs": [
    {
     "data": {
      "text/plain": [
       "123"
      ]
     },
     "execution_count": 51,
     "metadata": {},
     "output_type": "execute_result"
    }
   ],
   "source": [
    "lis[0]"
   ]
  },
  {
   "cell_type": "code",
   "execution_count": 52,
   "id": "83eca298",
   "metadata": {},
   "outputs": [
    {
     "data": {
      "text/plain": [
       "'hello world'"
      ]
     },
     "execution_count": 52,
     "metadata": {},
     "output_type": "execute_result"
    }
   ],
   "source": [
    "lis.pop()"
   ]
  },
  {
   "cell_type": "code",
   "execution_count": 53,
   "id": "b6e9efdd",
   "metadata": {},
   "outputs": [
    {
     "data": {
      "text/plain": [
       "[123, 2, 31, 1.0]"
      ]
     },
     "execution_count": 53,
     "metadata": {},
     "output_type": "execute_result"
    }
   ],
   "source": [
    "lis"
   ]
  },
  {
   "cell_type": "code",
   "execution_count": 54,
   "id": "c7acf6a5",
   "metadata": {},
   "outputs": [
    {
     "data": {
      "text/plain": [
       "1.0"
      ]
     },
     "execution_count": 54,
     "metadata": {},
     "output_type": "execute_result"
    }
   ],
   "source": [
    "lis.pop()"
   ]
  },
  {
   "cell_type": "code",
   "execution_count": 55,
   "id": "add0e79d",
   "metadata": {},
   "outputs": [
    {
     "data": {
      "text/plain": [
       "[123, 2, 31]"
      ]
     },
     "execution_count": 55,
     "metadata": {},
     "output_type": "execute_result"
    }
   ],
   "source": [
    "lis"
   ]
  },
  {
   "cell_type": "code",
   "execution_count": 56,
   "id": "a8cab13c",
   "metadata": {},
   "outputs": [
    {
     "data": {
      "text/plain": [
       "list"
      ]
     },
     "execution_count": 56,
     "metadata": {},
     "output_type": "execute_result"
    }
   ],
   "source": [
    "type(lis)"
   ]
  },
  {
   "cell_type": "code",
   "execution_count": 57,
   "id": "2c964e76",
   "metadata": {},
   "outputs": [
    {
     "data": {
      "text/plain": [
       "int"
      ]
     },
     "execution_count": 57,
     "metadata": {},
     "output_type": "execute_result"
    }
   ],
   "source": [
    "type(lis[1])"
   ]
  },
  {
   "cell_type": "code",
   "execution_count": 58,
   "id": "8fdcbb4f",
   "metadata": {},
   "outputs": [],
   "source": [
    "lis.clear()"
   ]
  },
  {
   "cell_type": "code",
   "execution_count": 59,
   "id": "fc62b91d",
   "metadata": {},
   "outputs": [
    {
     "data": {
      "text/plain": [
       "[]"
      ]
     },
     "execution_count": 59,
     "metadata": {},
     "output_type": "execute_result"
    }
   ],
   "source": [
    "lis"
   ]
  },
  {
   "cell_type": "code",
   "execution_count": 60,
   "id": "67860689",
   "metadata": {},
   "outputs": [],
   "source": [
    "numeric_lis = [12,3,42,1,4,2,6,7,9]"
   ]
  },
  {
   "cell_type": "code",
   "execution_count": 61,
   "id": "6a356a15",
   "metadata": {},
   "outputs": [
    {
     "data": {
      "text/plain": [
       "42"
      ]
     },
     "execution_count": 61,
     "metadata": {},
     "output_type": "execute_result"
    }
   ],
   "source": [
    "max(numeric_lis)"
   ]
  },
  {
   "cell_type": "code",
   "execution_count": 62,
   "id": "4549b70b",
   "metadata": {},
   "outputs": [
    {
     "data": {
      "text/plain": [
       "1"
      ]
     },
     "execution_count": 62,
     "metadata": {},
     "output_type": "execute_result"
    }
   ],
   "source": [
    "min(numeric_lis)"
   ]
  },
  {
   "cell_type": "code",
   "execution_count": 63,
   "id": "dcfb7a35",
   "metadata": {},
   "outputs": [],
   "source": [
    "numeric_lis.sort()"
   ]
  },
  {
   "cell_type": "code",
   "execution_count": 64,
   "id": "1ca1c69b",
   "metadata": {},
   "outputs": [
    {
     "data": {
      "text/plain": [
       "[1, 2, 3, 4, 6, 7, 9, 12, 42]"
      ]
     },
     "execution_count": 64,
     "metadata": {},
     "output_type": "execute_result"
    }
   ],
   "source": [
    "numeric_lis"
   ]
  },
  {
   "cell_type": "code",
   "execution_count": 65,
   "id": "7d42b1c6",
   "metadata": {},
   "outputs": [],
   "source": [
    "numeric_lis.sort(reverse=True)"
   ]
  },
  {
   "cell_type": "code",
   "execution_count": 66,
   "id": "53895655",
   "metadata": {},
   "outputs": [
    {
     "data": {
      "text/plain": [
       "[42, 12, 9, 7, 6, 4, 3, 2, 1]"
      ]
     },
     "execution_count": 66,
     "metadata": {},
     "output_type": "execute_result"
    }
   ],
   "source": [
    "numeric_lis"
   ]
  },
  {
   "cell_type": "code",
   "execution_count": 67,
   "id": "78a01630",
   "metadata": {},
   "outputs": [],
   "source": [
    "numeric_lis.append(\"Hello World\")"
   ]
  },
  {
   "cell_type": "code",
   "execution_count": 68,
   "id": "308ca958",
   "metadata": {},
   "outputs": [
    {
     "data": {
      "text/plain": [
       "[42, 12, 9, 7, 6, 4, 3, 2, 1, 'Hello World']"
      ]
     },
     "execution_count": 68,
     "metadata": {},
     "output_type": "execute_result"
    }
   ],
   "source": [
    "numeric_lis"
   ]
  },
  {
   "cell_type": "code",
   "execution_count": 70,
   "id": "32e25e4a",
   "metadata": {},
   "outputs": [],
   "source": [
    "numeric_lis.append('hello')"
   ]
  },
  {
   "cell_type": "code",
   "execution_count": 71,
   "id": "550ba0cf",
   "metadata": {},
   "outputs": [
    {
     "data": {
      "text/plain": [
       "[42, 12, 9, 7, 6, 4, 3, 2, 1, 'Hello World', 'hello']"
      ]
     },
     "execution_count": 71,
     "metadata": {},
     "output_type": "execute_result"
    }
   ],
   "source": [
    "numeric_lis"
   ]
  },
  {
   "cell_type": "code",
   "execution_count": 72,
   "id": "f1586d80",
   "metadata": {},
   "outputs": [],
   "source": [
    "numeric_lis.append([\"helo\",'world'])"
   ]
  },
  {
   "cell_type": "code",
   "execution_count": 73,
   "id": "a7e901cb",
   "metadata": {},
   "outputs": [
    {
     "data": {
      "text/plain": [
       "[42, 12, 9, 7, 6, 4, 3, 2, 1, 'Hello World', 'hello', ['helo', 'world']]"
      ]
     },
     "execution_count": 73,
     "metadata": {},
     "output_type": "execute_result"
    }
   ],
   "source": [
    "numeric_lis"
   ]
  },
  {
   "cell_type": "code",
   "execution_count": 74,
   "id": "9d98408c",
   "metadata": {},
   "outputs": [
    {
     "data": {
      "text/plain": [
       "7"
      ]
     },
     "execution_count": 74,
     "metadata": {},
     "output_type": "execute_result"
    }
   ],
   "source": [
    "numeric_lis[3]"
   ]
  },
  {
   "cell_type": "code",
   "execution_count": 75,
   "id": "b368bad0",
   "metadata": {},
   "outputs": [],
   "source": [
    "numeric_lis.insert(3,\"bbye\")"
   ]
  },
  {
   "cell_type": "code",
   "execution_count": 76,
   "id": "a35eaf21",
   "metadata": {},
   "outputs": [
    {
     "data": {
      "text/plain": [
       "'bbye'"
      ]
     },
     "execution_count": 76,
     "metadata": {},
     "output_type": "execute_result"
    }
   ],
   "source": [
    "numeric_lis[3]"
   ]
  },
  {
   "cell_type": "code",
   "execution_count": 77,
   "id": "270c469a",
   "metadata": {},
   "outputs": [
    {
     "data": {
      "text/plain": [
       "7"
      ]
     },
     "execution_count": 77,
     "metadata": {},
     "output_type": "execute_result"
    }
   ],
   "source": [
    "numeric_lis[4]"
   ]
  },
  {
   "cell_type": "code",
   "execution_count": 78,
   "id": "e8421635",
   "metadata": {},
   "outputs": [],
   "source": [
    "numeric_lis.extend(\"This is extend\")"
   ]
  },
  {
   "cell_type": "code",
   "execution_count": 79,
   "id": "c955a0c8",
   "metadata": {},
   "outputs": [
    {
     "data": {
      "text/plain": [
       "[42,\n",
       " 12,\n",
       " 9,\n",
       " 'bbye',\n",
       " 7,\n",
       " 6,\n",
       " 4,\n",
       " 3,\n",
       " 2,\n",
       " 1,\n",
       " 'Hello World',\n",
       " 'hello',\n",
       " ['helo', 'world'],\n",
       " 'T',\n",
       " 'h',\n",
       " 'i',\n",
       " 's',\n",
       " ' ',\n",
       " 'i',\n",
       " 's',\n",
       " ' ',\n",
       " 'e',\n",
       " 'x',\n",
       " 't',\n",
       " 'e',\n",
       " 'n',\n",
       " 'd']"
      ]
     },
     "execution_count": 79,
     "metadata": {},
     "output_type": "execute_result"
    }
   ],
   "source": [
    "numeric_lis"
   ]
  },
  {
   "cell_type": "code",
   "execution_count": 80,
   "id": "2fe44f9d",
   "metadata": {},
   "outputs": [],
   "source": [
    "numeric_lis.extend([\"Hello\",'This','is','my',\"work\",1,2,3.54])"
   ]
  },
  {
   "cell_type": "code",
   "execution_count": 82,
   "id": "91410a26",
   "metadata": {},
   "outputs": [
    {
     "data": {
      "text/plain": [
       "27"
      ]
     },
     "execution_count": 82,
     "metadata": {},
     "output_type": "execute_result"
    }
   ],
   "source": [
    "numeric_lis.index(\"Hello\")"
   ]
  },
  {
   "cell_type": "code",
   "execution_count": 85,
   "id": "16f7bfbc",
   "metadata": {},
   "outputs": [
    {
     "data": {
      "text/plain": [
       "11"
      ]
     },
     "execution_count": 85,
     "metadata": {},
     "output_type": "execute_result"
    }
   ],
   "source": [
    "numeric_lis.index('hello')"
   ]
  },
  {
   "cell_type": "code",
   "execution_count": 86,
   "id": "b0d9a19b",
   "metadata": {},
   "outputs": [
    {
     "data": {
      "text/plain": [
       "0"
      ]
     },
     "execution_count": 86,
     "metadata": {},
     "output_type": "execute_result"
    }
   ],
   "source": [
    "numeric_lis.index(42)"
   ]
  },
  {
   "cell_type": "code",
   "execution_count": 87,
   "id": "ddf9d44d",
   "metadata": {},
   "outputs": [
    {
     "data": {
      "text/plain": [
       "35"
      ]
     },
     "execution_count": 87,
     "metadata": {},
     "output_type": "execute_result"
    }
   ],
   "source": [
    "len(numeric_lis)"
   ]
  },
  {
   "cell_type": "code",
   "execution_count": 88,
   "id": "3cd1b82a",
   "metadata": {},
   "outputs": [],
   "source": [
    "lis1=[1,2]\n",
    "lis2=[3,4]\n",
    "lis3=lis1+lis2"
   ]
  },
  {
   "cell_type": "code",
   "execution_count": 89,
   "id": "00d53231",
   "metadata": {},
   "outputs": [
    {
     "data": {
      "text/plain": [
       "[1, 2, 3, 4]"
      ]
     },
     "execution_count": 89,
     "metadata": {},
     "output_type": "execute_result"
    }
   ],
   "source": [
    "lis3"
   ]
  },
  {
   "cell_type": "code",
   "execution_count": 90,
   "id": "50f05355",
   "metadata": {},
   "outputs": [],
   "source": [
    "# tuple"
   ]
  },
  {
   "cell_type": "code",
   "execution_count": 91,
   "id": "f4bdef30",
   "metadata": {},
   "outputs": [],
   "source": [
    "tup =(1,2,3,'hello')"
   ]
  },
  {
   "cell_type": "code",
   "execution_count": 92,
   "id": "86d2476b",
   "metadata": {},
   "outputs": [
    {
     "data": {
      "text/plain": [
       "1"
      ]
     },
     "execution_count": 92,
     "metadata": {},
     "output_type": "execute_result"
    }
   ],
   "source": [
    "tup.count(1)"
   ]
  },
  {
   "cell_type": "code",
   "execution_count": 93,
   "id": "e07ae76c",
   "metadata": {},
   "outputs": [
    {
     "data": {
      "text/plain": [
       "1"
      ]
     },
     "execution_count": 93,
     "metadata": {},
     "output_type": "execute_result"
    }
   ],
   "source": [
    "tup.index(2)"
   ]
  },
  {
   "cell_type": "code",
   "execution_count": 94,
   "id": "844ad114",
   "metadata": {},
   "outputs": [
    {
     "data": {
      "text/plain": [
       "4"
      ]
     },
     "execution_count": 94,
     "metadata": {},
     "output_type": "execute_result"
    }
   ],
   "source": [
    "len(tup)"
   ]
  },
  {
   "cell_type": "code",
   "execution_count": 102,
   "id": "c7392d55",
   "metadata": {},
   "outputs": [],
   "source": [
    "tup=(1,2,3,4,5,\"True\")"
   ]
  },
  {
   "cell_type": "code",
   "execution_count": 103,
   "id": "b75bd03b",
   "metadata": {},
   "outputs": [
    {
     "ename": "TypeError",
     "evalue": "unsupported operand type(s) for +: 'int' and 'str'",
     "output_type": "error",
     "traceback": [
      "\u001b[1;31m---------------------------------------------------------------------------\u001b[0m",
      "\u001b[1;31mTypeError\u001b[0m                                 Traceback (most recent call last)",
      "\u001b[1;32m~\\AppData\\Local\\Temp/ipykernel_15488/2125252103.py\u001b[0m in \u001b[0;36m<module>\u001b[1;34m\u001b[0m\n\u001b[1;32m----> 1\u001b[1;33m \u001b[0msum\u001b[0m\u001b[1;33m(\u001b[0m\u001b[0mtup\u001b[0m\u001b[1;33m)\u001b[0m\u001b[1;33m\u001b[0m\u001b[1;33m\u001b[0m\u001b[0m\n\u001b[0m",
      "\u001b[1;31mTypeError\u001b[0m: unsupported operand type(s) for +: 'int' and 'str'"
     ]
    }
   ],
   "source": [
    "sum(tup)"
   ]
  },
  {
   "cell_type": "code",
   "execution_count": 104,
   "id": "685b5b29",
   "metadata": {},
   "outputs": [
    {
     "data": {
      "text/plain": [
       "1"
      ]
     },
     "execution_count": 104,
     "metadata": {},
     "output_type": "execute_result"
    }
   ],
   "source": [
    "int(True)"
   ]
  },
  {
   "cell_type": "code",
   "execution_count": 105,
   "id": "410d8fd8",
   "metadata": {},
   "outputs": [
    {
     "data": {
      "text/plain": [
       "0"
      ]
     },
     "execution_count": 105,
     "metadata": {},
     "output_type": "execute_result"
    }
   ],
   "source": [
    "int(False)"
   ]
  },
  {
   "cell_type": "code",
   "execution_count": 106,
   "id": "18cdca88",
   "metadata": {},
   "outputs": [],
   "source": [
    "l=[1,22,3,4]"
   ]
  },
  {
   "cell_type": "code",
   "execution_count": 108,
   "id": "fa9a8ebb",
   "metadata": {},
   "outputs": [
    {
     "data": {
      "text/plain": [
       "30"
      ]
     },
     "execution_count": 108,
     "metadata": {},
     "output_type": "execute_result"
    }
   ],
   "source": [
    "sum(l)"
   ]
  },
  {
   "cell_type": "code",
   "execution_count": 113,
   "id": "9c1170eb",
   "metadata": {},
   "outputs": [],
   "source": [
    "tup1=(1,2,34,54,100,2,5,4)"
   ]
  },
  {
   "cell_type": "code",
   "execution_count": 114,
   "id": "b305f79e",
   "metadata": {},
   "outputs": [
    {
     "data": {
      "text/plain": [
       "[1, 2, 2, 4, 5, 34, 54, 100]"
      ]
     },
     "execution_count": 114,
     "metadata": {},
     "output_type": "execute_result"
    }
   ],
   "source": [
    "sorted(tup1)"
   ]
  },
  {
   "cell_type": "code",
   "execution_count": 115,
   "id": "7cf607a8",
   "metadata": {},
   "outputs": [
    {
     "data": {
      "text/plain": [
       "True"
      ]
     },
     "execution_count": 115,
     "metadata": {},
     "output_type": "execute_result"
    }
   ],
   "source": [
    "any(tup1)"
   ]
  },
  {
   "cell_type": "code",
   "execution_count": 116,
   "id": "d98c4f78",
   "metadata": {},
   "outputs": [],
   "source": [
    "tup__=()"
   ]
  },
  {
   "cell_type": "code",
   "execution_count": 117,
   "id": "ddc66b69",
   "metadata": {},
   "outputs": [
    {
     "data": {
      "text/plain": [
       "()"
      ]
     },
     "execution_count": 117,
     "metadata": {},
     "output_type": "execute_result"
    }
   ],
   "source": [
    "tup__"
   ]
  },
  {
   "cell_type": "code",
   "execution_count": 118,
   "id": "f98cf36d",
   "metadata": {},
   "outputs": [
    {
     "data": {
      "text/plain": [
       "False"
      ]
     },
     "execution_count": 118,
     "metadata": {},
     "output_type": "execute_result"
    }
   ],
   "source": [
    "any(tup__)"
   ]
  },
  {
   "cell_type": "code",
   "execution_count": 119,
   "id": "ed05a5c0",
   "metadata": {},
   "outputs": [],
   "source": [
    "l=[]"
   ]
  },
  {
   "cell_type": "code",
   "execution_count": 120,
   "id": "04c093a5",
   "metadata": {},
   "outputs": [
    {
     "data": {
      "text/plain": [
       "False"
      ]
     },
     "execution_count": 120,
     "metadata": {},
     "output_type": "execute_result"
    }
   ],
   "source": [
    "any(l)"
   ]
  },
  {
   "cell_type": "code",
   "execution_count": 121,
   "id": "199402d2",
   "metadata": {},
   "outputs": [],
   "source": [
    "l=[1]"
   ]
  },
  {
   "cell_type": "code",
   "execution_count": 122,
   "id": "32996021",
   "metadata": {},
   "outputs": [
    {
     "data": {
      "text/plain": [
       "True"
      ]
     },
     "execution_count": 122,
     "metadata": {},
     "output_type": "execute_result"
    }
   ],
   "source": [
    "any(l)"
   ]
  },
  {
   "cell_type": "code",
   "execution_count": 123,
   "id": "1a0b0e06",
   "metadata": {},
   "outputs": [],
   "source": [
    "# Dictornary"
   ]
  },
  {
   "cell_type": "code",
   "execution_count": 124,
   "id": "d932b517",
   "metadata": {},
   "outputs": [],
   "source": [
    "c"
   ]
  },
  {
   "cell_type": "code",
   "execution_count": 125,
   "id": "e7df6b19",
   "metadata": {},
   "outputs": [
    {
     "data": {
      "text/plain": [
       "dict_keys(['hi', 'hello'])"
      ]
     },
     "execution_count": 125,
     "metadata": {},
     "output_type": "execute_result"
    }
   ],
   "source": [
    "dic.keys()"
   ]
  },
  {
   "cell_type": "code",
   "execution_count": 126,
   "id": "cb49d0f9",
   "metadata": {},
   "outputs": [
    {
     "data": {
      "text/plain": [
       "dict_values(['bye', 'bbye'])"
      ]
     },
     "execution_count": 126,
     "metadata": {},
     "output_type": "execute_result"
    }
   ],
   "source": [
    "dic.values()"
   ]
  },
  {
   "cell_type": "code",
   "execution_count": 127,
   "id": "fa13ea7b",
   "metadata": {},
   "outputs": [],
   "source": [
    "dic.clear()"
   ]
  },
  {
   "cell_type": "code",
   "execution_count": 128,
   "id": "e4e2cab5",
   "metadata": {},
   "outputs": [
    {
     "data": {
      "text/plain": [
       "{}"
      ]
     },
     "execution_count": 128,
     "metadata": {},
     "output_type": "execute_result"
    }
   ],
   "source": [
    "dic"
   ]
  },
  {
   "cell_type": "code",
   "execution_count": 129,
   "id": "5e84dfb6",
   "metadata": {},
   "outputs": [],
   "source": [
    "dic={'hi':'bye','hello':'bbye'}"
   ]
  },
  {
   "cell_type": "code",
   "execution_count": 130,
   "id": "45505b7e",
   "metadata": {},
   "outputs": [],
   "source": [
    "dict1 = {'a': 1, 'b': 2}\n",
    "dict2 = {'b': 3, 'c': 4}"
   ]
  },
  {
   "cell_type": "code",
   "execution_count": 131,
   "id": "83284875",
   "metadata": {},
   "outputs": [
    {
     "data": {
      "text/plain": [
       "{'a': 1, 'b': 2}"
      ]
     },
     "execution_count": 131,
     "metadata": {},
     "output_type": "execute_result"
    }
   ],
   "source": [
    "dict1"
   ]
  },
  {
   "cell_type": "code",
   "execution_count": 132,
   "id": "4e6f57ea",
   "metadata": {},
   "outputs": [],
   "source": [
    "dict1.update(dict2)"
   ]
  },
  {
   "cell_type": "code",
   "execution_count": 133,
   "id": "5d347097",
   "metadata": {},
   "outputs": [
    {
     "data": {
      "text/plain": [
       "{'a': 1, 'b': 3, 'c': 4}"
      ]
     },
     "execution_count": 133,
     "metadata": {},
     "output_type": "execute_result"
    }
   ],
   "source": [
    "dict1"
   ]
  },
  {
   "cell_type": "code",
   "execution_count": 134,
   "id": "6d64bfad",
   "metadata": {},
   "outputs": [],
   "source": [
    "keys = ['x', 'y', 'z']\n",
    "default_value = 0"
   ]
  },
  {
   "cell_type": "code",
   "execution_count": 135,
   "id": "c1831474",
   "metadata": {},
   "outputs": [],
   "source": [
    "dict3={}"
   ]
  },
  {
   "cell_type": "code",
   "execution_count": 136,
   "id": "945ec87e",
   "metadata": {},
   "outputs": [
    {
     "data": {
      "text/plain": [
       "{'x': 0, 'y': 0, 'z': 0}"
      ]
     },
     "execution_count": 136,
     "metadata": {},
     "output_type": "execute_result"
    }
   ],
   "source": [
    "dict3.fromkeys(keys,default_value)"
   ]
  },
  {
   "cell_type": "code",
   "execution_count": 137,
   "id": "e82aa9bc",
   "metadata": {},
   "outputs": [
    {
     "data": {
      "text/plain": [
       "('c', 4)"
      ]
     },
     "execution_count": 137,
     "metadata": {},
     "output_type": "execute_result"
    }
   ],
   "source": [
    "dict1.popitem()"
   ]
  },
  {
   "cell_type": "code",
   "execution_count": 140,
   "id": "9fe16d7a",
   "metadata": {},
   "outputs": [
    {
     "data": {
      "text/plain": [
       "3"
      ]
     },
     "execution_count": 140,
     "metadata": {},
     "output_type": "execute_result"
    }
   ],
   "source": [
    "dict1.pop('b')"
   ]
  },
  {
   "cell_type": "code",
   "execution_count": 141,
   "id": "756de64e",
   "metadata": {},
   "outputs": [
    {
     "data": {
      "text/plain": [
       "{'a': 1}"
      ]
     },
     "execution_count": 141,
     "metadata": {},
     "output_type": "execute_result"
    }
   ],
   "source": [
    "dict1"
   ]
  },
  {
   "cell_type": "code",
   "execution_count": 145,
   "id": "802d409a",
   "metadata": {},
   "outputs": [
    {
     "data": {
      "text/plain": [
       "1"
      ]
     },
     "execution_count": 145,
     "metadata": {},
     "output_type": "execute_result"
    }
   ],
   "source": [
    "dict1.get('a')"
   ]
  },
  {
   "cell_type": "code",
   "execution_count": 146,
   "id": "d5ee0aba",
   "metadata": {},
   "outputs": [
    {
     "data": {
      "text/plain": [
       "1"
      ]
     },
     "execution_count": 146,
     "metadata": {},
     "output_type": "execute_result"
    }
   ],
   "source": [
    "dict1['a']"
   ]
  },
  {
   "cell_type": "code",
   "execution_count": 147,
   "id": "85cfb096",
   "metadata": {},
   "outputs": [],
   "source": [
    "# set"
   ]
  },
  {
   "cell_type": "code",
   "execution_count": 255,
   "id": "61e900ac",
   "metadata": {},
   "outputs": [],
   "source": [
    "my_set ={1,2,3,4,5}"
   ]
  },
  {
   "cell_type": "code",
   "execution_count": 256,
   "id": "c74fca14",
   "metadata": {},
   "outputs": [
    {
     "data": {
      "text/plain": [
       "{1, 2, 3, 4, 5}"
      ]
     },
     "execution_count": 256,
     "metadata": {},
     "output_type": "execute_result"
    }
   ],
   "source": [
    "my_set"
   ]
  },
  {
   "cell_type": "code",
   "execution_count": 257,
   "id": "cbcc9769",
   "metadata": {},
   "outputs": [],
   "source": [
    "my_set.add(6)"
   ]
  },
  {
   "cell_type": "code",
   "execution_count": 258,
   "id": "92a58f9f",
   "metadata": {},
   "outputs": [
    {
     "data": {
      "text/plain": [
       "{1, 2, 3, 4, 5, 6}"
      ]
     },
     "execution_count": 258,
     "metadata": {},
     "output_type": "execute_result"
    }
   ],
   "source": [
    "my_set"
   ]
  },
  {
   "cell_type": "code",
   "execution_count": 259,
   "id": "de99d3b5",
   "metadata": {},
   "outputs": [
    {
     "data": {
      "text/plain": [
       "1"
      ]
     },
     "execution_count": 259,
     "metadata": {},
     "output_type": "execute_result"
    }
   ],
   "source": [
    "my_set.pop()"
   ]
  },
  {
   "cell_type": "code",
   "execution_count": 260,
   "id": "5dbd3605",
   "metadata": {},
   "outputs": [
    {
     "data": {
      "text/plain": [
       "{2, 3, 4, 5, 6}"
      ]
     },
     "execution_count": 260,
     "metadata": {},
     "output_type": "execute_result"
    }
   ],
   "source": [
    "my_set"
   ]
  },
  {
   "cell_type": "code",
   "execution_count": 261,
   "id": "2e81e5ff",
   "metadata": {},
   "outputs": [],
   "source": [
    "my_set.discard(2)"
   ]
  },
  {
   "cell_type": "code",
   "execution_count": 262,
   "id": "000a66d0",
   "metadata": {},
   "outputs": [
    {
     "data": {
      "text/plain": [
       "{3, 4, 5, 6}"
      ]
     },
     "execution_count": 262,
     "metadata": {},
     "output_type": "execute_result"
    }
   ],
   "source": [
    "my_set"
   ]
  },
  {
   "cell_type": "code",
   "execution_count": 263,
   "id": "f328d287",
   "metadata": {},
   "outputs": [],
   "source": [
    "my_set.remove(3)"
   ]
  },
  {
   "cell_type": "code",
   "execution_count": 264,
   "id": "65ab80a5",
   "metadata": {},
   "outputs": [
    {
     "data": {
      "text/plain": [
       "{4, 5, 6}"
      ]
     },
     "execution_count": 264,
     "metadata": {},
     "output_type": "execute_result"
    }
   ],
   "source": [
    "my_set"
   ]
  },
  {
   "cell_type": "code",
   "execution_count": 265,
   "id": "05fc0c81",
   "metadata": {},
   "outputs": [],
   "source": [
    "set1={1,2,3,4}\n",
    "set2={7,5,6}\n",
    "set3=set1.union(set2)"
   ]
  },
  {
   "cell_type": "code",
   "execution_count": 266,
   "id": "c66512a8",
   "metadata": {},
   "outputs": [
    {
     "data": {
      "text/plain": [
       "{1, 2, 3, 4, 5, 6, 7}"
      ]
     },
     "execution_count": 266,
     "metadata": {},
     "output_type": "execute_result"
    }
   ],
   "source": [
    "set3"
   ]
  },
  {
   "cell_type": "code",
   "execution_count": 267,
   "id": "b6671b92",
   "metadata": {},
   "outputs": [],
   "source": [
    "set1 = {1, 2, 3}\n",
    "set2 = {3, 4, 5}\n",
    "intersection_set = set1.intersection(set2)"
   ]
  },
  {
   "cell_type": "code",
   "execution_count": 268,
   "id": "3f43a009",
   "metadata": {},
   "outputs": [
    {
     "data": {
      "text/plain": [
       "{3}"
      ]
     },
     "execution_count": 268,
     "metadata": {},
     "output_type": "execute_result"
    }
   ],
   "source": [
    "intersection_set"
   ]
  },
  {
   "cell_type": "code",
   "execution_count": 271,
   "id": "830d5992",
   "metadata": {},
   "outputs": [],
   "source": [
    "set1 = {1, 2, 3}\n",
    "set2 = {3, 4, 5}\n",
    "difference_set = set2.difference(set1)"
   ]
  },
  {
   "cell_type": "code",
   "execution_count": 272,
   "id": "237b1107",
   "metadata": {},
   "outputs": [
    {
     "data": {
      "text/plain": [
       "{4, 5}"
      ]
     },
     "execution_count": 272,
     "metadata": {},
     "output_type": "execute_result"
    }
   ],
   "source": [
    "difference_set"
   ]
  },
  {
   "cell_type": "code",
   "execution_count": 273,
   "id": "852446e9",
   "metadata": {},
   "outputs": [],
   "source": [
    "set1 = {1, 2, 3}\n",
    "set2 = {3, 4, 5}\n",
    "symmetric_difference_set = set1.symmetric_difference(set2)\n"
   ]
  },
  {
   "cell_type": "code",
   "execution_count": 274,
   "id": "0d300452",
   "metadata": {},
   "outputs": [
    {
     "data": {
      "text/plain": [
       "{1, 2, 4, 5}"
      ]
     },
     "execution_count": 274,
     "metadata": {},
     "output_type": "execute_result"
    }
   ],
   "source": [
    "symmetric_difference_set"
   ]
  },
  {
   "cell_type": "code",
   "execution_count": 275,
   "id": "ec5c61ad",
   "metadata": {},
   "outputs": [],
   "source": [
    "set.clear()"
   ]
  },
  {
   "cell_type": "code",
   "execution_count": null,
   "id": "824df5ec",
   "metadata": {},
   "outputs": [],
   "source": []
  }
 ],
 "metadata": {
  "kernelspec": {
   "display_name": "Python 3 (ipykernel)",
   "language": "python",
   "name": "python3"
  },
  "language_info": {
   "codemirror_mode": {
    "name": "ipython",
    "version": 3
   },
   "file_extension": ".py",
   "mimetype": "text/x-python",
   "name": "python",
   "nbconvert_exporter": "python",
   "pygments_lexer": "ipython3",
   "version": "3.9.7"
  }
 },
 "nbformat": 4,
 "nbformat_minor": 5
}
