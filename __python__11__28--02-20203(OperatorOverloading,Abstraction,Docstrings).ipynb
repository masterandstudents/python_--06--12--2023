{
 "cells": [
  {
   "cell_type": "code",
   "execution_count": 42,
   "id": "e4dfcac5",
   "metadata": {},
   "outputs": [],
   "source": [
    "from abc import ABC , abstractmethod"
   ]
  },
  {
   "cell_type": "code",
   "execution_count": 70,
   "id": "41e89a4d",
   "metadata": {},
   "outputs": [],
   "source": [
    "class Vehicle(ABC):\n",
    "    @abstractmethod\n",
    "    def engine(self):\n",
    "        pass\n",
    "    @abstractmethod #--> This is called decorator\n",
    "    def fuel_consumption(self):\n",
    "        pass\n",
    "    @abstractmethod\n",
    "    def topspeed(self):\n",
    "        pass\n",
    "#     This is your abstract class"
   ]
  },
  {
   "cell_type": "code",
   "execution_count": 77,
   "id": "3c219639",
   "metadata": {},
   "outputs": [],
   "source": [
    "class Car(Vehicle):\n",
    "    def engine(self):\n",
    "        print(\"The engine is good\")\n",
    "    def fuel_consumption(self):\n",
    "        print(\"The fuel consumption is medium\")\n",
    "    def topspeed(self):\n",
    "        print(\"The top speed is 30km/h\")"
   ]
  },
  {
   "cell_type": "code",
   "execution_count": 72,
   "id": "58f2557e",
   "metadata": {},
   "outputs": [],
   "source": [
    "class Truck(Vehicle):\n",
    "    def engine(self):\n",
    "        print(\"The engine is good\")\n",
    "    def fuel_consumption(self):\n",
    "        print(\"The fuel consumption is high\")"
   ]
  },
  {
   "cell_type": "code",
   "execution_count": 73,
   "id": "ee5d7258",
   "metadata": {},
   "outputs": [],
   "source": [
    "class Bike(Vehicle):\n",
    "    def engine(self):\n",
    "        print(\"The engine is good\")\n",
    "    def fuel_consumption(self):\n",
    "        print(\"The fuel consumption is low\")"
   ]
  },
  {
   "cell_type": "code",
   "execution_count": 79,
   "id": "c67409a0",
   "metadata": {},
   "outputs": [
    {
     "name": "stdout",
     "output_type": "stream",
     "text": [
      "The engine is good\n",
      "The fuel consumption is medium\n",
      "The top speed is 30km/h\n"
     ]
    }
   ],
   "source": [
    "car = Car()\n",
    "car.engine()\n",
    "car.fuel_consumption()\n",
    "car.topspeed()"
   ]
  },
  {
   "cell_type": "code",
   "execution_count": null,
   "id": "a0fc7000",
   "metadata": {},
   "outputs": [],
   "source": []
  },
  {
   "cell_type": "code",
   "execution_count": 80,
   "id": "d33b37af",
   "metadata": {},
   "outputs": [
    {
     "ename": "TypeError",
     "evalue": "Can't instantiate abstract class Bike with abstract method topspeed",
     "output_type": "error",
     "traceback": [
      "\u001b[1;31m---------------------------------------------------------------------------\u001b[0m",
      "\u001b[1;31mTypeError\u001b[0m                                 Traceback (most recent call last)",
      "\u001b[1;32m~\\AppData\\Local\\Temp/ipykernel_3544/3035384096.py\u001b[0m in \u001b[0;36m<module>\u001b[1;34m\u001b[0m\n\u001b[1;32m----> 1\u001b[1;33m \u001b[0mbike\u001b[0m \u001b[1;33m=\u001b[0m \u001b[0mBike\u001b[0m\u001b[1;33m(\u001b[0m\u001b[1;33m)\u001b[0m\u001b[1;33m\u001b[0m\u001b[1;33m\u001b[0m\u001b[0m\n\u001b[0m\u001b[0;32m      2\u001b[0m \u001b[0mbike\u001b[0m\u001b[1;33m.\u001b[0m\u001b[0mengine\u001b[0m\u001b[1;33m(\u001b[0m\u001b[1;33m)\u001b[0m\u001b[1;33m\u001b[0m\u001b[1;33m\u001b[0m\u001b[0m\n\u001b[0;32m      3\u001b[0m \u001b[0mbike\u001b[0m\u001b[1;33m.\u001b[0m\u001b[0mfuel_consumption\u001b[0m\u001b[1;33m(\u001b[0m\u001b[1;33m)\u001b[0m\u001b[1;33m\u001b[0m\u001b[1;33m\u001b[0m\u001b[0m\n",
      "\u001b[1;31mTypeError\u001b[0m: Can't instantiate abstract class Bike with abstract method topspeed"
     ]
    }
   ],
   "source": [
    "bike = Bike()\n",
    "bike.engine()\n",
    "bike.fuel_consumption()"
   ]
  },
  {
   "cell_type": "code",
   "execution_count": 81,
   "id": "0cc52c12",
   "metadata": {},
   "outputs": [
    {
     "ename": "TypeError",
     "evalue": "Can't instantiate abstract class Truck with abstract method topspeed",
     "output_type": "error",
     "traceback": [
      "\u001b[1;31m---------------------------------------------------------------------------\u001b[0m",
      "\u001b[1;31mTypeError\u001b[0m                                 Traceback (most recent call last)",
      "\u001b[1;32m~\\AppData\\Local\\Temp/ipykernel_3544/1917729436.py\u001b[0m in \u001b[0;36m<module>\u001b[1;34m\u001b[0m\n\u001b[1;32m----> 1\u001b[1;33m \u001b[0mtruck\u001b[0m \u001b[1;33m=\u001b[0m \u001b[0mTruck\u001b[0m\u001b[1;33m(\u001b[0m\u001b[1;33m)\u001b[0m\u001b[1;33m\u001b[0m\u001b[1;33m\u001b[0m\u001b[0m\n\u001b[0m\u001b[0;32m      2\u001b[0m \u001b[0mtruck\u001b[0m\u001b[1;33m.\u001b[0m\u001b[0mengine\u001b[0m\u001b[1;33m(\u001b[0m\u001b[1;33m)\u001b[0m\u001b[1;33m\u001b[0m\u001b[1;33m\u001b[0m\u001b[0m\n\u001b[0;32m      3\u001b[0m \u001b[0mtruck\u001b[0m\u001b[1;33m.\u001b[0m\u001b[0mfuel_consumption\u001b[0m\u001b[1;33m(\u001b[0m\u001b[1;33m)\u001b[0m\u001b[1;33m\u001b[0m\u001b[1;33m\u001b[0m\u001b[0m\n",
      "\u001b[1;31mTypeError\u001b[0m: Can't instantiate abstract class Truck with abstract method topspeed"
     ]
    }
   ],
   "source": [
    "truck = Truck()\n",
    "truck.engine()\n",
    "truck.fuel_consumption()"
   ]
  },
  {
   "cell_type": "code",
   "execution_count": 83,
   "id": "3bacf6c3",
   "metadata": {},
   "outputs": [
    {
     "data": {
      "text/plain": [
       "2"
      ]
     },
     "execution_count": 83,
     "metadata": {},
     "output_type": "execute_result"
    }
   ],
   "source": [
    "1+1"
   ]
  },
  {
   "cell_type": "code",
   "execution_count": 84,
   "id": "3d3278f0",
   "metadata": {},
   "outputs": [
    {
     "data": {
      "text/plain": [
       "'ss'"
      ]
     },
     "execution_count": 84,
     "metadata": {},
     "output_type": "execute_result"
    }
   ],
   "source": [
    "'s'+'s'"
   ]
  },
  {
   "cell_type": "code",
   "execution_count": 85,
   "id": "bee6cf50",
   "metadata": {},
   "outputs": [
    {
     "data": {
      "text/plain": [
       "[1, 2, 3, 4]"
      ]
     },
     "execution_count": 85,
     "metadata": {},
     "output_type": "execute_result"
    }
   ],
   "source": [
    "[1,2] + [3,4]"
   ]
  },
  {
   "cell_type": "code",
   "execution_count": 86,
   "id": "cea3d4ef",
   "metadata": {},
   "outputs": [
    {
     "data": {
      "text/plain": [
       "(1, 2, 3, 4)"
      ]
     },
     "execution_count": 86,
     "metadata": {},
     "output_type": "execute_result"
    }
   ],
   "source": [
    "(1,2) + (3,4)"
   ]
  },
  {
   "cell_type": "code",
   "execution_count": 96,
   "id": "c7a8b19a",
   "metadata": {},
   "outputs": [],
   "source": [
    "class Person:\n",
    "    \"\"\"A class representing a person with encapsulated attributes.and this class take two argues one is name and age with one method called as get_details \"\"\"\n",
    "\n",
    "    def __init__(self, name, age):\n",
    "        \"\"\"\n",
    "        Initialize a person.\n",
    "\n",
    "        Parameters:\n",
    "        - name (str): The name of the person.\n",
    "        - age (int): The age of the person.\n",
    "        \"\"\"\n",
    "        self.__name = name  # private attribute\n",
    "        self.__age = age    # private attribute\n",
    "\n",
    "    def get_details(self):\n",
    "        \"\"\"\n",
    "        Get the details of the person.\n",
    "\n",
    "        Returns:\n",
    "        str: A string containing the person's name and age.\n",
    "        \"\"\"\n",
    "        return f\"Name: {self.__name}, Age: {self.__age}\"\n",
    "    \n",
    "    def __str__(self):\n",
    "        return \"This is a person class\"\n"
   ]
  },
  {
   "cell_type": "code",
   "execution_count": 106,
   "id": "d8a0f1bb",
   "metadata": {},
   "outputs": [],
   "source": [
    "class Car:\n",
    "    def __str__(self):\n",
    "        return \"This is an car object\""
   ]
  },
  {
   "cell_type": "code",
   "execution_count": 107,
   "id": "c46d14c7",
   "metadata": {},
   "outputs": [],
   "source": [
    "car = Car()"
   ]
  },
  {
   "cell_type": "code",
   "execution_count": 108,
   "id": "eb6636fe",
   "metadata": {},
   "outputs": [
    {
     "name": "stdout",
     "output_type": "stream",
     "text": [
      "This is an car object\n"
     ]
    }
   ],
   "source": [
    "print(car)"
   ]
  },
  {
   "cell_type": "code",
   "execution_count": 110,
   "id": "a1d6096f",
   "metadata": {},
   "outputs": [],
   "source": [
    "# Module and Package"
   ]
  },
  {
   "cell_type": "markdown",
   "id": "fd879a1f",
   "metadata": {},
   "source": [
    "A module is a file containing Python code. It can define variables, functions, and classes that can be used in other Python scripts."
   ]
  },
  {
   "cell_type": "markdown",
   "id": "95083bca",
   "metadata": {},
   "source": [
    "Package is directory with single or set of modules"
   ]
  },
  {
   "cell_type": "code",
   "execution_count": null,
   "id": "b46bbf00",
   "metadata": {},
   "outputs": [],
   "source": []
  }
 ],
 "metadata": {
  "kernelspec": {
   "display_name": "Python 3 (ipykernel)",
   "language": "python",
   "name": "python3"
  },
  "language_info": {
   "codemirror_mode": {
    "name": "ipython",
    "version": 3
   },
   "file_extension": ".py",
   "mimetype": "text/x-python",
   "name": "python",
   "nbconvert_exporter": "python",
   "pygments_lexer": "ipython3",
   "version": "3.9.7"
  }
 },
 "nbformat": 4,
 "nbformat_minor": 5
}
