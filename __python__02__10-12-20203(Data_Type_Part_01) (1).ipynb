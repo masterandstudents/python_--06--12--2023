{
 "cells": [
  {
   "cell_type": "code",
   "execution_count": 1,
   "id": "b29e7822",
   "metadata": {},
   "outputs": [],
   "source": [
    "var=None"
   ]
  },
  {
   "cell_type": "code",
   "execution_count": 2,
   "id": "39d8f32b",
   "metadata": {},
   "outputs": [
    {
     "data": {
      "text/plain": [
       "NoneType"
      ]
     },
     "execution_count": 2,
     "metadata": {},
     "output_type": "execute_result"
    }
   ],
   "source": [
    "type(var)"
   ]
  },
  {
   "cell_type": "code",
   "execution_count": 3,
   "id": "c39c3d84",
   "metadata": {},
   "outputs": [],
   "source": [
    "var1=0"
   ]
  },
  {
   "cell_type": "code",
   "execution_count": 4,
   "id": "88eda88c",
   "metadata": {},
   "outputs": [
    {
     "data": {
      "text/plain": [
       "int"
      ]
     },
     "execution_count": 4,
     "metadata": {},
     "output_type": "execute_result"
    }
   ],
   "source": [
    "type(var1)"
   ]
  },
  {
   "cell_type": "code",
   "execution_count": 5,
   "id": "0b0e956e",
   "metadata": {},
   "outputs": [],
   "source": [
    "# complex"
   ]
  },
  {
   "cell_type": "code",
   "execution_count": 6,
   "id": "56aff93d",
   "metadata": {},
   "outputs": [],
   "source": [
    "var=5+8j"
   ]
  },
  {
   "cell_type": "code",
   "execution_count": 8,
   "id": "a7726a5e",
   "metadata": {},
   "outputs": [
    {
     "data": {
      "text/plain": [
       "complex"
      ]
     },
     "execution_count": 8,
     "metadata": {},
     "output_type": "execute_result"
    }
   ],
   "source": [
    "type(var)"
   ]
  },
  {
   "cell_type": "code",
   "execution_count": 9,
   "id": "790f30ef",
   "metadata": {},
   "outputs": [
    {
     "data": {
      "text/plain": [
       "5.0"
      ]
     },
     "execution_count": 9,
     "metadata": {},
     "output_type": "execute_result"
    }
   ],
   "source": [
    "var.real"
   ]
  },
  {
   "cell_type": "code",
   "execution_count": 10,
   "id": "a59813b0",
   "metadata": {},
   "outputs": [
    {
     "data": {
      "text/plain": [
       "8.0"
      ]
     },
     "execution_count": 10,
     "metadata": {},
     "output_type": "execute_result"
    }
   ],
   "source": [
    "var.imag"
   ]
  },
  {
   "cell_type": "code",
   "execution_count": 11,
   "id": "0fad2978",
   "metadata": {},
   "outputs": [],
   "source": [
    "# Casting"
   ]
  },
  {
   "cell_type": "code",
   "execution_count": 12,
   "id": "2b87e955",
   "metadata": {},
   "outputs": [],
   "source": [
    "number= '1234'"
   ]
  },
  {
   "cell_type": "code",
   "execution_count": 13,
   "id": "4d3a11c0",
   "metadata": {},
   "outputs": [
    {
     "data": {
      "text/plain": [
       "str"
      ]
     },
     "execution_count": 13,
     "metadata": {},
     "output_type": "execute_result"
    }
   ],
   "source": [
    "type(number)"
   ]
  },
  {
   "cell_type": "code",
   "execution_count": 14,
   "id": "eabe57a3",
   "metadata": {},
   "outputs": [
    {
     "data": {
      "text/plain": [
       "1234"
      ]
     },
     "execution_count": 14,
     "metadata": {},
     "output_type": "execute_result"
    }
   ],
   "source": [
    "int(number)"
   ]
  },
  {
   "cell_type": "code",
   "execution_count": 15,
   "id": "9854b180",
   "metadata": {},
   "outputs": [],
   "source": [
    "roll_number = '34'"
   ]
  },
  {
   "cell_type": "code",
   "execution_count": 16,
   "id": "823e0325",
   "metadata": {},
   "outputs": [
    {
     "data": {
      "text/plain": [
       "str"
      ]
     },
     "execution_count": 16,
     "metadata": {},
     "output_type": "execute_result"
    }
   ],
   "source": [
    "type(roll_number)"
   ]
  },
  {
   "cell_type": "code",
   "execution_count": 17,
   "id": "3e851715",
   "metadata": {},
   "outputs": [],
   "source": [
    "roll_numr2 = int(roll_number)"
   ]
  },
  {
   "cell_type": "code",
   "execution_count": 18,
   "id": "ee6b1888",
   "metadata": {},
   "outputs": [
    {
     "data": {
      "text/plain": [
       "34"
      ]
     },
     "execution_count": 18,
     "metadata": {},
     "output_type": "execute_result"
    }
   ],
   "source": [
    "roll_numr2"
   ]
  },
  {
   "cell_type": "code",
   "execution_count": 19,
   "id": "b62b1f41",
   "metadata": {},
   "outputs": [
    {
     "data": {
      "text/plain": [
       "int"
      ]
     },
     "execution_count": 19,
     "metadata": {},
     "output_type": "execute_result"
    }
   ],
   "source": [
    "type(roll_numr2)"
   ]
  },
  {
   "cell_type": "code",
   "execution_count": 20,
   "id": "1ec13835",
   "metadata": {},
   "outputs": [],
   "source": [
    "name = \"john\""
   ]
  },
  {
   "cell_type": "code",
   "execution_count": 22,
   "id": "0ed1f00a",
   "metadata": {},
   "outputs": [
    {
     "ename": "ValueError",
     "evalue": "invalid literal for int() with base 10: 'john'",
     "output_type": "error",
     "traceback": [
      "\u001b[1;31m---------------------------------------------------------------------------\u001b[0m",
      "\u001b[1;31mValueError\u001b[0m                                Traceback (most recent call last)",
      "\u001b[1;32m~\\AppData\\Local\\Temp/ipykernel_5132/1879335602.py\u001b[0m in \u001b[0;36m<module>\u001b[1;34m\u001b[0m\n\u001b[1;32m----> 1\u001b[1;33m \u001b[0mint\u001b[0m\u001b[1;33m(\u001b[0m\u001b[0mname\u001b[0m\u001b[1;33m)\u001b[0m\u001b[1;33m\u001b[0m\u001b[1;33m\u001b[0m\u001b[0m\n\u001b[0m",
      "\u001b[1;31mValueError\u001b[0m: invalid literal for int() with base 10: 'john'"
     ]
    }
   ],
   "source": [
    "int(name)"
   ]
  },
  {
   "cell_type": "code",
   "execution_count": 23,
   "id": "85287a8c",
   "metadata": {},
   "outputs": [
    {
     "data": {
      "text/plain": [
       "'1234'"
      ]
     },
     "execution_count": 23,
     "metadata": {},
     "output_type": "execute_result"
    }
   ],
   "source": [
    "'1234'"
   ]
  },
  {
   "cell_type": "code",
   "execution_count": 24,
   "id": "ded2c8d7",
   "metadata": {},
   "outputs": [
    {
     "data": {
      "text/plain": [
       "1234"
      ]
     },
     "execution_count": 24,
     "metadata": {},
     "output_type": "execute_result"
    }
   ],
   "source": [
    "int('1234')"
   ]
  },
  {
   "cell_type": "code",
   "execution_count": 25,
   "id": "d965cc0c",
   "metadata": {},
   "outputs": [
    {
     "data": {
      "text/plain": [
       "'\\nYou can convert anything from float and int to str\\nbut from str too int and float it will convert if possible\\n'"
      ]
     },
     "execution_count": 25,
     "metadata": {},
     "output_type": "execute_result"
    }
   ],
   "source": [
    "'''\n",
    "1.You can convert anything from float and int to str\n",
    "2.You can convert any value from int to float and float to int\n",
    "3.but from str too int and float it will convert if possible\n",
    "'''"
   ]
  },
  {
   "cell_type": "code",
   "execution_count": 26,
   "id": "2a5e4360",
   "metadata": {},
   "outputs": [],
   "source": [
    "roll_no=12345"
   ]
  },
  {
   "cell_type": "code",
   "execution_count": 27,
   "id": "a672a3fd",
   "metadata": {},
   "outputs": [
    {
     "data": {
      "text/plain": [
       "'12345'"
      ]
     },
     "execution_count": 27,
     "metadata": {},
     "output_type": "execute_result"
    }
   ],
   "source": [
    "str(roll_no)"
   ]
  },
  {
   "cell_type": "code",
   "execution_count": 28,
   "id": "5e04d91f",
   "metadata": {},
   "outputs": [
    {
     "data": {
      "text/plain": [
       "12345.0"
      ]
     },
     "execution_count": 28,
     "metadata": {},
     "output_type": "execute_result"
    }
   ],
   "source": [
    "float(roll_no)"
   ]
  },
  {
   "cell_type": "code",
   "execution_count": 29,
   "id": "2630080b",
   "metadata": {},
   "outputs": [],
   "source": [
    "decimal_no=1.0"
   ]
  },
  {
   "cell_type": "code",
   "execution_count": 30,
   "id": "9761c9bd",
   "metadata": {},
   "outputs": [
    {
     "data": {
      "text/plain": [
       "1"
      ]
     },
     "execution_count": 30,
     "metadata": {},
     "output_type": "execute_result"
    }
   ],
   "source": [
    "int(decimal_no)"
   ]
  },
  {
   "cell_type": "code",
   "execution_count": 31,
   "id": "839d0f1c",
   "metadata": {},
   "outputs": [],
   "source": [
    "decimal_no2=0.0"
   ]
  },
  {
   "cell_type": "code",
   "execution_count": 34,
   "id": "f7ef5bb1",
   "metadata": {},
   "outputs": [
    {
     "data": {
      "text/plain": [
       "float"
      ]
     },
     "execution_count": 34,
     "metadata": {},
     "output_type": "execute_result"
    }
   ],
   "source": [
    "type(decimal_no2)"
   ]
  },
  {
   "cell_type": "code",
   "execution_count": 35,
   "id": "0063f692",
   "metadata": {},
   "outputs": [
    {
     "data": {
      "text/plain": [
       "0"
      ]
     },
     "execution_count": 35,
     "metadata": {},
     "output_type": "execute_result"
    }
   ],
   "source": [
    "int(decimal_no2)"
   ]
  },
  {
   "cell_type": "code",
   "execution_count": null,
   "id": "796c72d1",
   "metadata": {},
   "outputs": [],
   "source": [
    "# Indexing"
   ]
  },
  {
   "cell_type": "code",
   "execution_count": 36,
   "id": "fcd9bc1b",
   "metadata": {},
   "outputs": [],
   "source": [
    "city_name =\"Gold Coral\""
   ]
  },
  {
   "cell_type": "code",
   "execution_count": 37,
   "id": "12e46e29",
   "metadata": {},
   "outputs": [
    {
     "data": {
      "text/plain": [
       "'l '"
      ]
     },
     "execution_count": 37,
     "metadata": {},
     "output_type": "execute_result"
    }
   ],
   "source": [
    "city_name[2:6:2]"
   ]
  },
  {
   "cell_type": "code",
   "execution_count": 38,
   "id": "627d27e7",
   "metadata": {},
   "outputs": [],
   "source": [
    "city_name=\"This is a tree\""
   ]
  },
  {
   "cell_type": "code",
   "execution_count": 39,
   "id": "128ddc19",
   "metadata": {},
   "outputs": [
    {
     "data": {
      "text/plain": [
       "'Ti s'"
      ]
     },
     "execution_count": 39,
     "metadata": {},
     "output_type": "execute_result"
    }
   ],
   "source": [
    "city_name[0:8:2]"
   ]
  },
  {
   "cell_type": "code",
   "execution_count": 40,
   "id": "3dadd7b2",
   "metadata": {},
   "outputs": [],
   "source": [
    "city_name=\"Melbourne\""
   ]
  },
  {
   "cell_type": "code",
   "execution_count": 41,
   "id": "3e58cafc",
   "metadata": {},
   "outputs": [
    {
     "data": {
      "text/plain": [
       "'Mlo'"
      ]
     },
     "execution_count": 41,
     "metadata": {},
     "output_type": "execute_result"
    }
   ],
   "source": [
    "city_name[0:5:2]"
   ]
  },
  {
   "cell_type": "code",
   "execution_count": 42,
   "id": "c485d38d",
   "metadata": {},
   "outputs": [
    {
     "data": {
      "text/plain": [
       "'e'"
      ]
     },
     "execution_count": 42,
     "metadata": {},
     "output_type": "execute_result"
    }
   ],
   "source": [
    "city_name[1]"
   ]
  },
  {
   "cell_type": "code",
   "execution_count": 43,
   "id": "10f89a06",
   "metadata": {},
   "outputs": [
    {
     "data": {
      "text/plain": [
       "'M'"
      ]
     },
     "execution_count": 43,
     "metadata": {},
     "output_type": "execute_result"
    }
   ],
   "source": [
    "city_name[0]"
   ]
  },
  {
   "cell_type": "code",
   "execution_count": 44,
   "id": "ff92db02",
   "metadata": {},
   "outputs": [
    {
     "data": {
      "text/plain": [
       "'b'"
      ]
     },
     "execution_count": 44,
     "metadata": {},
     "output_type": "execute_result"
    }
   ],
   "source": [
    "city_name[3]"
   ]
  },
  {
   "cell_type": "code",
   "execution_count": 46,
   "id": "328a93d7",
   "metadata": {},
   "outputs": [
    {
     "data": {
      "text/plain": [
       "'Melb'"
      ]
     },
     "execution_count": 46,
     "metadata": {},
     "output_type": "execute_result"
    }
   ],
   "source": [
    "city_name[0:4]\n",
    "# lower and UpperBound"
   ]
  },
  {
   "cell_type": "code",
   "execution_count": 48,
   "id": "492ed663",
   "metadata": {},
   "outputs": [
    {
     "data": {
      "text/plain": [
       "'Ml'"
      ]
     },
     "execution_count": 48,
     "metadata": {},
     "output_type": "execute_result"
    }
   ],
   "source": [
    "city_name[0:4:2]\n",
    "# lower,upper and jump"
   ]
  },
  {
   "cell_type": "code",
   "execution_count": 49,
   "id": "48e643c0",
   "metadata": {},
   "outputs": [],
   "source": [
    "# list"
   ]
  },
  {
   "cell_type": "code",
   "execution_count": 50,
   "id": "5c38e643",
   "metadata": {},
   "outputs": [],
   "source": [
    "# tuple"
   ]
  },
  {
   "cell_type": "code",
   "execution_count": 52,
   "id": "e5198f34",
   "metadata": {},
   "outputs": [],
   "source": [
    "lis = []"
   ]
  },
  {
   "cell_type": "code",
   "execution_count": 53,
   "id": "39c80fe1",
   "metadata": {},
   "outputs": [
    {
     "data": {
      "text/plain": [
       "list"
      ]
     },
     "execution_count": 53,
     "metadata": {},
     "output_type": "execute_result"
    }
   ],
   "source": [
    "type(lis)"
   ]
  },
  {
   "cell_type": "code",
   "execution_count": 54,
   "id": "622fc792",
   "metadata": {},
   "outputs": [],
   "source": [
    "tup = ()"
   ]
  },
  {
   "cell_type": "code",
   "execution_count": 55,
   "id": "8da91291",
   "metadata": {},
   "outputs": [
    {
     "data": {
      "text/plain": [
       "tuple"
      ]
     },
     "execution_count": 55,
     "metadata": {},
     "output_type": "execute_result"
    }
   ],
   "source": [
    "type(tup)"
   ]
  },
  {
   "cell_type": "code",
   "execution_count": 56,
   "id": "3be6b940",
   "metadata": {},
   "outputs": [],
   "source": [
    "lis = [12,\"John\",89.5]"
   ]
  },
  {
   "cell_type": "code",
   "execution_count": 57,
   "id": "2510bfb1",
   "metadata": {},
   "outputs": [
    {
     "data": {
      "text/plain": [
       "[12, 'John', 89.5]"
      ]
     },
     "execution_count": 57,
     "metadata": {},
     "output_type": "execute_result"
    }
   ],
   "source": [
    "lis"
   ]
  },
  {
   "cell_type": "code",
   "execution_count": 61,
   "id": "9972583a",
   "metadata": {},
   "outputs": [
    {
     "data": {
      "text/plain": [
       "int"
      ]
     },
     "execution_count": 61,
     "metadata": {},
     "output_type": "execute_result"
    }
   ],
   "source": [
    "type(lis[0])"
   ]
  },
  {
   "cell_type": "code",
   "execution_count": 62,
   "id": "92a90d77",
   "metadata": {},
   "outputs": [
    {
     "data": {
      "text/plain": [
       "str"
      ]
     },
     "execution_count": 62,
     "metadata": {},
     "output_type": "execute_result"
    }
   ],
   "source": [
    "type(lis[1])"
   ]
  },
  {
   "cell_type": "code",
   "execution_count": 63,
   "id": "86a1e762",
   "metadata": {},
   "outputs": [
    {
     "data": {
      "text/plain": [
       "float"
      ]
     },
     "execution_count": 63,
     "metadata": {},
     "output_type": "execute_result"
    }
   ],
   "source": [
    "type(lis[2])"
   ]
  },
  {
   "cell_type": "code",
   "execution_count": 67,
   "id": "43bc07b5",
   "metadata": {},
   "outputs": [],
   "source": [
    "tup =(11,\"shiva\",90.9)"
   ]
  },
  {
   "cell_type": "code",
   "execution_count": 73,
   "id": "47096d51",
   "metadata": {},
   "outputs": [
    {
     "data": {
      "text/plain": [
       "int"
      ]
     },
     "execution_count": 73,
     "metadata": {},
     "output_type": "execute_result"
    }
   ],
   "source": [
    "type(tup[0])"
   ]
  },
  {
   "cell_type": "code",
   "execution_count": 74,
   "id": "193934af",
   "metadata": {},
   "outputs": [
    {
     "data": {
      "text/plain": [
       "str"
      ]
     },
     "execution_count": 74,
     "metadata": {},
     "output_type": "execute_result"
    }
   ],
   "source": [
    "type(tup[1])"
   ]
  },
  {
   "cell_type": "code",
   "execution_count": 75,
   "id": "9d360f1d",
   "metadata": {},
   "outputs": [
    {
     "data": {
      "text/plain": [
       "float"
      ]
     },
     "execution_count": 75,
     "metadata": {},
     "output_type": "execute_result"
    }
   ],
   "source": [
    "type(tup[2])"
   ]
  },
  {
   "cell_type": "code",
   "execution_count": null,
   "id": "c17feed5",
   "metadata": {},
   "outputs": [],
   "source": []
  }
 ],
 "metadata": {
  "kernelspec": {
   "display_name": "Python 3 (ipykernel)",
   "language": "python",
   "name": "python3"
  },
  "language_info": {
   "codemirror_mode": {
    "name": "ipython",
    "version": 3
   },
   "file_extension": ".py",
   "mimetype": "text/x-python",
   "name": "python",
   "nbconvert_exporter": "python",
   "pygments_lexer": "ipython3",
   "version": "3.9.7"
  }
 },
 "nbformat": 4,
 "nbformat_minor": 5
}
