{
 "cells": [
  {
   "cell_type": "code",
   "execution_count": 1,
   "id": "2324ec25",
   "metadata": {},
   "outputs": [],
   "source": [
    "# Simple Assign or Copy"
   ]
  },
  {
   "cell_type": "code",
   "execution_count": 2,
   "id": "f3eeb428",
   "metadata": {},
   "outputs": [],
   "source": [
    "lis1=[1,2,3,4]"
   ]
  },
  {
   "cell_type": "code",
   "execution_count": 65,
   "id": "6f7af408",
   "metadata": {},
   "outputs": [],
   "source": [
    "lis2=lis1"
   ]
  },
  {
   "cell_type": "code",
   "execution_count": 66,
   "id": "3ad12ac4",
   "metadata": {},
   "outputs": [
    {
     "data": {
      "text/plain": [
       "[1, 2, 3, 4]"
      ]
     },
     "execution_count": 66,
     "metadata": {},
     "output_type": "execute_result"
    }
   ],
   "source": [
    "lis1"
   ]
  },
  {
   "cell_type": "code",
   "execution_count": 67,
   "id": "42008d52",
   "metadata": {},
   "outputs": [
    {
     "data": {
      "text/plain": [
       "[1, 2, 3, 4]"
      ]
     },
     "execution_count": 67,
     "metadata": {},
     "output_type": "execute_result"
    }
   ],
   "source": [
    "lis2"
   ]
  },
  {
   "cell_type": "code",
   "execution_count": 69,
   "id": "d3ef55c5",
   "metadata": {},
   "outputs": [],
   "source": [
    "lis2[2]=5"
   ]
  },
  {
   "cell_type": "code",
   "execution_count": 70,
   "id": "b06c5654",
   "metadata": {},
   "outputs": [
    {
     "data": {
      "text/plain": [
       "[1, 2, 5, 4]"
      ]
     },
     "execution_count": 70,
     "metadata": {},
     "output_type": "execute_result"
    }
   ],
   "source": [
    "lis2"
   ]
  },
  {
   "cell_type": "code",
   "execution_count": 71,
   "id": "8dd9e360",
   "metadata": {},
   "outputs": [
    {
     "data": {
      "text/plain": [
       "[1, 2, 5, 4]"
      ]
     },
     "execution_count": 71,
     "metadata": {},
     "output_type": "execute_result"
    }
   ],
   "source": [
    "lis1"
   ]
  },
  {
   "cell_type": "code",
   "execution_count": 99,
   "id": "935268e1",
   "metadata": {},
   "outputs": [],
   "source": [
    "# Shallow Copy\n",
    "# It will work fine with simple list\n",
    "# But with nested list it won't work fine"
   ]
  },
  {
   "cell_type": "code",
   "execution_count": 97,
   "id": "455c8302",
   "metadata": {},
   "outputs": [],
   "source": [
    "lis1=[1,2,3,4]\n",
    "lis2=lis1.copy()"
   ]
  },
  {
   "cell_type": "code",
   "execution_count": 73,
   "id": "c206d131",
   "metadata": {},
   "outputs": [
    {
     "data": {
      "text/plain": [
       "[1, 2, 3, 4]"
      ]
     },
     "execution_count": 73,
     "metadata": {},
     "output_type": "execute_result"
    }
   ],
   "source": [
    "lis1"
   ]
  },
  {
   "cell_type": "code",
   "execution_count": 74,
   "id": "1458d664",
   "metadata": {},
   "outputs": [
    {
     "data": {
      "text/plain": [
       "[1, 2, 3, 4]"
      ]
     },
     "execution_count": 74,
     "metadata": {},
     "output_type": "execute_result"
    }
   ],
   "source": [
    "lis2"
   ]
  },
  {
   "cell_type": "code",
   "execution_count": 75,
   "id": "d1371978",
   "metadata": {},
   "outputs": [
    {
     "data": {
      "text/plain": [
       "1"
      ]
     },
     "execution_count": 75,
     "metadata": {},
     "output_type": "execute_result"
    }
   ],
   "source": [
    "lis2[0]"
   ]
  },
  {
   "cell_type": "code",
   "execution_count": 76,
   "id": "f7cf34d0",
   "metadata": {},
   "outputs": [],
   "source": [
    "lis2[0]=5"
   ]
  },
  {
   "cell_type": "code",
   "execution_count": 77,
   "id": "9bdc0001",
   "metadata": {},
   "outputs": [
    {
     "data": {
      "text/plain": [
       "[5, 2, 3, 4]"
      ]
     },
     "execution_count": 77,
     "metadata": {},
     "output_type": "execute_result"
    }
   ],
   "source": [
    "lis2"
   ]
  },
  {
   "cell_type": "code",
   "execution_count": 78,
   "id": "26030308",
   "metadata": {},
   "outputs": [
    {
     "data": {
      "text/plain": [
       "[1, 2, 3, 4]"
      ]
     },
     "execution_count": 78,
     "metadata": {},
     "output_type": "execute_result"
    }
   ],
   "source": [
    "lis1"
   ]
  },
  {
   "cell_type": "code",
   "execution_count": 82,
   "id": "4ca94b53",
   "metadata": {},
   "outputs": [],
   "source": [
    "lis_1=[[1,2],[3,4]]"
   ]
  },
  {
   "cell_type": "code",
   "execution_count": 83,
   "id": "ba10b701",
   "metadata": {},
   "outputs": [],
   "source": [
    "lis_2=lis_1.copy()"
   ]
  },
  {
   "cell_type": "code",
   "execution_count": 84,
   "id": "a7a86672",
   "metadata": {},
   "outputs": [
    {
     "data": {
      "text/plain": [
       "[[1, 2], [3, 4]]"
      ]
     },
     "execution_count": 84,
     "metadata": {},
     "output_type": "execute_result"
    }
   ],
   "source": [
    "lis_1"
   ]
  },
  {
   "cell_type": "code",
   "execution_count": 85,
   "id": "9a3f720a",
   "metadata": {},
   "outputs": [
    {
     "data": {
      "text/plain": [
       "[[1, 2], [3, 4]]"
      ]
     },
     "execution_count": 85,
     "metadata": {},
     "output_type": "execute_result"
    }
   ],
   "source": [
    "lis_2"
   ]
  },
  {
   "cell_type": "code",
   "execution_count": 88,
   "id": "c80534e8",
   "metadata": {},
   "outputs": [],
   "source": [
    "lis_2[0][0]=5"
   ]
  },
  {
   "cell_type": "code",
   "execution_count": 89,
   "id": "b2a6cc24",
   "metadata": {},
   "outputs": [
    {
     "data": {
      "text/plain": [
       "[[5, 2], [3, 4]]"
      ]
     },
     "execution_count": 89,
     "metadata": {},
     "output_type": "execute_result"
    }
   ],
   "source": [
    "lis_2"
   ]
  },
  {
   "cell_type": "code",
   "execution_count": 90,
   "id": "386e8351",
   "metadata": {},
   "outputs": [
    {
     "data": {
      "text/plain": [
       "[[5, 2], [3, 4]]"
      ]
     },
     "execution_count": 90,
     "metadata": {},
     "output_type": "execute_result"
    }
   ],
   "source": [
    "lis_1"
   ]
  },
  {
   "cell_type": "code",
   "execution_count": 91,
   "id": "d5327b57",
   "metadata": {},
   "outputs": [],
   "source": [
    "lis_2.append([5,6])"
   ]
  },
  {
   "cell_type": "code",
   "execution_count": 92,
   "id": "d4557ef3",
   "metadata": {},
   "outputs": [
    {
     "data": {
      "text/plain": [
       "[[5, 2], [3, 4], [5, 6]]"
      ]
     },
     "execution_count": 92,
     "metadata": {},
     "output_type": "execute_result"
    }
   ],
   "source": [
    "lis_2"
   ]
  },
  {
   "cell_type": "code",
   "execution_count": 93,
   "id": "217ce782",
   "metadata": {},
   "outputs": [
    {
     "data": {
      "text/plain": [
       "[[5, 2], [3, 4]]"
      ]
     },
     "execution_count": 93,
     "metadata": {},
     "output_type": "execute_result"
    }
   ],
   "source": [
    "lis_1"
   ]
  },
  {
   "cell_type": "code",
   "execution_count": 94,
   "id": "9fab1253",
   "metadata": {},
   "outputs": [],
   "source": [
    "lis_1.append([3,2])"
   ]
  },
  {
   "cell_type": "code",
   "execution_count": 95,
   "id": "39b81e74",
   "metadata": {},
   "outputs": [
    {
     "data": {
      "text/plain": [
       "[[5, 2], [3, 4], [3, 2]]"
      ]
     },
     "execution_count": 95,
     "metadata": {},
     "output_type": "execute_result"
    }
   ],
   "source": [
    "lis_1"
   ]
  },
  {
   "cell_type": "code",
   "execution_count": 96,
   "id": "dea0b7e9",
   "metadata": {},
   "outputs": [
    {
     "data": {
      "text/plain": [
       "[[5, 2], [3, 4], [5, 6]]"
      ]
     },
     "execution_count": 96,
     "metadata": {},
     "output_type": "execute_result"
    }
   ],
   "source": [
    "lis_2"
   ]
  },
  {
   "cell_type": "code",
   "execution_count": 100,
   "id": "96e02640",
   "metadata": {},
   "outputs": [],
   "source": [
    "# When you\"re using deepCopy you gotta two different memory locations it will work fine in everyCase"
   ]
  },
  {
   "cell_type": "code",
   "execution_count": 101,
   "id": "34d3a2bf",
   "metadata": {},
   "outputs": [],
   "source": [
    "import copy\n",
    "lis_1=[[1,2],[3,4]]\n",
    "lis_2=copy.deepcopy(lis_1)"
   ]
  },
  {
   "cell_type": "code",
   "execution_count": 102,
   "id": "73001f20",
   "metadata": {},
   "outputs": [
    {
     "data": {
      "text/plain": [
       "[[1, 2], [3, 4]]"
      ]
     },
     "execution_count": 102,
     "metadata": {},
     "output_type": "execute_result"
    }
   ],
   "source": [
    "lis_2"
   ]
  },
  {
   "cell_type": "code",
   "execution_count": 103,
   "id": "627bf2e5",
   "metadata": {},
   "outputs": [
    {
     "data": {
      "text/plain": [
       "[[1, 2], [3, 4]]"
      ]
     },
     "execution_count": 103,
     "metadata": {},
     "output_type": "execute_result"
    }
   ],
   "source": [
    "lis_1"
   ]
  },
  {
   "cell_type": "code",
   "execution_count": 105,
   "id": "86030752",
   "metadata": {},
   "outputs": [
    {
     "data": {
      "text/plain": [
       "3"
      ]
     },
     "execution_count": 105,
     "metadata": {},
     "output_type": "execute_result"
    }
   ],
   "source": [
    "lis_2[1][0]"
   ]
  },
  {
   "cell_type": "code",
   "execution_count": 106,
   "id": "cc68abc3",
   "metadata": {},
   "outputs": [],
   "source": [
    "lis_2[1][0]=6"
   ]
  },
  {
   "cell_type": "code",
   "execution_count": 107,
   "id": "ce2ac91c",
   "metadata": {},
   "outputs": [
    {
     "data": {
      "text/plain": [
       "[[1, 2], [6, 4]]"
      ]
     },
     "execution_count": 107,
     "metadata": {},
     "output_type": "execute_result"
    }
   ],
   "source": [
    "lis_2"
   ]
  },
  {
   "cell_type": "code",
   "execution_count": 108,
   "id": "329b1148",
   "metadata": {},
   "outputs": [
    {
     "data": {
      "text/plain": [
       "[[1, 2], [3, 4]]"
      ]
     },
     "execution_count": 108,
     "metadata": {},
     "output_type": "execute_result"
    }
   ],
   "source": [
    "lis_1"
   ]
  },
  {
   "cell_type": "code",
   "execution_count": 109,
   "id": "85ea5ec4",
   "metadata": {},
   "outputs": [],
   "source": [
    "# Function"
   ]
  },
  {
   "cell_type": "code",
   "execution_count": 110,
   "id": "5e03d295",
   "metadata": {},
   "outputs": [],
   "source": [
    "# def function_name(parameters):\n",
    "#     your block of code"
   ]
  },
  {
   "cell_type": "code",
   "execution_count": 112,
   "id": "1764b30b",
   "metadata": {},
   "outputs": [],
   "source": [
    "def Sum(a,b):\n",
    "    return a+b\n",
    "# Function Declaration\n",
    "# While declaring the functions you call it parameters"
   ]
  },
  {
   "cell_type": "code",
   "execution_count": 113,
   "id": "b90be313",
   "metadata": {},
   "outputs": [
    {
     "data": {
      "text/plain": [
       "3"
      ]
     },
     "execution_count": 113,
     "metadata": {},
     "output_type": "execute_result"
    }
   ],
   "source": [
    "Sum(1,2)\n",
    "# While calling we call it arguments"
   ]
  },
  {
   "cell_type": "code",
   "execution_count": 114,
   "id": "be33a3c1",
   "metadata": {},
   "outputs": [
    {
     "data": {
      "text/plain": [
       "9"
      ]
     },
     "execution_count": 114,
     "metadata": {},
     "output_type": "execute_result"
    }
   ],
   "source": [
    "Sum(4,5)"
   ]
  },
  {
   "cell_type": "code",
   "execution_count": 116,
   "id": "09610e9b",
   "metadata": {},
   "outputs": [
    {
     "data": {
      "text/plain": [
       "11"
      ]
     },
     "execution_count": 116,
     "metadata": {},
     "output_type": "execute_result"
    }
   ],
   "source": [
    "Sum(5,6)"
   ]
  },
  {
   "cell_type": "code",
   "execution_count": 117,
   "id": "63435ec0",
   "metadata": {},
   "outputs": [],
   "source": [
    "def Numbers():\n",
    "    return 2"
   ]
  },
  {
   "cell_type": "code",
   "execution_count": 118,
   "id": "87724592",
   "metadata": {},
   "outputs": [
    {
     "data": {
      "text/plain": [
       "2"
      ]
     },
     "execution_count": 118,
     "metadata": {},
     "output_type": "execute_result"
    }
   ],
   "source": [
    "Numbers()"
   ]
  },
  {
   "cell_type": "code",
   "execution_count": 119,
   "id": "575d540e",
   "metadata": {},
   "outputs": [
    {
     "data": {
      "text/plain": [
       "2"
      ]
     },
     "execution_count": 119,
     "metadata": {},
     "output_type": "execute_result"
    }
   ],
   "source": [
    "Numbers()"
   ]
  },
  {
   "cell_type": "code",
   "execution_count": 120,
   "id": "4f951ee9",
   "metadata": {},
   "outputs": [],
   "source": [
    "def Square(numbers):\n",
    "    return numbers*numbers"
   ]
  },
  {
   "cell_type": "code",
   "execution_count": 121,
   "id": "44852f4a",
   "metadata": {},
   "outputs": [
    {
     "data": {
      "text/plain": [
       "4"
      ]
     },
     "execution_count": 121,
     "metadata": {},
     "output_type": "execute_result"
    }
   ],
   "source": [
    "Square(2)"
   ]
  },
  {
   "cell_type": "code",
   "execution_count": 122,
   "id": "2f37ed5f",
   "metadata": {},
   "outputs": [
    {
     "data": {
      "text/plain": [
       "16"
      ]
     },
     "execution_count": 122,
     "metadata": {},
     "output_type": "execute_result"
    }
   ],
   "source": [
    "Square(4)"
   ]
  },
  {
   "cell_type": "code",
   "execution_count": 127,
   "id": "8c58fb8f",
   "metadata": {},
   "outputs": [],
   "source": [
    "def Square(numbers=4):\n",
    "    return numbers*numbers"
   ]
  },
  {
   "cell_type": "code",
   "execution_count": 129,
   "id": "4541d92c",
   "metadata": {},
   "outputs": [
    {
     "data": {
      "text/plain": [
       "4"
      ]
     },
     "execution_count": 129,
     "metadata": {},
     "output_type": "execute_result"
    }
   ],
   "source": [
    "Square(2)"
   ]
  },
  {
   "cell_type": "code",
   "execution_count": 130,
   "id": "7d3fa8e7",
   "metadata": {},
   "outputs": [],
   "source": [
    "def Sum(a=1,b=1):\n",
    "    return a+b"
   ]
  },
  {
   "cell_type": "code",
   "execution_count": 131,
   "id": "215bb06f",
   "metadata": {},
   "outputs": [
    {
     "data": {
      "text/plain": [
       "2"
      ]
     },
     "execution_count": 131,
     "metadata": {},
     "output_type": "execute_result"
    }
   ],
   "source": [
    "Sum()"
   ]
  },
  {
   "cell_type": "code",
   "execution_count": 132,
   "id": "8027f9cf",
   "metadata": {},
   "outputs": [
    {
     "data": {
      "text/plain": [
       "6"
      ]
     },
     "execution_count": 132,
     "metadata": {},
     "output_type": "execute_result"
    }
   ],
   "source": [
    "Sum(2,4)"
   ]
  },
  {
   "cell_type": "code",
   "execution_count": 146,
   "id": "ad1e95db",
   "metadata": {},
   "outputs": [],
   "source": [
    "def isNumber(values):\n",
    "    if type(values) == int:\n",
    "        return \"Is a Number\"\n",
    "    return 'Is not a Number'"
   ]
  },
  {
   "cell_type": "code",
   "execution_count": 148,
   "id": "9557ecce",
   "metadata": {},
   "outputs": [
    {
     "data": {
      "text/plain": [
       "'Is not a Number'"
      ]
     },
     "execution_count": 148,
     "metadata": {},
     "output_type": "execute_result"
    }
   ],
   "source": [
    "isNumber('Shi')"
   ]
  },
  {
   "cell_type": "code",
   "execution_count": 151,
   "id": "55e8f5e0",
   "metadata": {},
   "outputs": [
    {
     "name": "stdout",
     "output_type": "stream",
     "text": [
      "Is a Number\n",
      "Is a Number\n",
      "Is a Number\n",
      "Is not a Number\n",
      "Is not a Number\n",
      "Is a Number\n",
      "Is a Number\n"
     ]
    }
   ],
   "source": [
    "for i in [1,2,3,\"ko\",\"lo\",1,2]:\n",
    "    print(isNumber(i))"
   ]
  },
  {
   "cell_type": "code",
   "execution_count": 152,
   "id": "2ec86d51",
   "metadata": {},
   "outputs": [],
   "source": [
    "x= lambda a, b : a+b"
   ]
  },
  {
   "cell_type": "code",
   "execution_count": 153,
   "id": "54bdef0e",
   "metadata": {},
   "outputs": [
    {
     "data": {
      "text/plain": [
       "3"
      ]
     },
     "execution_count": 153,
     "metadata": {},
     "output_type": "execute_result"
    }
   ],
   "source": [
    "x(1,2)"
   ]
  },
  {
   "cell_type": "code",
   "execution_count": null,
   "id": "5cc4606a",
   "metadata": {},
   "outputs": [],
   "source": [
    "# Iterator Generators and Iterable"
   ]
  },
  {
   "cell_type": "code",
   "execution_count": 35,
   "id": "9b3dfa4b",
   "metadata": {},
   "outputs": [],
   "source": [
    "#  *args and **kwargs"
   ]
  },
  {
   "cell_type": "code",
   "execution_count": 36,
   "id": "f3b5ad32",
   "metadata": {},
   "outputs": [],
   "source": [
    "def multiple_(*args):\n",
    "    return args"
   ]
  },
  {
   "cell_type": "code",
   "execution_count": 37,
   "id": "b1c49844",
   "metadata": {},
   "outputs": [
    {
     "data": {
      "text/plain": [
       "(1, 2, 3, 4, 5)"
      ]
     },
     "execution_count": 37,
     "metadata": {},
     "output_type": "execute_result"
    }
   ],
   "source": [
    "multiple_(1,2,3,4,5)"
   ]
  },
  {
   "cell_type": "code",
   "execution_count": 38,
   "id": "6483cd48",
   "metadata": {},
   "outputs": [],
   "source": [
    "def multiple_2(*para):\n",
    "    return para"
   ]
  },
  {
   "cell_type": "code",
   "execution_count": 39,
   "id": "bf48fc45",
   "metadata": {},
   "outputs": [
    {
     "data": {
      "text/plain": [
       "(1, 2, 's', 'h')"
      ]
     },
     "execution_count": 39,
     "metadata": {},
     "output_type": "execute_result"
    }
   ],
   "source": [
    "multiple_2(1,2,\"s\",\"h\")"
   ]
  },
  {
   "cell_type": "code",
   "execution_count": 40,
   "id": "95aac795",
   "metadata": {},
   "outputs": [],
   "source": [
    "def multiple_3(**kwargs):\n",
    "    return kwargs"
   ]
  },
  {
   "cell_type": "code",
   "execution_count": 41,
   "id": "dc3d69c1",
   "metadata": {},
   "outputs": [
    {
     "data": {
      "text/plain": [
       "{'a': 1, 'b': 2, 'c': 3}"
      ]
     },
     "execution_count": 41,
     "metadata": {},
     "output_type": "execute_result"
    }
   ],
   "source": [
    "multiple_3(a=1,b=2,c=3)"
   ]
  },
  {
   "cell_type": "code",
   "execution_count": 42,
   "id": "82d21b05",
   "metadata": {},
   "outputs": [],
   "source": [
    "def multiple_4(**k):\n",
    "    return k"
   ]
  },
  {
   "cell_type": "code",
   "execution_count": 43,
   "id": "4526f4b6",
   "metadata": {},
   "outputs": [
    {
     "data": {
      "text/plain": [
       "{'a': 's', 'b': 1}"
      ]
     },
     "execution_count": 43,
     "metadata": {},
     "output_type": "execute_result"
    }
   ],
   "source": [
    "multiple_4(a=\"s\",b=1)"
   ]
  },
  {
   "cell_type": "code",
   "execution_count": 44,
   "id": "9140ea49",
   "metadata": {},
   "outputs": [],
   "source": [
    "# Iterator Generators and Iterable"
   ]
  },
  {
   "cell_type": "code",
   "execution_count": 45,
   "id": "e34770e1",
   "metadata": {},
   "outputs": [],
   "source": [
    "lis=[1,2,3,4]"
   ]
  },
  {
   "cell_type": "code",
   "execution_count": 46,
   "id": "7112df3d",
   "metadata": {},
   "outputs": [
    {
     "name": "stdout",
     "output_type": "stream",
     "text": [
      "1\n",
      "2\n",
      "3\n",
      "4\n"
     ]
    }
   ],
   "source": [
    "for i in lis:\n",
    "    print(i)"
   ]
  },
  {
   "cell_type": "code",
   "execution_count": 47,
   "id": "a24244fe",
   "metadata": {},
   "outputs": [],
   "source": [
    "# Iterable objects are those one which follows indexing concepts and on which you can loop"
   ]
  },
  {
   "cell_type": "code",
   "execution_count": 60,
   "id": "b36f7e2e",
   "metadata": {},
   "outputs": [],
   "source": [
    "lis1=iter(lis)"
   ]
  },
  {
   "cell_type": "code",
   "execution_count": 61,
   "id": "832295bd",
   "metadata": {},
   "outputs": [
    {
     "data": {
      "text/plain": [
       "list_iterator"
      ]
     },
     "execution_count": 61,
     "metadata": {},
     "output_type": "execute_result"
    }
   ],
   "source": [
    "type(lis1)"
   ]
  },
  {
   "cell_type": "code",
   "execution_count": 63,
   "id": "1baa274b",
   "metadata": {},
   "outputs": [],
   "source": [
    "for i in lis1:\n",
    "    print(i)"
   ]
  },
  {
   "cell_type": "code",
   "execution_count": 57,
   "id": "b9697861",
   "metadata": {},
   "outputs": [
    {
     "name": "stdout",
     "output_type": "stream",
     "text": [
      "1\n",
      "2\n",
      "3\n",
      "4\n"
     ]
    }
   ],
   "source": [
    "for i in lis:\n",
    "    print(i)"
   ]
  },
  {
   "cell_type": "code",
   "execution_count": 59,
   "id": "276c3c09",
   "metadata": {},
   "outputs": [],
   "source": [
    "# In iterators you can fetch the elements only by ones\n",
    "# You can use next keyword to iterate\n",
    "# you can make iterable's obects to iteratorr by using iter keyword\n",
    "# it follow dynamic memory locations"
   ]
  },
  {
   "cell_type": "code",
   "execution_count": 72,
   "id": "da528b56",
   "metadata": {},
   "outputs": [],
   "source": [
    "lis3=iter([1,2,3,4,5])"
   ]
  },
  {
   "cell_type": "code",
   "execution_count": 74,
   "id": "a9c54a26",
   "metadata": {},
   "outputs": [
    {
     "data": {
      "text/plain": [
       "2"
      ]
     },
     "execution_count": 74,
     "metadata": {},
     "output_type": "execute_result"
    }
   ],
   "source": [
    "next(lis3)"
   ]
  },
  {
   "cell_type": "code",
   "execution_count": 76,
   "id": "d036d8d0",
   "metadata": {},
   "outputs": [],
   "source": [
    "# Generators \n",
    "# Generator is function with yeild keyword which will return you a generator object which behavious like iterators"
   ]
  },
  {
   "cell_type": "code",
   "execution_count": 77,
   "id": "e887b987",
   "metadata": {},
   "outputs": [],
   "source": [
    "def gen(n):\n",
    "    for i in range(n):\n",
    "        yield i"
   ]
  },
  {
   "cell_type": "code",
   "execution_count": 85,
   "id": "22edd417",
   "metadata": {},
   "outputs": [],
   "source": [
    "gen_=gen(10)"
   ]
  },
  {
   "cell_type": "code",
   "execution_count": 84,
   "id": "2e1752c2",
   "metadata": {},
   "outputs": [
    {
     "name": "stdout",
     "output_type": "stream",
     "text": [
      "0\n",
      "1\n",
      "2\n",
      "3\n",
      "4\n",
      "5\n",
      "6\n",
      "7\n",
      "8\n",
      "9\n"
     ]
    }
   ],
   "source": [
    "for i in gen_:\n",
    "    print(i)"
   ]
  },
  {
   "cell_type": "code",
   "execution_count": 89,
   "id": "26c3eeb8",
   "metadata": {},
   "outputs": [
    {
     "data": {
      "text/plain": [
       "3"
      ]
     },
     "execution_count": 89,
     "metadata": {},
     "output_type": "execute_result"
    }
   ],
   "source": [
    "next(gen_)"
   ]
  },
  {
   "cell_type": "code",
   "execution_count": 90,
   "id": "045545bd",
   "metadata": {},
   "outputs": [],
   "source": [
    "def gen_(name=\"lololololololololollololololololololololol\"):\n",
    "    for i in name:\n",
    "        yield i"
   ]
  },
  {
   "cell_type": "code",
   "execution_count": 93,
   "id": "ffc86cd3",
   "metadata": {},
   "outputs": [],
   "source": [
    "var=gen_()"
   ]
  },
  {
   "cell_type": "code",
   "execution_count": 96,
   "id": "6607ce0e",
   "metadata": {},
   "outputs": [
    {
     "data": {
      "text/plain": [
       "'l'"
      ]
     },
     "execution_count": 96,
     "metadata": {},
     "output_type": "execute_result"
    }
   ],
   "source": [
    "next(var)"
   ]
  },
  {
   "cell_type": "code",
   "execution_count": 3,
   "id": "fdc98d1e",
   "metadata": {},
   "outputs": [],
   "source": [
    "#  *args and **kwargs"
   ]
  },
  {
   "cell_type": "code",
   "execution_count": 4,
   "id": "3d64a41b",
   "metadata": {},
   "outputs": [],
   "source": [
    "def multipleparm(*args):\n",
    "    return args"
   ]
  },
  {
   "cell_type": "code",
   "execution_count": 5,
   "id": "6f27ce94",
   "metadata": {},
   "outputs": [
    {
     "data": {
      "text/plain": [
       "(1, 2, 3, 4, 5, 6, 7, 8)"
      ]
     },
     "execution_count": 5,
     "metadata": {},
     "output_type": "execute_result"
    }
   ],
   "source": [
    "multipleparm(1,2,3,4,5,6,7,8)"
   ]
  },
  {
   "cell_type": "code",
   "execution_count": 9,
   "id": "76857b99",
   "metadata": {},
   "outputs": [],
   "source": [
    "def multipleparm(a,b):\n",
    "    return a,b"
   ]
  },
  {
   "cell_type": "code",
   "execution_count": 10,
   "id": "66de976b",
   "metadata": {},
   "outputs": [
    {
     "data": {
      "text/plain": [
       "(1, 2)"
      ]
     },
     "execution_count": 10,
     "metadata": {},
     "output_type": "execute_result"
    }
   ],
   "source": [
    "multipleparm(1,2)"
   ]
  },
  {
   "cell_type": "code",
   "execution_count": 15,
   "id": "c15352c0",
   "metadata": {},
   "outputs": [],
   "source": [
    "def multipleparm(*multiple):\n",
    "    return multiple[0]"
   ]
  },
  {
   "cell_type": "code",
   "execution_count": 16,
   "id": "3c7ed959",
   "metadata": {},
   "outputs": [
    {
     "data": {
      "text/plain": [
       "1"
      ]
     },
     "execution_count": 16,
     "metadata": {},
     "output_type": "execute_result"
    }
   ],
   "source": [
    "multipleparm(1,2,3,4,5,6,7,8)"
   ]
  },
  {
   "cell_type": "code",
   "execution_count": 20,
   "id": "a561029d",
   "metadata": {},
   "outputs": [],
   "source": [
    "def mutliplekwargs(**kwargs):\n",
    "    return kwargs"
   ]
  },
  {
   "cell_type": "code",
   "execution_count": 21,
   "id": "3f04c246",
   "metadata": {},
   "outputs": [
    {
     "data": {
      "text/plain": [
       "{'a': 1, 'b': 2, 'c': 3}"
      ]
     },
     "execution_count": 21,
     "metadata": {},
     "output_type": "execute_result"
    }
   ],
   "source": [
    "mutliplekwargs(a=1,b=2,c=3)"
   ]
  },
  {
   "cell_type": "code",
   "execution_count": 23,
   "id": "36283a93",
   "metadata": {},
   "outputs": [],
   "source": [
    "def mutliplekwargs(**dic):\n",
    "    return dic"
   ]
  },
  {
   "cell_type": "code",
   "execution_count": 24,
   "id": "622ec7a7",
   "metadata": {},
   "outputs": [
    {
     "data": {
      "text/plain": [
       "{'a': 1, 'b': 2, 'c': 3}"
      ]
     },
     "execution_count": 24,
     "metadata": {},
     "output_type": "execute_result"
    }
   ],
   "source": [
    "mutliplekwargs(a=1,b=2,c=3)"
   ]
  },
  {
   "cell_type": "code",
   "execution_count": 25,
   "id": "dea9e476",
   "metadata": {},
   "outputs": [],
   "source": [
    "# Iterator Generators and Iterable"
   ]
  },
  {
   "cell_type": "code",
   "execution_count": 26,
   "id": "4ebf076a",
   "metadata": {},
   "outputs": [],
   "source": [
    "# Iterable objects are those one which follows indexing concepts and on which you can loop"
   ]
  },
  {
   "cell_type": "code",
   "execution_count": null,
   "id": "ed49d2f1",
   "metadata": {},
   "outputs": [],
   "source": [
    "# str -> yes\n",
    "# list -> yes\n",
    "# tuple -> yes"
   ]
  },
  {
   "cell_type": "code",
   "execution_count": 27,
   "id": "36d08962",
   "metadata": {},
   "outputs": [],
   "source": [
    "# In iterators you can fetch the elements only by ones\n",
    "# You can use next keyword to iterate\n",
    "# you can make iterable's obects to iteratorr by using iter keyword\n",
    "# it follow dynamic memory allocations"
   ]
  },
  {
   "cell_type": "code",
   "execution_count": 28,
   "id": "1204f490",
   "metadata": {},
   "outputs": [],
   "source": [
    "l=[1,2,3,4]"
   ]
  },
  {
   "cell_type": "code",
   "execution_count": 31,
   "id": "33dc846c",
   "metadata": {},
   "outputs": [
    {
     "name": "stdout",
     "output_type": "stream",
     "text": [
      "1\n",
      "2\n",
      "3\n",
      "4\n"
     ]
    }
   ],
   "source": [
    "for i in l:\n",
    "    print(i)"
   ]
  },
  {
   "cell_type": "code",
   "execution_count": 41,
   "id": "34f3b50a",
   "metadata": {},
   "outputs": [],
   "source": [
    "iterator_l = iter(l)"
   ]
  },
  {
   "cell_type": "code",
   "execution_count": 34,
   "id": "1f080469",
   "metadata": {},
   "outputs": [
    {
     "data": {
      "text/plain": [
       "list_iterator"
      ]
     },
     "execution_count": 34,
     "metadata": {},
     "output_type": "execute_result"
    }
   ],
   "source": [
    "type(iterator_l)"
   ]
  },
  {
   "cell_type": "code",
   "execution_count": 40,
   "id": "3e20aac0",
   "metadata": {},
   "outputs": [],
   "source": [
    "for i in iterator_l:\n",
    "    print(i)"
   ]
  },
  {
   "cell_type": "code",
   "execution_count": 46,
   "id": "df76f74b",
   "metadata": {},
   "outputs": [
    {
     "ename": "StopIteration",
     "evalue": "",
     "output_type": "error",
     "traceback": [
      "\u001b[1;31m---------------------------------------------------------------------------\u001b[0m",
      "\u001b[1;31mStopIteration\u001b[0m                             Traceback (most recent call last)",
      "\u001b[1;32m~\\AppData\\Local\\Temp/ipykernel_5336/1978034373.py\u001b[0m in \u001b[0;36m<module>\u001b[1;34m\u001b[0m\n\u001b[1;32m----> 1\u001b[1;33m \u001b[0mnext\u001b[0m\u001b[1;33m(\u001b[0m\u001b[0miterator_l\u001b[0m\u001b[1;33m)\u001b[0m\u001b[1;33m\u001b[0m\u001b[1;33m\u001b[0m\u001b[0m\n\u001b[0m",
      "\u001b[1;31mStopIteration\u001b[0m: "
     ]
    }
   ],
   "source": [
    "next(iterator_l)"
   ]
  },
  {
   "cell_type": "code",
   "execution_count": 48,
   "id": "d2222faa",
   "metadata": {},
   "outputs": [],
   "source": [
    "# Generators \n",
    "# Generator is function with yeild keyword which will return you a generator object which behavious like an iterators"
   ]
  },
  {
   "cell_type": "code",
   "execution_count": 49,
   "id": "f654d1cf",
   "metadata": {},
   "outputs": [],
   "source": [
    "def generator(nums):\n",
    "    for i in range(nums):\n",
    "        yield i"
   ]
  },
  {
   "cell_type": "code",
   "execution_count": 56,
   "id": "75d5e1a3",
   "metadata": {},
   "outputs": [],
   "source": [
    "var = generator(5)"
   ]
  },
  {
   "cell_type": "code",
   "execution_count": 55,
   "id": "bb72ec13",
   "metadata": {},
   "outputs": [],
   "source": [
    "for i in var:\n",
    "    print(i)"
   ]
  },
  {
   "cell_type": "code",
   "execution_count": 62,
   "id": "3657fe93",
   "metadata": {},
   "outputs": [
    {
     "ename": "StopIteration",
     "evalue": "",
     "output_type": "error",
     "traceback": [
      "\u001b[1;31m---------------------------------------------------------------------------\u001b[0m",
      "\u001b[1;31mStopIteration\u001b[0m                             Traceback (most recent call last)",
      "\u001b[1;32m~\\AppData\\Local\\Temp/ipykernel_5336/535588662.py\u001b[0m in \u001b[0;36m<module>\u001b[1;34m\u001b[0m\n\u001b[1;32m----> 1\u001b[1;33m \u001b[0mnext\u001b[0m\u001b[1;33m(\u001b[0m\u001b[0mvar\u001b[0m\u001b[1;33m)\u001b[0m\u001b[1;33m\u001b[0m\u001b[1;33m\u001b[0m\u001b[0m\n\u001b[0m",
      "\u001b[1;31mStopIteration\u001b[0m: "
     ]
    }
   ],
   "source": [
    "next(var)"
   ]
  },
  {
   "cell_type": "code",
   "execution_count": null,
   "id": "ffd5205e",
   "metadata": {},
   "outputs": [],
   "source": []
  }
 ],
 "metadata": {
  "kernelspec": {
   "display_name": "Python 3 (ipykernel)",
   "language": "python",
   "name": "python3"
  },
  "language_info": {
   "codemirror_mode": {
    "name": "ipython",
    "version": 3
   },
   "file_extension": ".py",
   "mimetype": "text/x-python",
   "name": "python",
   "nbconvert_exporter": "python",
   "pygments_lexer": "ipython3",
   "version": "3.9.7"
  }
 },
 "nbformat": 4,
 "nbformat_minor": 5
}
