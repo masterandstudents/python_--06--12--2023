{
 "cells": [
  {
   "cell_type": "code",
   "execution_count": 29,
   "id": "991b32d6",
   "metadata": {},
   "outputs": [],
   "source": [
    "import os"
   ]
  },
  {
   "cell_type": "code",
   "execution_count": null,
   "id": "e4fdbace",
   "metadata": {},
   "outputs": [],
   "source": [
    "# file = open(\"path\",\"here you will declare your mode\")"
   ]
  },
  {
   "cell_type": "code",
   "execution_count": 11,
   "id": "4fcad7e3",
   "metadata": {},
   "outputs": [
    {
     "data": {
      "text/plain": [
       "'This is my new line\\nThis is my second line\\nThis is my third line'"
      ]
     },
     "execution_count": 11,
     "metadata": {},
     "output_type": "execute_result"
    }
   ],
   "source": [
    "file = open(r\"C:\\Users\\hp\\Desktop\\Demo\\welcome.txt\",\"r\")\n",
    "content = file.read()\n",
    "content\n",
    "# it will give you entire content"
   ]
  },
  {
   "cell_type": "code",
   "execution_count": 12,
   "id": "fae3f2b1",
   "metadata": {},
   "outputs": [
    {
     "data": {
      "text/plain": [
       "'This is my new line\\n'"
      ]
     },
     "execution_count": 12,
     "metadata": {},
     "output_type": "execute_result"
    }
   ],
   "source": [
    "file = open(r\"C:\\Users\\hp\\Desktop\\Demo\\welcome.txt\",\"r\")\n",
    "content = file.readline()\n",
    "content\n",
    "# it will give you one line"
   ]
  },
  {
   "cell_type": "code",
   "execution_count": 13,
   "id": "791050ef",
   "metadata": {},
   "outputs": [
    {
     "data": {
      "text/plain": [
       "['This is my new line\\n', 'This is my second line\\n', 'This is my third line']"
      ]
     },
     "execution_count": 13,
     "metadata": {},
     "output_type": "execute_result"
    }
   ],
   "source": [
    "file = open(r\"C:\\Users\\hp\\Desktop\\Demo\\welcome.txt\",\"r\")\n",
    "content = file.readlines()\n",
    "content\n",
    "# it will give you entire content in list"
   ]
  },
  {
   "cell_type": "code",
   "execution_count": 14,
   "id": "68184e8c",
   "metadata": {},
   "outputs": [],
   "source": [
    "file = open(r\"C:\\Users\\hp\\Desktop\\Demo\\welcome.txt\",\"w\")\n",
    "file.write(\"This is my fourth line\")\n",
    "file.close()\n",
    "# Will write in file by removing all previous content\n",
    "# it will create a file if doesn't exist"
   ]
  },
  {
   "cell_type": "code",
   "execution_count": null,
   "id": "4caee2dd",
   "metadata": {},
   "outputs": [],
   "source": [
    "file = open(r\"C:\\Users\\hp\\Desktop\\Demo\\welcome.txt\",\"a\")\n",
    "content = file.write(\"This is my second line\")\n",
    "content\n",
    "# Will append to the existing file content\n",
    "# it will create a file if doesn't exist"
   ]
  },
  {
   "cell_type": "code",
   "execution_count": 19,
   "id": "fcdf69cf",
   "metadata": {},
   "outputs": [
    {
     "data": {
      "text/plain": [
       "'This is my fourth lineWelcome to the first line.\\nWelcome to the second line.\\n'"
      ]
     },
     "execution_count": 19,
     "metadata": {},
     "output_type": "execute_result"
    }
   ],
   "source": [
    "file = open(r\"C:\\Users\\hp\\Desktop\\Demo\\welcome.txt\",\"r\")\n",
    "content = file.read()\n",
    "content"
   ]
  },
  {
   "cell_type": "code",
   "execution_count": 20,
   "id": "ed1f6847",
   "metadata": {},
   "outputs": [
    {
     "data": {
      "text/plain": [
       "21"
      ]
     },
     "execution_count": 20,
     "metadata": {},
     "output_type": "execute_result"
    }
   ],
   "source": [
    "file = open(r\"C:\\Users\\hp\\Desktop\\Demo\\welcome.txt\",\"a\")\n",
    "content = file.write(\"I am appending a line\")\n",
    "content"
   ]
  },
  {
   "cell_type": "code",
   "execution_count": 22,
   "id": "05e80795",
   "metadata": {},
   "outputs": [
    {
     "data": {
      "text/plain": [
       "'This is my fourth lineWelcome to the first line.\\nWelcome to the second line.\\nI am appending a line'"
      ]
     },
     "execution_count": 22,
     "metadata": {},
     "output_type": "execute_result"
    }
   ],
   "source": [
    "file = open(r\"C:\\Users\\hp\\Desktop\\Demo\\welcome.txt\",\"r\")\n",
    "content = file.read()\n",
    "content"
   ]
  },
  {
   "cell_type": "code",
   "execution_count": 23,
   "id": "423b391f",
   "metadata": {},
   "outputs": [],
   "source": [
    "file = open(r\"C:\\Users\\hp\\Desktop\\Demo\\welcome.txt\",\"w\")\n",
    "file.write(\"This is my first line\")\n",
    "file.close()"
   ]
  },
  {
   "cell_type": "code",
   "execution_count": 24,
   "id": "b34490f6",
   "metadata": {},
   "outputs": [
    {
     "data": {
      "text/plain": [
       "'This is my first line'"
      ]
     },
     "execution_count": 24,
     "metadata": {},
     "output_type": "execute_result"
    }
   ],
   "source": [
    "file = open(r\"C:\\Users\\hp\\Desktop\\Demo\\welcome.txt\",\"r\")\n",
    "content = file.read()\n",
    "content"
   ]
  },
  {
   "cell_type": "code",
   "execution_count": 25,
   "id": "de967817",
   "metadata": {},
   "outputs": [
    {
     "data": {
      "text/plain": [
       "22"
      ]
     },
     "execution_count": 25,
     "metadata": {},
     "output_type": "execute_result"
    }
   ],
   "source": [
    "file = open(r\"C:\\Users\\hp\\Desktop\\Demo\\welcome.txt\",\"a\")\n",
    "content = file.write(\"This is my second line\")\n",
    "content\n",
    "# Will append to the existing file content"
   ]
  },
  {
   "cell_type": "code",
   "execution_count": 26,
   "id": "aa3b4875",
   "metadata": {},
   "outputs": [
    {
     "data": {
      "text/plain": [
       "'This is my first lineThis is my second line'"
      ]
     },
     "execution_count": 26,
     "metadata": {},
     "output_type": "execute_result"
    }
   ],
   "source": [
    "file = open(r\"C:\\Users\\hp\\Desktop\\Demo\\welcome.txt\",\"r\")\n",
    "content = file.read()\n",
    "content"
   ]
  },
  {
   "cell_type": "code",
   "execution_count": 27,
   "id": "7fa84401",
   "metadata": {},
   "outputs": [],
   "source": [
    "file = open(r\"C:\\Users\\hp\\Desktop\\Demo\\welcome.txt\",\"w\")\n",
    "file.writelines([\"Welcome to the first line.\\n\", \"Welcome to the second line.\\n\"])\n",
    "file.close()"
   ]
  },
  {
   "cell_type": "code",
   "execution_count": 28,
   "id": "e5bffdb3",
   "metadata": {},
   "outputs": [
    {
     "data": {
      "text/plain": [
       "'Welcome to the first line.\\nWelcome to the second line.\\n'"
      ]
     },
     "execution_count": 28,
     "metadata": {},
     "output_type": "execute_result"
    }
   ],
   "source": [
    "file = open(r\"C:\\Users\\hp\\Desktop\\Demo\\welcome.txt\",\"r\")\n",
    "content = file.read()\n",
    "content"
   ]
  },
  {
   "cell_type": "code",
   "execution_count": 34,
   "id": "f99859f1",
   "metadata": {},
   "outputs": [],
   "source": [
    "os.remove(r\"C:\\Users\\hp\\Desktop\\Demo\\demo.txt\")"
   ]
  },
  {
   "cell_type": "code",
   "execution_count": 35,
   "id": "a8f0b5ab",
   "metadata": {},
   "outputs": [],
   "source": [
    "file = open(r\"C:\\Users\\hp\\Desktop\\Demo\\demo.txt\",\"a\")\n",
    "file.writelines([\"Welcome to the first line.\\n\", \"Welcome to the second line.\\n\"])\n",
    "file.close()"
   ]
  },
  {
   "cell_type": "code",
   "execution_count": null,
   "id": "f16e5d8c",
   "metadata": {},
   "outputs": [],
   "source": [
    "# with open(path,mode) as file:\n",
    "#     here you will write all your code"
   ]
  },
  {
   "cell_type": "code",
   "execution_count": 38,
   "id": "f64238d0",
   "metadata": {},
   "outputs": [
    {
     "name": "stdout",
     "output_type": "stream",
     "text": [
      "Welcome to the first line.\n",
      "Welcome to the second line.\n",
      "\n"
     ]
    }
   ],
   "source": [
    "with open(r\"C:\\Users\\hp\\Desktop\\Demo\\demo.txt\",\"r\") as file:\n",
    "    print(file.read())"
   ]
  },
  {
   "cell_type": "code",
   "execution_count": 40,
   "id": "05cab12e",
   "metadata": {},
   "outputs": [],
   "source": [
    "with open(r\"C:\\Users\\hp\\Desktop\\Demo\\demo.txt\",\"w\") as file:\n",
    "#     All my logic here\n",
    "    file.write(\"This is a new line\")\n",
    "# Here you don't have to define close it will be done when you\"ll exit the block"
   ]
  },
  {
   "cell_type": "code",
   "execution_count": 45,
   "id": "c60d842a",
   "metadata": {},
   "outputs": [
    {
     "name": "stdout",
     "output_type": "stream",
     "text": [
      "This is my fourth line\n"
     ]
    }
   ],
   "source": [
    "with open(r\"C:\\Users\\hp\\Desktop\\Demo\\demo.txt\",\"r+\") as file:\n",
    "    print(file.read())"
   ]
  },
  {
   "cell_type": "code",
   "execution_count": 58,
   "id": "45d0b429",
   "metadata": {},
   "outputs": [],
   "source": [
    "file = open(r\"C:\\Users\\hp\\Desktop\\Demo\\demo.txt\",\"w\")\n",
    "file.write(\"This is my fourth line\")\n",
    "file.close()"
   ]
  },
  {
   "cell_type": "code",
   "execution_count": null,
   "id": "580986f1",
   "metadata": {},
   "outputs": [],
   "source": [
    "# 'r': Open for reading. (Default mode if no mode is specified)\n",
    "# 'w': Open for writing. Creates a new file or truncates the existing file to zero length.\n",
    "# 'x': Open for exclusive creation. If the file already exists, the operation will fail.\n",
    "# 'a': Open for writing in append mode. The file is created if it does not exist, and the data is written at the end of the file.\n",
    "# 'b': Binary mode. This is used for opening the file in binary mode, which is necessary for non-text files like images or executables.\n",
    "# 't': Text mode. This is the default mode for opening a file as a text file.\n",
    "# '+': Open for updating (reading and writing).\n",
    "# \"w+\" --> This is your writing and reading both\n",
    "# \"r+\" --> This is your reading and writing both\n",
    "# \"a+\" --> This is your appending and reading both"
   ]
  },
  {
   "cell_type": "markdown",
   "id": "a970eb41",
   "metadata": {},
   "source": [
    "# Python OOPs Concepts"
   ]
  },
  {
   "cell_type": "markdown",
   "id": "8a7f505c",
   "metadata": {},
   "source": [
    "In Python, object-oriented Programming (OOPs) is a programming paradigm that uses objects and classes in programming. It aims to implement real-world entities like inheritance, polymorphisms, encapsulation, etc. in the programming. The main concept of OOPs is to bind the data and the functions that work on that together as a single unit so that no other part of the code can access this data."
   ]
  },
  {
   "cell_type": "markdown",
   "id": "accc8d9f",
   "metadata": {},
   "source": [
    "#### Python Class "
   ]
  },
  {
   "cell_type": "markdown",
   "id": "cfa0b46e",
   "metadata": {},
   "source": [
    "A class is a collection of objects. A class contains the blueprints or the prototype from which the objects are being created. It is a logical entity that contains some attributes and methods. "
   ]
  },
  {
   "cell_type": "markdown",
   "id": "cb1d7163",
   "metadata": {},
   "source": [
    "#### Python Objects"
   ]
  },
  {
   "cell_type": "markdown",
   "id": "a6e995b9",
   "metadata": {},
   "source": [
    "The object is an entity that has a state and behavior associated with it. It may be any real-world object like a mouse, keyboard, chair, table, pen, etc. Integers, strings, floating-point numbers, even arrays, and dictionaries, are all objects. More specifically, any single integer or any single string is an object. The number 12 is an object, the string “Hello, world” is an object, a list is an object that can hold other objects, and so on. You’ve been using objects all along and may not even realize it."
   ]
  },
  {
   "cell_type": "markdown",
   "id": "bd6ca0fc",
   "metadata": {},
   "source": [
    "###### An object consists of:\n",
    "\n",
    "###### State: It is represented by the attributes of an object. It also reflects the properties of an object.\n",
    "###### Behavior: It is represented by the methods of an object. It also reflects the response of an object to other objects.\n",
    "###### Identity: It gives a unique name to an object and enables one object to interact with other objects."
   ]
  },
  {
   "cell_type": "markdown",
   "id": "d6cef52a",
   "metadata": {},
   "source": [
    "#### What is Polymorphism?"
   ]
  },
  {
   "cell_type": "markdown",
   "id": "78b3734b",
   "metadata": {},
   "source": [
    "The word polymorphism means having many forms. In programming, polymorphism means the same function name (but different signatures) being used for different types. The key difference is the data types and number of arguments used in function."
   ]
  },
  {
   "cell_type": "markdown",
   "id": "a941b2a4",
   "metadata": {},
   "source": [
    "#### Encapsulation"
   ]
  },
  {
   "cell_type": "markdown",
   "id": "5671fff2",
   "metadata": {},
   "source": [
    "Encapsulation is one of the fundamental concepts in object-oriented programming (OOP). It describes the idea of wrapping data and the methods that work on data within one unit"
   ]
  },
  {
   "cell_type": "markdown",
   "id": "97fbebd5",
   "metadata": {},
   "source": [
    "#### Inheritance"
   ]
  },
  {
   "cell_type": "markdown",
   "id": "4b3df45f",
   "metadata": {},
   "source": [
    "It is a mechanism that allows you to create a hierarchy of classes that share a set of properties and methods by deriving a class from another class. Inheritance is the capability of one class to derive or inherit the properties from another class"
   ]
  },
  {
   "cell_type": "markdown",
   "id": "d1e49d2a",
   "metadata": {},
   "source": [
    "#### Data Abstraction"
   ]
  },
  {
   "cell_type": "markdown",
   "id": "fa6d0357",
   "metadata": {},
   "source": [
    "Showing up the relevant data to the end user"
   ]
  },
  {
   "cell_type": "code",
   "execution_count": null,
   "id": "6af31fe6",
   "metadata": {},
   "outputs": [],
   "source": []
  }
 ],
 "metadata": {
  "kernelspec": {
   "display_name": "Python 3 (ipykernel)",
   "language": "python",
   "name": "python3"
  },
  "language_info": {
   "codemirror_mode": {
    "name": "ipython",
    "version": 3
   },
   "file_extension": ".py",
   "mimetype": "text/x-python",
   "name": "python",
   "nbconvert_exporter": "python",
   "pygments_lexer": "ipython3",
   "version": "3.9.7"
  }
 },
 "nbformat": 4,
 "nbformat_minor": 5
}
