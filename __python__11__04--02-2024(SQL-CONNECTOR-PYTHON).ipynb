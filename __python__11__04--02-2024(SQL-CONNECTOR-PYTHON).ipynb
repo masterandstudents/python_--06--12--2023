{
 "cells": [
  {
   "cell_type": "code",
   "execution_count": 3,
   "id": "f3c3e195",
   "metadata": {},
   "outputs": [
    {
     "name": "stderr",
     "output_type": "stream",
     "text": [
      "WARNING: Ignoring invalid distribution -ymongo (c:\\users\\hp\\anaconda3\\lib\\site-packages)\n",
      "WARNING: Ignoring invalid distribution -ymongo (c:\\users\\hp\\anaconda3\\lib\\site-packages)\n",
      "ERROR: Could not find a version that satisfies the requirement sql-connector-python (from versions: none)\n",
      "ERROR: No matching distribution found for sql-connector-python\n",
      "WARNING: Ignoring invalid distribution -ymongo (c:\\users\\hp\\anaconda3\\lib\\site-packages)\n",
      "WARNING: Ignoring invalid distribution -ymongo (c:\\users\\hp\\anaconda3\\lib\\site-packages)\n",
      "WARNING: Ignoring invalid distribution -ymongo (c:\\users\\hp\\anaconda3\\lib\\site-packages)\n"
     ]
    }
   ],
   "source": [
    "!pip install sql-connector-python"
   ]
  },
  {
   "cell_type": "code",
   "execution_count": null,
   "id": "0bb9a74e",
   "metadata": {},
   "outputs": [],
   "source": [
    "import mysql.connector as connection\n",
    "\n",
    "try:\n",
    "    mydb = connection.connect(host=\"127.0.0.1\",user=\"root\",passwd=\"123456\",use_pure=True)\n",
    "    query=\"CREATE DATABASES DEMO\"\n",
    "    \n",
    "    cursor = mydb.cursor()\n",
    "    cursor.execute(query) \n",
    "    \n",
    "except Exception as e:\n",
    "    mydb.close()"
   ]
  },
  {
   "cell_type": "code",
   "execution_count": null,
   "id": "ff55ea71",
   "metadata": {},
   "outputs": [],
   "source": [
    "import mysql.connector as connection\n",
    "\n",
    "try:\n",
    "    mydb = connection.connect(host=\"127.0.0.1\",user=\"root\",passwd=\"123456\",use_pure=True)\n",
    "    query=\"SHOW DATABASES\"\n",
    "    \n",
    "    cursor = mydb.cursor()\n",
    "    cursor.execute(query)\n",
    "    print(cursor.fetchall())\n",
    "    \n",
    "except Exception as e:\n",
    "    mydb.close()"
   ]
  },
  {
   "cell_type": "code",
   "execution_count": 18,
   "id": "cc1946eb",
   "metadata": {},
   "outputs": [],
   "source": [
    "import mysql.connector as connection\n",
    "\n",
    "try:\n",
    "    mydb = connection.connect(host=\"127.0.0.1\",user=\"root\",passwd=\"123456\",use_pure=True,database=\"DEMO\")\n",
    "    query=\"CREATE A TABLE STUDENTS_DETAILS (ROLL_NUMBER INT , STUDENT_NAME VARCHAR(50))\"\n",
    "    \n",
    "    cursor = mydb.cursor()\n",
    "    cursor.execute(query)\n",
    "    \n",
    "    \n",
    "except Exception as e:\n",
    "    mydb.close()"
   ]
  },
  {
   "cell_type": "code",
   "execution_count": 20,
   "id": "c7c4ffd3",
   "metadata": {},
   "outputs": [
    {
     "name": "stdout",
     "output_type": "stream",
     "text": [
      "[('files',), ('students_details',)]\n"
     ]
    }
   ],
   "source": [
    "import mysql.connector as connection\n",
    "\n",
    "try:\n",
    "    mydb = connection.connect(host=\"127.0.0.1\",user=\"root\",passwd=\"123456\",use_pure=True,database=\"demo\")\n",
    "    query=\"SHOW TABLES\"\n",
    "    \n",
    "    cursor = mydb.cursor()\n",
    "    cursor.execute(query)\n",
    "    print(cursor.fetchall())\n",
    "    \n",
    "    \n",
    "except Exception as e:\n",
    "    mydb.close()"
   ]
  },
  {
   "cell_type": "code",
   "execution_count": 33,
   "id": "f74cf083",
   "metadata": {},
   "outputs": [],
   "source": [
    "import mysql.connector as connection\n",
    "\n",
    "try:\n",
    "    mydb = connection.connect(host=\"127.0.0.1\",user=\"root\",passwd=\"123456\",use_pure=True,database=\"demo\")\n",
    "    query = \"INSERT INTO STUDENTS_DETAILS VALUES (1, 'Jo')\"\n",
    "\n",
    "    \n",
    "    cursor = mydb.cursor()\n",
    "    cursor.execute(query)\n",
    "    mydb.commit()\n",
    "    \n",
    "except Exception as e:\n",
    "    mydb.close()"
   ]
  },
  {
   "cell_type": "code",
   "execution_count": 34,
   "id": "240a4d6b",
   "metadata": {},
   "outputs": [
    {
     "name": "stdout",
     "output_type": "stream",
     "text": [
      "[(1, 'John'), (1, 'John'), (1, 'Jo')]\n"
     ]
    }
   ],
   "source": [
    "import mysql.connector as connection\n",
    "\n",
    "try:\n",
    "    mydb = connection.connect(host=\"127.0.0.1\",user=\"root\",passwd=\"123456\",use_pure=True,database=\"demo\")\n",
    "    query=\"SELECT * FROM STUDENTS_DETAILS\"\n",
    "    \n",
    "    cursor = mydb.cursor()\n",
    "    cursor.execute(query)\n",
    "    print(cursor.fetchall())\n",
    "    \n",
    "    \n",
    "except Exception as e:\n",
    "    mydb.close()"
   ]
  },
  {
   "cell_type": "markdown",
   "id": "2bd37006",
   "metadata": {},
   "source": [
    "# Steps"
   ]
  },
  {
   "cell_type": "code",
   "execution_count": null,
   "id": "654153af",
   "metadata": {},
   "outputs": [],
   "source": [
    "1.Open your workbench\n",
    "2.!pip install mysql-connector-python\n",
    "3.connect the workbench with your connection.connect(host=\"localhost\",user=\"root\",passwd=\"give your password\",use_pure=True)"
   ]
  }
 ],
 "metadata": {
  "kernelspec": {
   "display_name": "Python 3 (ipykernel)",
   "language": "python",
   "name": "python3"
  },
  "language_info": {
   "codemirror_mode": {
    "name": "ipython",
    "version": 3
   },
   "file_extension": ".py",
   "mimetype": "text/x-python",
   "name": "python",
   "nbconvert_exporter": "python",
   "pygments_lexer": "ipython3",
   "version": "3.9.7"
  }
 },
 "nbformat": 4,
 "nbformat_minor": 5
}
