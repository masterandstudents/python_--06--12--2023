{
 "cells": [
  {
   "cell_type": "code",
   "execution_count": 105,
   "id": "9c9e009e",
   "metadata": {},
   "outputs": [],
   "source": [
    "var=[12,2,34,'john',1.2]"
   ]
  },
  {
   "cell_type": "code",
   "execution_count": 106,
   "id": "81d29d73",
   "metadata": {},
   "outputs": [
    {
     "data": {
      "text/plain": [
       "list"
      ]
     },
     "execution_count": 106,
     "metadata": {},
     "output_type": "execute_result"
    }
   ],
   "source": [
    "type(var)"
   ]
  },
  {
   "cell_type": "code",
   "execution_count": 107,
   "id": "c1beb83d",
   "metadata": {},
   "outputs": [
    {
     "data": {
      "text/plain": [
       "12"
      ]
     },
     "execution_count": 107,
     "metadata": {},
     "output_type": "execute_result"
    }
   ],
   "source": [
    "var[0]"
   ]
  },
  {
   "cell_type": "code",
   "execution_count": 108,
   "id": "5320e90e",
   "metadata": {},
   "outputs": [
    {
     "data": {
      "text/plain": [
       "'john'"
      ]
     },
     "execution_count": 108,
     "metadata": {},
     "output_type": "execute_result"
    }
   ],
   "source": [
    "var[3]"
   ]
  },
  {
   "cell_type": "code",
   "execution_count": 109,
   "id": "107230e0",
   "metadata": {},
   "outputs": [
    {
     "data": {
      "text/plain": [
       "34"
      ]
     },
     "execution_count": 109,
     "metadata": {},
     "output_type": "execute_result"
    }
   ],
   "source": [
    "var[2]"
   ]
  },
  {
   "cell_type": "code",
   "execution_count": 111,
   "id": "c050e2eb",
   "metadata": {},
   "outputs": [
    {
     "data": {
      "text/plain": [
       "str"
      ]
     },
     "execution_count": 111,
     "metadata": {},
     "output_type": "execute_result"
    }
   ],
   "source": [
    "type(var[3])"
   ]
  },
  {
   "cell_type": "code",
   "execution_count": 112,
   "id": "3a159d10",
   "metadata": {},
   "outputs": [
    {
     "data": {
      "text/plain": [
       "float"
      ]
     },
     "execution_count": 112,
     "metadata": {},
     "output_type": "execute_result"
    }
   ],
   "source": [
    "type(var[4])"
   ]
  },
  {
   "cell_type": "code",
   "execution_count": 113,
   "id": "91e75516",
   "metadata": {},
   "outputs": [],
   "source": [
    "tup = (1,2,3,'john',4.5)"
   ]
  },
  {
   "cell_type": "code",
   "execution_count": 114,
   "id": "06bd59b2",
   "metadata": {},
   "outputs": [
    {
     "data": {
      "text/plain": [
       "1"
      ]
     },
     "execution_count": 114,
     "metadata": {},
     "output_type": "execute_result"
    }
   ],
   "source": [
    "tup[0]"
   ]
  },
  {
   "cell_type": "code",
   "execution_count": 115,
   "id": "c0dd5fe0",
   "metadata": {},
   "outputs": [
    {
     "data": {
      "text/plain": [
       "3"
      ]
     },
     "execution_count": 115,
     "metadata": {},
     "output_type": "execute_result"
    }
   ],
   "source": [
    "tup[2]"
   ]
  },
  {
   "cell_type": "code",
   "execution_count": 117,
   "id": "84ff9932",
   "metadata": {},
   "outputs": [
    {
     "data": {
      "text/plain": [
       "'john'"
      ]
     },
     "execution_count": 117,
     "metadata": {},
     "output_type": "execute_result"
    }
   ],
   "source": [
    "tup[3]"
   ]
  },
  {
   "cell_type": "code",
   "execution_count": 118,
   "id": "acb744b9",
   "metadata": {},
   "outputs": [],
   "source": [
    "# mutable & immutable"
   ]
  },
  {
   "cell_type": "code",
   "execution_count": 119,
   "id": "3fa0c039",
   "metadata": {},
   "outputs": [
    {
     "data": {
      "text/plain": [
       "[12, 2, 34, 'john', 1.2]"
      ]
     },
     "execution_count": 119,
     "metadata": {},
     "output_type": "execute_result"
    }
   ],
   "source": [
    "var"
   ]
  },
  {
   "cell_type": "code",
   "execution_count": 121,
   "id": "aeb103fe",
   "metadata": {},
   "outputs": [],
   "source": [
    "var[0] =\"koko\""
   ]
  },
  {
   "cell_type": "code",
   "execution_count": 122,
   "id": "a53001bd",
   "metadata": {},
   "outputs": [
    {
     "data": {
      "text/plain": [
       "['koko', 2, 34, 'john', 1.2]"
      ]
     },
     "execution_count": 122,
     "metadata": {},
     "output_type": "execute_result"
    }
   ],
   "source": [
    "var"
   ]
  },
  {
   "cell_type": "code",
   "execution_count": 123,
   "id": "da570691",
   "metadata": {},
   "outputs": [],
   "source": [
    "var[0] =1"
   ]
  },
  {
   "cell_type": "code",
   "execution_count": 124,
   "id": "38e3719f",
   "metadata": {},
   "outputs": [
    {
     "data": {
      "text/plain": [
       "[1, 2, 34, 'john', 1.2]"
      ]
     },
     "execution_count": 124,
     "metadata": {},
     "output_type": "execute_result"
    }
   ],
   "source": [
    "var"
   ]
  },
  {
   "cell_type": "code",
   "execution_count": 125,
   "id": "2410df52",
   "metadata": {},
   "outputs": [
    {
     "data": {
      "text/plain": [
       "'john'"
      ]
     },
     "execution_count": 125,
     "metadata": {},
     "output_type": "execute_result"
    }
   ],
   "source": [
    "var[3]"
   ]
  },
  {
   "cell_type": "code",
   "execution_count": 126,
   "id": "c5f5066a",
   "metadata": {},
   "outputs": [],
   "source": [
    "var[3]='koko'"
   ]
  },
  {
   "cell_type": "code",
   "execution_count": 127,
   "id": "6518937c",
   "metadata": {},
   "outputs": [
    {
     "data": {
      "text/plain": [
       "[1, 2, 34, 'koko', 1.2]"
      ]
     },
     "execution_count": 127,
     "metadata": {},
     "output_type": "execute_result"
    }
   ],
   "source": [
    "var"
   ]
  },
  {
   "cell_type": "code",
   "execution_count": 128,
   "id": "32cb64b5",
   "metadata": {},
   "outputs": [
    {
     "data": {
      "text/plain": [
       "(1, 2, 3, 'john', 4.5)"
      ]
     },
     "execution_count": 128,
     "metadata": {},
     "output_type": "execute_result"
    }
   ],
   "source": [
    "tup"
   ]
  },
  {
   "cell_type": "code",
   "execution_count": 129,
   "id": "d7484ba9",
   "metadata": {},
   "outputs": [
    {
     "data": {
      "text/plain": [
       "1"
      ]
     },
     "execution_count": 129,
     "metadata": {},
     "output_type": "execute_result"
    }
   ],
   "source": [
    "tup[0]"
   ]
  },
  {
   "cell_type": "code",
   "execution_count": 130,
   "id": "b8375b50",
   "metadata": {},
   "outputs": [
    {
     "ename": "TypeError",
     "evalue": "'tuple' object does not support item assignment",
     "output_type": "error",
     "traceback": [
      "\u001b[1;31m---------------------------------------------------------------------------\u001b[0m",
      "\u001b[1;31mTypeError\u001b[0m                                 Traceback (most recent call last)",
      "\u001b[1;32m~\\AppData\\Local\\Temp/ipykernel_11452/3227260633.py\u001b[0m in \u001b[0;36m<module>\u001b[1;34m\u001b[0m\n\u001b[1;32m----> 1\u001b[1;33m \u001b[0mtup\u001b[0m\u001b[1;33m[\u001b[0m\u001b[1;36m0\u001b[0m\u001b[1;33m]\u001b[0m \u001b[1;33m=\u001b[0m \u001b[1;36m2\u001b[0m\u001b[1;33m\u001b[0m\u001b[1;33m\u001b[0m\u001b[0m\n\u001b[0m",
      "\u001b[1;31mTypeError\u001b[0m: 'tuple' object does not support item assignment"
     ]
    }
   ],
   "source": [
    "tup[0] = 2"
   ]
  },
  {
   "cell_type": "code",
   "execution_count": 132,
   "id": "0476777c",
   "metadata": {},
   "outputs": [],
   "source": [
    "tup = (1,2)\n",
    "tup1 =(3,4)\n",
    "tup = tup + tup1"
   ]
  },
  {
   "cell_type": "code",
   "execution_count": 133,
   "id": "5ce71e6d",
   "metadata": {},
   "outputs": [
    {
     "data": {
      "text/plain": [
       "(1, 2, 3, 4)"
      ]
     },
     "execution_count": 133,
     "metadata": {},
     "output_type": "execute_result"
    }
   ],
   "source": [
    "tup"
   ]
  },
  {
   "cell_type": "code",
   "execution_count": 135,
   "id": "ed32938c",
   "metadata": {},
   "outputs": [
    {
     "ename": "TypeError",
     "evalue": "'tuple' object does not support item assignment",
     "output_type": "error",
     "traceback": [
      "\u001b[1;31m---------------------------------------------------------------------------\u001b[0m",
      "\u001b[1;31mTypeError\u001b[0m                                 Traceback (most recent call last)",
      "\u001b[1;32m~\\AppData\\Local\\Temp/ipykernel_11452/2692565391.py\u001b[0m in \u001b[0;36m<module>\u001b[1;34m\u001b[0m\n\u001b[1;32m----> 1\u001b[1;33m \u001b[0mtup\u001b[0m\u001b[1;33m[\u001b[0m\u001b[1;36m0\u001b[0m\u001b[1;33m]\u001b[0m \u001b[1;33m=\u001b[0m \u001b[1;36m5\u001b[0m\u001b[1;33m\u001b[0m\u001b[1;33m\u001b[0m\u001b[0m\n\u001b[0m",
      "\u001b[1;31mTypeError\u001b[0m: 'tuple' object does not support item assignment"
     ]
    }
   ],
   "source": [
    "tup[0] = 5"
   ]
  },
  {
   "cell_type": "code",
   "execution_count": 136,
   "id": "dda1a574",
   "metadata": {},
   "outputs": [],
   "source": [
    "name = 'john'"
   ]
  },
  {
   "cell_type": "code",
   "execution_count": 137,
   "id": "bed2bc90",
   "metadata": {},
   "outputs": [
    {
     "data": {
      "text/plain": [
       "'j'"
      ]
     },
     "execution_count": 137,
     "metadata": {},
     "output_type": "execute_result"
    }
   ],
   "source": [
    "name[0]"
   ]
  },
  {
   "cell_type": "code",
   "execution_count": 138,
   "id": "74c37cab",
   "metadata": {},
   "outputs": [
    {
     "ename": "TypeError",
     "evalue": "'str' object does not support item assignment",
     "output_type": "error",
     "traceback": [
      "\u001b[1;31m---------------------------------------------------------------------------\u001b[0m",
      "\u001b[1;31mTypeError\u001b[0m                                 Traceback (most recent call last)",
      "\u001b[1;32m~\\AppData\\Local\\Temp/ipykernel_11452/1973940630.py\u001b[0m in \u001b[0;36m<module>\u001b[1;34m\u001b[0m\n\u001b[1;32m----> 1\u001b[1;33m \u001b[0mname\u001b[0m\u001b[1;33m[\u001b[0m\u001b[1;36m0\u001b[0m\u001b[1;33m]\u001b[0m \u001b[1;33m=\u001b[0m \u001b[1;34m'k'\u001b[0m\u001b[1;33m\u001b[0m\u001b[1;33m\u001b[0m\u001b[0m\n\u001b[0m",
      "\u001b[1;31mTypeError\u001b[0m: 'str' object does not support item assignment"
     ]
    }
   ],
   "source": [
    "name[0] = 'k'"
   ]
  },
  {
   "cell_type": "code",
   "execution_count": 139,
   "id": "4535290b",
   "metadata": {},
   "outputs": [
    {
     "data": {
      "text/plain": [
       "[1, 2, 34, 'koko', 1.2]"
      ]
     },
     "execution_count": 139,
     "metadata": {},
     "output_type": "execute_result"
    }
   ],
   "source": [
    "var"
   ]
  },
  {
   "cell_type": "code",
   "execution_count": 140,
   "id": "ffb6ff91",
   "metadata": {},
   "outputs": [
    {
     "data": {
      "text/plain": [
       "'koko'"
      ]
     },
     "execution_count": 140,
     "metadata": {},
     "output_type": "execute_result"
    }
   ],
   "source": [
    "var[3]"
   ]
  },
  {
   "cell_type": "code",
   "execution_count": 141,
   "id": "edd55339",
   "metadata": {},
   "outputs": [],
   "source": [
    "var[3] = 1"
   ]
  },
  {
   "cell_type": "code",
   "execution_count": 142,
   "id": "aa3356cf",
   "metadata": {},
   "outputs": [
    {
     "data": {
      "text/plain": [
       "[1, 2, 34, 1, 1.2]"
      ]
     },
     "execution_count": 142,
     "metadata": {},
     "output_type": "execute_result"
    }
   ],
   "source": [
    "var"
   ]
  },
  {
   "cell_type": "code",
   "execution_count": 143,
   "id": "0f66d68e",
   "metadata": {},
   "outputs": [],
   "source": [
    "# Immutable objects are those one where you can't manipulate data after declaration --> tuples, str"
   ]
  },
  {
   "cell_type": "code",
   "execution_count": null,
   "id": "1aee7460",
   "metadata": {},
   "outputs": [],
   "source": [
    "# In Mutable obj you can like --> list, dict , set"
   ]
  },
  {
   "cell_type": "code",
   "execution_count": 145,
   "id": "439863c3",
   "metadata": {},
   "outputs": [],
   "source": [
    "var = True"
   ]
  },
  {
   "cell_type": "code",
   "execution_count": 146,
   "id": "11d067df",
   "metadata": {},
   "outputs": [
    {
     "data": {
      "text/plain": [
       "bool"
      ]
     },
     "execution_count": 146,
     "metadata": {},
     "output_type": "execute_result"
    }
   ],
   "source": [
    "type(var)"
   ]
  },
  {
   "cell_type": "code",
   "execution_count": 147,
   "id": "2b17c080",
   "metadata": {},
   "outputs": [],
   "source": [
    "var1= False"
   ]
  },
  {
   "cell_type": "code",
   "execution_count": 148,
   "id": "c3a35613",
   "metadata": {},
   "outputs": [
    {
     "data": {
      "text/plain": [
       "bool"
      ]
     },
     "execution_count": 148,
     "metadata": {},
     "output_type": "execute_result"
    }
   ],
   "source": [
    "type(var1)"
   ]
  },
  {
   "cell_type": "code",
   "execution_count": 149,
   "id": "606679d6",
   "metadata": {},
   "outputs": [
    {
     "data": {
      "text/plain": [
       "False"
      ]
     },
     "execution_count": 149,
     "metadata": {},
     "output_type": "execute_result"
    }
   ],
   "source": [
    "1 > 3"
   ]
  },
  {
   "cell_type": "code",
   "execution_count": 150,
   "id": "7c4091ea",
   "metadata": {},
   "outputs": [
    {
     "data": {
      "text/plain": [
       "True"
      ]
     },
     "execution_count": 150,
     "metadata": {},
     "output_type": "execute_result"
    }
   ],
   "source": [
    "2 > 1"
   ]
  },
  {
   "cell_type": "code",
   "execution_count": 151,
   "id": "d2ff13f9",
   "metadata": {},
   "outputs": [],
   "source": [
    "dic = {\"key\":\"value\"}"
   ]
  },
  {
   "cell_type": "code",
   "execution_count": 152,
   "id": "300a061e",
   "metadata": {},
   "outputs": [
    {
     "data": {
      "text/plain": [
       "{'key': 'value'}"
      ]
     },
     "execution_count": 152,
     "metadata": {},
     "output_type": "execute_result"
    }
   ],
   "source": [
    "dic"
   ]
  },
  {
   "cell_type": "code",
   "execution_count": 153,
   "id": "04320e4b",
   "metadata": {},
   "outputs": [
    {
     "ename": "KeyError",
     "evalue": "0",
     "output_type": "error",
     "traceback": [
      "\u001b[1;31m---------------------------------------------------------------------------\u001b[0m",
      "\u001b[1;31mKeyError\u001b[0m                                  Traceback (most recent call last)",
      "\u001b[1;32m~\\AppData\\Local\\Temp/ipykernel_11452/3912514468.py\u001b[0m in \u001b[0;36m<module>\u001b[1;34m\u001b[0m\n\u001b[1;32m----> 1\u001b[1;33m \u001b[0mdic\u001b[0m\u001b[1;33m[\u001b[0m\u001b[1;36m0\u001b[0m\u001b[1;33m]\u001b[0m\u001b[1;33m\u001b[0m\u001b[1;33m\u001b[0m\u001b[0m\n\u001b[0m",
      "\u001b[1;31mKeyError\u001b[0m: 0"
     ]
    }
   ],
   "source": [
    "dic[0]"
   ]
  },
  {
   "cell_type": "code",
   "execution_count": 154,
   "id": "ad962049",
   "metadata": {},
   "outputs": [
    {
     "data": {
      "text/plain": [
       "'value'"
      ]
     },
     "execution_count": 154,
     "metadata": {},
     "output_type": "execute_result"
    }
   ],
   "source": [
    "dic['key']"
   ]
  },
  {
   "cell_type": "code",
   "execution_count": 155,
   "id": "43155666",
   "metadata": {},
   "outputs": [],
   "source": [
    "student = {\n",
    "    \"name\":\"john\",\n",
    "    \"roll_no.\":2,\n",
    "    \"marks\":55\n",
    "}"
   ]
  },
  {
   "cell_type": "code",
   "execution_count": 157,
   "id": "e7c60303",
   "metadata": {},
   "outputs": [
    {
     "ename": "KeyError",
     "evalue": "0",
     "output_type": "error",
     "traceback": [
      "\u001b[1;31m---------------------------------------------------------------------------\u001b[0m",
      "\u001b[1;31mKeyError\u001b[0m                                  Traceback (most recent call last)",
      "\u001b[1;32m~\\AppData\\Local\\Temp/ipykernel_11452/3657199547.py\u001b[0m in \u001b[0;36m<module>\u001b[1;34m\u001b[0m\n\u001b[1;32m----> 1\u001b[1;33m \u001b[0mstudent\u001b[0m\u001b[1;33m[\u001b[0m\u001b[1;36m0\u001b[0m\u001b[1;33m]\u001b[0m\u001b[1;33m\u001b[0m\u001b[1;33m\u001b[0m\u001b[0m\n\u001b[0m",
      "\u001b[1;31mKeyError\u001b[0m: 0"
     ]
    }
   ],
   "source": [
    "student[0]"
   ]
  },
  {
   "cell_type": "code",
   "execution_count": 158,
   "id": "c2fc9d54",
   "metadata": {},
   "outputs": [
    {
     "data": {
      "text/plain": [
       "'john'"
      ]
     },
     "execution_count": 158,
     "metadata": {},
     "output_type": "execute_result"
    }
   ],
   "source": [
    "student['name']"
   ]
  },
  {
   "cell_type": "code",
   "execution_count": 160,
   "id": "be6b437d",
   "metadata": {},
   "outputs": [
    {
     "data": {
      "text/plain": [
       "55"
      ]
     },
     "execution_count": 160,
     "metadata": {},
     "output_type": "execute_result"
    }
   ],
   "source": [
    "student['marks']"
   ]
  },
  {
   "cell_type": "code",
   "execution_count": 162,
   "id": "3b752b95",
   "metadata": {},
   "outputs": [
    {
     "data": {
      "text/plain": [
       "2"
      ]
     },
     "execution_count": 162,
     "metadata": {},
     "output_type": "execute_result"
    }
   ],
   "source": [
    "student['roll_no.']"
   ]
  },
  {
   "cell_type": "code",
   "execution_count": 163,
   "id": "f4c86558",
   "metadata": {},
   "outputs": [],
   "source": [
    "student = {\n",
    "    \"name\":\"john\",\n",
    "    \"roll_no.\":2,\n",
    "    \"marks\":55,\n",
    "    'name':'koko'\n",
    "}"
   ]
  },
  {
   "cell_type": "code",
   "execution_count": 166,
   "id": "cb33e65b",
   "metadata": {},
   "outputs": [],
   "source": [
    "var = [1,1,1,1,1,2,2,2,3,4,5,5,6,7,7]"
   ]
  },
  {
   "cell_type": "code",
   "execution_count": 167,
   "id": "679cc808",
   "metadata": {},
   "outputs": [
    {
     "data": {
      "text/plain": [
       "[1, 1, 1, 1, 1, 2, 2, 2, 3, 4, 5, 5, 6, 7, 7]"
      ]
     },
     "execution_count": 167,
     "metadata": {},
     "output_type": "execute_result"
    }
   ],
   "source": [
    "var"
   ]
  },
  {
   "cell_type": "code",
   "execution_count": 168,
   "id": "1bc34a62",
   "metadata": {},
   "outputs": [
    {
     "data": {
      "text/plain": [
       "{1, 2, 3, 4, 5, 6, 7}"
      ]
     },
     "execution_count": 168,
     "metadata": {},
     "output_type": "execute_result"
    }
   ],
   "source": [
    "set(var)"
   ]
  },
  {
   "cell_type": "code",
   "execution_count": 169,
   "id": "eebf7f8d",
   "metadata": {},
   "outputs": [],
   "source": [
    "# Operators"
   ]
  },
  {
   "cell_type": "code",
   "execution_count": null,
   "id": "65e15e12",
   "metadata": {},
   "outputs": [],
   "source": [
    "# Arithmetic operators\n",
    "# Assignment operators\n",
    "# Comparison operators\n",
    "# Logical operators\n",
    "# Identity operators\n",
    "# Membership operators\n",
    "# Bitwise operators"
   ]
  },
  {
   "cell_type": "code",
   "execution_count": null,
   "id": "b98a785d",
   "metadata": {},
   "outputs": [],
   "source": [
    "# +,-,*,/,//,%,**"
   ]
  },
  {
   "cell_type": "code",
   "execution_count": 170,
   "id": "c7b7c0ea",
   "metadata": {},
   "outputs": [],
   "source": [
    "var = 3+4"
   ]
  },
  {
   "cell_type": "code",
   "execution_count": 171,
   "id": "fc5102fa",
   "metadata": {},
   "outputs": [
    {
     "data": {
      "text/plain": [
       "7"
      ]
     },
     "execution_count": 171,
     "metadata": {},
     "output_type": "execute_result"
    }
   ],
   "source": [
    "var"
   ]
  },
  {
   "cell_type": "code",
   "execution_count": 172,
   "id": "2ec89779",
   "metadata": {},
   "outputs": [],
   "source": [
    "var = 4-2\n"
   ]
  },
  {
   "cell_type": "code",
   "execution_count": 173,
   "id": "3c15e0c4",
   "metadata": {},
   "outputs": [
    {
     "data": {
      "text/plain": [
       "2"
      ]
     },
     "execution_count": 173,
     "metadata": {},
     "output_type": "execute_result"
    }
   ],
   "source": [
    "var"
   ]
  },
  {
   "cell_type": "code",
   "execution_count": 174,
   "id": "4ceb7431",
   "metadata": {},
   "outputs": [],
   "source": [
    "var = 4 *2"
   ]
  },
  {
   "cell_type": "code",
   "execution_count": 175,
   "id": "bd683fcf",
   "metadata": {},
   "outputs": [
    {
     "data": {
      "text/plain": [
       "8"
      ]
     },
     "execution_count": 175,
     "metadata": {},
     "output_type": "execute_result"
    }
   ],
   "source": [
    "var"
   ]
  },
  {
   "cell_type": "code",
   "execution_count": 176,
   "id": "2b74827f",
   "metadata": {},
   "outputs": [],
   "source": [
    "var = 4 /2"
   ]
  },
  {
   "cell_type": "code",
   "execution_count": 177,
   "id": "834b5bf8",
   "metadata": {},
   "outputs": [
    {
     "data": {
      "text/plain": [
       "2.0"
      ]
     },
     "execution_count": 177,
     "metadata": {},
     "output_type": "execute_result"
    }
   ],
   "source": [
    "var"
   ]
  },
  {
   "cell_type": "code",
   "execution_count": 178,
   "id": "05b9417a",
   "metadata": {},
   "outputs": [],
   "source": [
    "var = 4 // 2"
   ]
  },
  {
   "cell_type": "code",
   "execution_count": 179,
   "id": "d7fc27f0",
   "metadata": {},
   "outputs": [
    {
     "data": {
      "text/plain": [
       "2"
      ]
     },
     "execution_count": 179,
     "metadata": {},
     "output_type": "execute_result"
    }
   ],
   "source": [
    "var"
   ]
  },
  {
   "cell_type": "code",
   "execution_count": 180,
   "id": "f91634de",
   "metadata": {},
   "outputs": [],
   "source": [
    "var = 2"
   ]
  },
  {
   "cell_type": "code",
   "execution_count": 181,
   "id": "141df9bc",
   "metadata": {},
   "outputs": [
    {
     "data": {
      "text/plain": [
       "8"
      ]
     },
     "execution_count": 181,
     "metadata": {},
     "output_type": "execute_result"
    }
   ],
   "source": [
    "var**3"
   ]
  },
  {
   "cell_type": "code",
   "execution_count": 183,
   "id": "a4da37f8",
   "metadata": {},
   "outputs": [],
   "source": [
    "# Assignment Operators"
   ]
  },
  {
   "cell_type": "code",
   "execution_count": 184,
   "id": "67a074f8",
   "metadata": {},
   "outputs": [],
   "source": [
    "var = 1"
   ]
  },
  {
   "cell_type": "code",
   "execution_count": 185,
   "id": "ee9c1983",
   "metadata": {},
   "outputs": [
    {
     "data": {
      "text/plain": [
       "1"
      ]
     },
     "execution_count": 185,
     "metadata": {},
     "output_type": "execute_result"
    }
   ],
   "source": [
    "var"
   ]
  },
  {
   "cell_type": "code",
   "execution_count": 186,
   "id": "f99335ca",
   "metadata": {},
   "outputs": [],
   "source": [
    "var += 1"
   ]
  },
  {
   "cell_type": "code",
   "execution_count": 187,
   "id": "01e13d7c",
   "metadata": {},
   "outputs": [
    {
     "data": {
      "text/plain": [
       "2"
      ]
     },
     "execution_count": 187,
     "metadata": {},
     "output_type": "execute_result"
    }
   ],
   "source": [
    "var"
   ]
  },
  {
   "cell_type": "code",
   "execution_count": 188,
   "id": "3fc6f3fe",
   "metadata": {},
   "outputs": [],
   "source": [
    "var +=1"
   ]
  },
  {
   "cell_type": "code",
   "execution_count": 189,
   "id": "52b6fa41",
   "metadata": {},
   "outputs": [
    {
     "data": {
      "text/plain": [
       "3"
      ]
     },
     "execution_count": 189,
     "metadata": {},
     "output_type": "execute_result"
    }
   ],
   "source": [
    "var"
   ]
  },
  {
   "cell_type": "code",
   "execution_count": 191,
   "id": "629594e7",
   "metadata": {},
   "outputs": [],
   "source": [
    "var = var + 1"
   ]
  },
  {
   "cell_type": "code",
   "execution_count": 192,
   "id": "9f951062",
   "metadata": {},
   "outputs": [
    {
     "data": {
      "text/plain": [
       "4"
      ]
     },
     "execution_count": 192,
     "metadata": {},
     "output_type": "execute_result"
    }
   ],
   "source": [
    "var"
   ]
  },
  {
   "cell_type": "code",
   "execution_count": 193,
   "id": "110b863d",
   "metadata": {},
   "outputs": [],
   "source": [
    "var += 1"
   ]
  },
  {
   "cell_type": "code",
   "execution_count": 194,
   "id": "96f6a155",
   "metadata": {},
   "outputs": [
    {
     "data": {
      "text/plain": [
       "5"
      ]
     },
     "execution_count": 194,
     "metadata": {},
     "output_type": "execute_result"
    }
   ],
   "source": [
    "var"
   ]
  },
  {
   "cell_type": "code",
   "execution_count": 195,
   "id": "7c7090c1",
   "metadata": {},
   "outputs": [],
   "source": [
    "var -= 1"
   ]
  },
  {
   "cell_type": "code",
   "execution_count": 196,
   "id": "10a072cd",
   "metadata": {},
   "outputs": [
    {
     "data": {
      "text/plain": [
       "4"
      ]
     },
     "execution_count": 196,
     "metadata": {},
     "output_type": "execute_result"
    }
   ],
   "source": [
    "var"
   ]
  },
  {
   "cell_type": "code",
   "execution_count": 197,
   "id": "e600e32f",
   "metadata": {},
   "outputs": [],
   "source": [
    "var -= 1"
   ]
  },
  {
   "cell_type": "code",
   "execution_count": 198,
   "id": "360d83e9",
   "metadata": {},
   "outputs": [
    {
     "data": {
      "text/plain": [
       "0"
      ]
     },
     "execution_count": 198,
     "metadata": {},
     "output_type": "execute_result"
    }
   ],
   "source": [
    "*=,/=,%=,**="
   ]
  },
  {
   "cell_type": "code",
   "execution_count": 200,
   "id": "95978f2c",
   "metadata": {},
   "outputs": [],
   "source": [
    "# Comparison Operator\n",
    "# == equal to\n",
    "#  != not equal\n",
    "# > greater than\n",
    "# < less than\n",
    "# >= greater than equal to\n",
    "# <= smaller than equal to"
   ]
  },
  {
   "cell_type": "code",
   "execution_count": 201,
   "id": "47aa3928",
   "metadata": {},
   "outputs": [
    {
     "data": {
      "text/plain": [
       "False"
      ]
     },
     "execution_count": 201,
     "metadata": {},
     "output_type": "execute_result"
    }
   ],
   "source": [
    "\"Val\" == \"Car\""
   ]
  },
  {
   "cell_type": "code",
   "execution_count": 202,
   "id": "610c9aa4",
   "metadata": {},
   "outputs": [
    {
     "data": {
      "text/plain": [
       "True"
      ]
     },
     "execution_count": 202,
     "metadata": {},
     "output_type": "execute_result"
    }
   ],
   "source": [
    "\"Val\" == \"Val\""
   ]
  },
  {
   "cell_type": "code",
   "execution_count": 203,
   "id": "1da6c084",
   "metadata": {},
   "outputs": [
    {
     "data": {
      "text/plain": [
       "True"
      ]
     },
     "execution_count": 203,
     "metadata": {},
     "output_type": "execute_result"
    }
   ],
   "source": [
    "1 == 1"
   ]
  },
  {
   "cell_type": "code",
   "execution_count": 204,
   "id": "fd62b44b",
   "metadata": {},
   "outputs": [
    {
     "data": {
      "text/plain": [
       "False"
      ]
     },
     "execution_count": 204,
     "metadata": {},
     "output_type": "execute_result"
    }
   ],
   "source": [
    "1 == 2"
   ]
  },
  {
   "cell_type": "code",
   "execution_count": 205,
   "id": "1d93bf8c",
   "metadata": {},
   "outputs": [
    {
     "data": {
      "text/plain": [
       "True"
      ]
     },
     "execution_count": 205,
     "metadata": {},
     "output_type": "execute_result"
    }
   ],
   "source": [
    "\"Val\" != \"Car\" "
   ]
  },
  {
   "cell_type": "code",
   "execution_count": 206,
   "id": "c909e1db",
   "metadata": {},
   "outputs": [
    {
     "data": {
      "text/plain": [
       "False"
      ]
     },
     "execution_count": 206,
     "metadata": {},
     "output_type": "execute_result"
    }
   ],
   "source": [
    "\"Val\" != \"Val\""
   ]
  },
  {
   "cell_type": "code",
   "execution_count": 207,
   "id": "c8d8dbc5",
   "metadata": {},
   "outputs": [
    {
     "data": {
      "text/plain": [
       "False"
      ]
     },
     "execution_count": 207,
     "metadata": {},
     "output_type": "execute_result"
    }
   ],
   "source": [
    "1 > 2"
   ]
  },
  {
   "cell_type": "code",
   "execution_count": 208,
   "id": "f7f14fdc",
   "metadata": {},
   "outputs": [
    {
     "data": {
      "text/plain": [
       "True"
      ]
     },
     "execution_count": 208,
     "metadata": {},
     "output_type": "execute_result"
    }
   ],
   "source": [
    "3>1"
   ]
  },
  {
   "cell_type": "code",
   "execution_count": 209,
   "id": "98bba908",
   "metadata": {},
   "outputs": [
    {
     "data": {
      "text/plain": [
       "True"
      ]
     },
     "execution_count": 209,
     "metadata": {},
     "output_type": "execute_result"
    }
   ],
   "source": [
    "2<4"
   ]
  },
  {
   "cell_type": "code",
   "execution_count": 210,
   "id": "ac5e1fa3",
   "metadata": {},
   "outputs": [
    {
     "data": {
      "text/plain": [
       "False"
      ]
     },
     "execution_count": 210,
     "metadata": {},
     "output_type": "execute_result"
    }
   ],
   "source": [
    "2<1"
   ]
  },
  {
   "cell_type": "code",
   "execution_count": 213,
   "id": "c7f5c114",
   "metadata": {},
   "outputs": [
    {
     "data": {
      "text/plain": [
       "True"
      ]
     },
     "execution_count": 213,
     "metadata": {},
     "output_type": "execute_result"
    }
   ],
   "source": [
    "10 <= 10"
   ]
  },
  {
   "cell_type": "code",
   "execution_count": 214,
   "id": "2045afc0",
   "metadata": {},
   "outputs": [
    {
     "data": {
      "text/plain": [
       "True"
      ]
     },
     "execution_count": 214,
     "metadata": {},
     "output_type": "execute_result"
    }
   ],
   "source": [
    "10 >= 10"
   ]
  },
  {
   "cell_type": "code",
   "execution_count": 215,
   "id": "e2b9fc2f",
   "metadata": {},
   "outputs": [],
   "source": [
    "# Logical Operators"
   ]
  },
  {
   "cell_type": "code",
   "execution_count": 217,
   "id": "6bbf02c2",
   "metadata": {},
   "outputs": [
    {
     "name": "stdout",
     "output_type": "stream",
     "text": [
      "True False False False\n"
     ]
    }
   ],
   "source": [
    "print(\n",
    "True and True,\n",
    "    True and False,\n",
    "    False and False,\n",
    "    False and True\n",
    ")"
   ]
  },
  {
   "cell_type": "code",
   "execution_count": 218,
   "id": "738bfdf4",
   "metadata": {},
   "outputs": [
    {
     "name": "stdout",
     "output_type": "stream",
     "text": [
      "True True False True\n"
     ]
    }
   ],
   "source": [
    "print(\n",
    "True or True,\n",
    "    True or False,\n",
    "    False or False,\n",
    "    False or True\n",
    ")"
   ]
  },
  {
   "cell_type": "code",
   "execution_count": 225,
   "id": "29db7218",
   "metadata": {},
   "outputs": [
    {
     "data": {
      "text/plain": [
       "True"
      ]
     },
     "execution_count": 225,
     "metadata": {},
     "output_type": "execute_result"
    }
   ],
   "source": [
    "c"
   ]
  },
  {
   "cell_type": "code",
   "execution_count": 223,
   "id": "98e893e5",
   "metadata": {},
   "outputs": [
    {
     "data": {
      "text/plain": [
       "True"
      ]
     },
     "execution_count": 223,
     "metadata": {},
     "output_type": "execute_result"
    }
   ],
   "source": [
    "1<4"
   ]
  },
  {
   "cell_type": "code",
   "execution_count": 224,
   "id": "bd1bf4f5",
   "metadata": {},
   "outputs": [
    {
     "data": {
      "text/plain": [
       "False"
      ]
     },
     "execution_count": 224,
     "metadata": {},
     "output_type": "execute_result"
    }
   ],
   "source": [
    "1>4"
   ]
  },
  {
   "cell_type": "code",
   "execution_count": 226,
   "id": "45d14846",
   "metadata": {},
   "outputs": [
    {
     "data": {
      "text/plain": [
       "False"
      ]
     },
     "execution_count": 226,
     "metadata": {},
     "output_type": "execute_result"
    }
   ],
   "source": [
    "not(True)"
   ]
  },
  {
   "cell_type": "code",
   "execution_count": 228,
   "id": "27e02382",
   "metadata": {},
   "outputs": [
    {
     "data": {
      "text/plain": [
       "True"
      ]
     },
     "execution_count": 228,
     "metadata": {},
     "output_type": "execute_result"
    }
   ],
   "source": [
    "not(False)"
   ]
  },
  {
   "cell_type": "code",
   "execution_count": 230,
   "id": "30edfbd8",
   "metadata": {},
   "outputs": [
    {
     "data": {
      "text/plain": [
       "True"
      ]
     },
     "execution_count": 230,
     "metadata": {},
     "output_type": "execute_result"
    }
   ],
   "source": [
    "not(1<4 and 1>3)"
   ]
  },
  {
   "cell_type": "code",
   "execution_count": 231,
   "id": "66d9251b",
   "metadata": {},
   "outputs": [],
   "source": [
    "# Identity Operators"
   ]
  },
  {
   "cell_type": "code",
   "execution_count": 234,
   "id": "8bf20b17",
   "metadata": {},
   "outputs": [],
   "source": [
    "a=1\n",
    "b=2"
   ]
  },
  {
   "cell_type": "code",
   "execution_count": 235,
   "id": "c538a18f",
   "metadata": {},
   "outputs": [
    {
     "data": {
      "text/plain": [
       "False"
      ]
     },
     "execution_count": 235,
     "metadata": {},
     "output_type": "execute_result"
    }
   ],
   "source": [
    "a is b"
   ]
  },
  {
   "cell_type": "code",
   "execution_count": 236,
   "id": "edec4e51",
   "metadata": {},
   "outputs": [
    {
     "data": {
      "text/plain": [
       "True"
      ]
     },
     "execution_count": 236,
     "metadata": {},
     "output_type": "execute_result"
    }
   ],
   "source": [
    "a is not b"
   ]
  },
  {
   "cell_type": "code",
   "execution_count": 238,
   "id": "642bf354",
   "metadata": {},
   "outputs": [],
   "source": [
    "# Membership Operators-->in,notin"
   ]
  },
  {
   "cell_type": "code",
   "execution_count": 239,
   "id": "4ff261ed",
   "metadata": {},
   "outputs": [],
   "source": [
    "var=[1,2,3,4]"
   ]
  },
  {
   "cell_type": "code",
   "execution_count": 241,
   "id": "cedd98ac",
   "metadata": {},
   "outputs": [
    {
     "data": {
      "text/plain": [
       "True"
      ]
     },
     "execution_count": 241,
     "metadata": {},
     "output_type": "execute_result"
    }
   ],
   "source": [
    "1 in var"
   ]
  },
  {
   "cell_type": "code",
   "execution_count": 243,
   "id": "46b1be72",
   "metadata": {},
   "outputs": [
    {
     "data": {
      "text/plain": [
       "True"
      ]
     },
     "execution_count": 243,
     "metadata": {},
     "output_type": "execute_result"
    }
   ],
   "source": [
    "34 not in var"
   ]
  },
  {
   "cell_type": "code",
   "execution_count": 244,
   "id": "1998c4f6",
   "metadata": {},
   "outputs": [],
   "source": [
    "# Python Bitwise Operators"
   ]
  },
  {
   "cell_type": "code",
   "execution_count": 245,
   "id": "cc7ac732",
   "metadata": {},
   "outputs": [
    {
     "data": {
      "text/plain": [
       "1"
      ]
     },
     "execution_count": 245,
     "metadata": {},
     "output_type": "execute_result"
    }
   ],
   "source": [
    "1 & 1"
   ]
  },
  {
   "cell_type": "code",
   "execution_count": 246,
   "id": "6e59ba47",
   "metadata": {},
   "outputs": [
    {
     "data": {
      "text/plain": [
       "0"
      ]
     },
     "execution_count": 246,
     "metadata": {},
     "output_type": "execute_result"
    }
   ],
   "source": [
    "1 & 0 --> AND"
   ]
  },
  {
   "cell_type": "code",
   "execution_count": 247,
   "id": "5d9172cc",
   "metadata": {},
   "outputs": [
    {
     "data": {
      "text/plain": [
       "1"
      ]
     },
     "execution_count": 247,
     "metadata": {},
     "output_type": "execute_result"
    }
   ],
   "source": [
    "1 | 0 --> OR"
   ]
  },
  {
   "cell_type": "code",
   "execution_count": 248,
   "id": "ef3b4cf0",
   "metadata": {},
   "outputs": [
    {
     "data": {
      "text/plain": [
       "1"
      ]
     },
     "execution_count": 248,
     "metadata": {},
     "output_type": "execute_result"
    }
   ],
   "source": [
    "1 ^ 0 --> XOR"
   ]
  },
  {
   "cell_type": "code",
   "execution_count": 249,
   "id": "dcd2b746",
   "metadata": {},
   "outputs": [
    {
     "data": {
      "text/plain": [
       "-2"
      ]
     },
     "execution_count": 249,
     "metadata": {},
     "output_type": "execute_result"
    }
   ],
   "source": [
    "~1 --> NOT"
   ]
  },
  {
   "cell_type": "code",
   "execution_count": null,
   "id": "c3756084",
   "metadata": {},
   "outputs": [],
   "source": [
    "# Operator Precedence"
   ]
  },
  {
   "cell_type": "code",
   "execution_count": null,
   "id": "16b97579",
   "metadata": {},
   "outputs": [],
   "source": [
    "# ()\tParentheses --> FIRST \n",
    "# **\tExponentiation --> Second\n",
    "# +x  -x  ~x\tUnary plus, unary minus, and bitwise NOT\tThird\n",
    "# *  /  //  %\tMultiplication, division, floor division, and modulus\tFourth\n",
    "# +  -\tAddition and subtraction\tfivth\n",
    "# <<  >>\tBitwise left and right shifts\tsixth\n",
    "# &\tBitwise AND\t\n",
    "# ^\tBitwise XOR\t\n",
    "# |\tBitwise OR\t\n",
    "# ==  !=  >  >=  <  <=  is  is not  in  not in \tComparisons, identity, and membership operators\t\n",
    "# not\tLogical NOT\t\n",
    "# and\tAND\t\n",
    "# or\tOR"
   ]
  }
 ],
 "metadata": {
  "kernelspec": {
   "display_name": "Python 3 (ipykernel)",
   "language": "python",
   "name": "python3"
  },
  "language_info": {
   "codemirror_mode": {
    "name": "ipython",
    "version": 3
   },
   "file_extension": ".py",
   "mimetype": "text/x-python",
   "name": "python",
   "nbconvert_exporter": "python",
   "pygments_lexer": "ipython3",
   "version": "3.9.7"
  }
 },
 "nbformat": 4,
 "nbformat_minor": 5
}
