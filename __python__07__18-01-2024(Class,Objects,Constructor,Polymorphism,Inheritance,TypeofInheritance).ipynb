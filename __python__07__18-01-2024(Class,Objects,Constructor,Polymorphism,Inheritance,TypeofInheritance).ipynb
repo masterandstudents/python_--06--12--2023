{
 "cells": [
  {
   "cell_type": "code",
   "execution_count": 8,
   "id": "b3602e5c",
   "metadata": {},
   "outputs": [],
   "source": [
    "class Car:\n",
    "    color=\"blue\" #Attr\n",
    "    engine=\"strong\" #Attr\n",
    "    \n",
    "    def start(self): #Behaviour or Methods\n",
    "        print(\"Starting the car\")\n",
    "    \n",
    "    def topSpeed(self): #Behaviour or Methods\n",
    "        print(\"The top speed is 30km/h\")\n",
    "#         you declared a class here or your logical print"
   ]
  },
  {
   "cell_type": "code",
   "execution_count": 9,
   "id": "2192aeaf",
   "metadata": {},
   "outputs": [],
   "source": [
    "nano = Car()\n",
    "# here you declared the obj"
   ]
  },
  {
   "cell_type": "code",
   "execution_count": 10,
   "id": "86a174bd",
   "metadata": {},
   "outputs": [
    {
     "data": {
      "text/plain": [
       "'blue'"
      ]
     },
     "execution_count": 10,
     "metadata": {},
     "output_type": "execute_result"
    }
   ],
   "source": [
    "nano.color"
   ]
  },
  {
   "cell_type": "code",
   "execution_count": 11,
   "id": "7b26c3e8",
   "metadata": {},
   "outputs": [
    {
     "data": {
      "text/plain": [
       "'strong'"
      ]
     },
     "execution_count": 11,
     "metadata": {},
     "output_type": "execute_result"
    }
   ],
   "source": [
    "nano.engine"
   ]
  },
  {
   "cell_type": "code",
   "execution_count": 13,
   "id": "677d3766",
   "metadata": {},
   "outputs": [
    {
     "name": "stdout",
     "output_type": "stream",
     "text": [
      "Starting the car\n"
     ]
    }
   ],
   "source": [
    "nano.start()"
   ]
  },
  {
   "cell_type": "code",
   "execution_count": 14,
   "id": "f24d4d38",
   "metadata": {},
   "outputs": [
    {
     "name": "stdout",
     "output_type": "stream",
     "text": [
      "The top speed is 30km/h\n"
     ]
    }
   ],
   "source": [
    "nano.topSpeed()"
   ]
  },
  {
   "cell_type": "code",
   "execution_count": 15,
   "id": "0c606ad0",
   "metadata": {},
   "outputs": [],
   "source": [
    "nano1 = Car()"
   ]
  },
  {
   "cell_type": "code",
   "execution_count": 16,
   "id": "6706056c",
   "metadata": {},
   "outputs": [
    {
     "data": {
      "text/plain": [
       "'blue'"
      ]
     },
     "execution_count": 16,
     "metadata": {},
     "output_type": "execute_result"
    }
   ],
   "source": [
    "nano1.color"
   ]
  },
  {
   "cell_type": "code",
   "execution_count": 30,
   "id": "fad240e9",
   "metadata": {},
   "outputs": [],
   "source": [
    "def start():\n",
    "        print(\"Starting the car\")"
   ]
  },
  {
   "cell_type": "code",
   "execution_count": 31,
   "id": "890771da",
   "metadata": {},
   "outputs": [
    {
     "name": "stdout",
     "output_type": "stream",
     "text": [
      "Starting the car\n"
     ]
    }
   ],
   "source": [
    "start()"
   ]
  },
  {
   "cell_type": "code",
   "execution_count": 6,
   "id": "e32ef66c",
   "metadata": {},
   "outputs": [],
   "source": [
    "def topSpeed():\n",
    "    print(\"The top speed is 30km/h\")"
   ]
  },
  {
   "cell_type": "code",
   "execution_count": 7,
   "id": "53326adb",
   "metadata": {},
   "outputs": [
    {
     "name": "stdout",
     "output_type": "stream",
     "text": [
      "The top speed is 30km/h\n"
     ]
    }
   ],
   "source": [
    "topSpeed()"
   ]
  },
  {
   "cell_type": "code",
   "execution_count": 32,
   "id": "d37309bc",
   "metadata": {},
   "outputs": [],
   "source": [
    "class Car:\n",
    "    def __init__(self,color,engine): #This method is constructor\n",
    "        self.color=color #Attr #This is a car of car\n",
    "        self.engine=engine #Attr #This is a engine of car\n",
    "    \n",
    "    def start(self): #Behaviour or Methods\n",
    "        print(\"Starting the car\")\n",
    "    \n",
    "    def topSpeed(self): #Behaviour or Methods\n",
    "        print(\"The top speed is 30km/h\")\n",
    "        \n",
    "    def overSpeeding(self,speed):\n",
    "        if speed > 30:\n",
    "            print(\"yes overspeed\")\n",
    "        else:\n",
    "            print(\"No not overspeed\")\n",
    "#         you declared a class here or your logical print"
   ]
  },
  {
   "cell_type": "code",
   "execution_count": 33,
   "id": "c1e526bf",
   "metadata": {},
   "outputs": [],
   "source": [
    "nanoR = Car(\"Red\",\"Strong\")"
   ]
  },
  {
   "cell_type": "code",
   "execution_count": 34,
   "id": "92a37355",
   "metadata": {},
   "outputs": [
    {
     "data": {
      "text/plain": [
       "'Red'"
      ]
     },
     "execution_count": 34,
     "metadata": {},
     "output_type": "execute_result"
    }
   ],
   "source": [
    "nanoR.color"
   ]
  },
  {
   "cell_type": "code",
   "execution_count": 21,
   "id": "7aa09565",
   "metadata": {},
   "outputs": [
    {
     "data": {
      "text/plain": [
       "'Strong'"
      ]
     },
     "execution_count": 21,
     "metadata": {},
     "output_type": "execute_result"
    }
   ],
   "source": [
    "nanoR.engine"
   ]
  },
  {
   "cell_type": "code",
   "execution_count": 37,
   "id": "f0a512ba",
   "metadata": {},
   "outputs": [
    {
     "name": "stdout",
     "output_type": "stream",
     "text": [
      "yes overspeed\n"
     ]
    }
   ],
   "source": [
    "nanoR.overSpeeding(50)"
   ]
  },
  {
   "cell_type": "code",
   "execution_count": 22,
   "id": "b539ec1d",
   "metadata": {},
   "outputs": [],
   "source": [
    "nanoG = Car(\"Green\",\"Weak\")"
   ]
  },
  {
   "cell_type": "code",
   "execution_count": 23,
   "id": "d898a1e4",
   "metadata": {},
   "outputs": [
    {
     "data": {
      "text/plain": [
       "'Green'"
      ]
     },
     "execution_count": 23,
     "metadata": {},
     "output_type": "execute_result"
    }
   ],
   "source": [
    "nanoG.color"
   ]
  },
  {
   "cell_type": "code",
   "execution_count": 24,
   "id": "54495cb4",
   "metadata": {},
   "outputs": [
    {
     "data": {
      "text/plain": [
       "'Weak'"
      ]
     },
     "execution_count": 24,
     "metadata": {},
     "output_type": "execute_result"
    }
   ],
   "source": [
    "nanoG.engine"
   ]
  },
  {
   "cell_type": "code",
   "execution_count": 25,
   "id": "f4e3ec0b",
   "metadata": {},
   "outputs": [],
   "source": [
    "nanoB = Car(\"Blue\",\"Medium\")"
   ]
  },
  {
   "cell_type": "code",
   "execution_count": 26,
   "id": "20f7f18f",
   "metadata": {},
   "outputs": [
    {
     "data": {
      "text/plain": [
       "'Blue'"
      ]
     },
     "execution_count": 26,
     "metadata": {},
     "output_type": "execute_result"
    }
   ],
   "source": [
    "nanoB.color"
   ]
  },
  {
   "cell_type": "code",
   "execution_count": 27,
   "id": "041b22ba",
   "metadata": {},
   "outputs": [
    {
     "data": {
      "text/plain": [
       "'Medium'"
      ]
     },
     "execution_count": 27,
     "metadata": {},
     "output_type": "execute_result"
    }
   ],
   "source": [
    "nanoB.engine"
   ]
  },
  {
   "cell_type": "code",
   "execution_count": 42,
   "id": "6c9c8741",
   "metadata": {},
   "outputs": [],
   "source": [
    "class example:\n",
    "    def sample(this):\n",
    "        print(\"hello\")"
   ]
  },
  {
   "cell_type": "code",
   "execution_count": 43,
   "id": "6d3b9d1f",
   "metadata": {},
   "outputs": [],
   "source": [
    "obj = example()"
   ]
  },
  {
   "cell_type": "code",
   "execution_count": 44,
   "id": "83113179",
   "metadata": {},
   "outputs": [
    {
     "name": "stdout",
     "output_type": "stream",
     "text": [
      "hello\n"
     ]
    }
   ],
   "source": [
    "obj.sample()"
   ]
  },
  {
   "cell_type": "code",
   "execution_count": 60,
   "id": "fe6b4e1d",
   "metadata": {},
   "outputs": [],
   "source": [
    "class Dog:\n",
    "    def speak(self):\n",
    "        return \"Barks\"\n",
    "class Cat:\n",
    "    def speak(self):\n",
    "        return \"Meows\""
   ]
  },
  {
   "cell_type": "code",
   "execution_count": 62,
   "id": "51ca358c",
   "metadata": {},
   "outputs": [],
   "source": [
    "dog=Dog()\n",
    "cat=Cat()"
   ]
  },
  {
   "cell_type": "code",
   "execution_count": 63,
   "id": "a95adbf2",
   "metadata": {},
   "outputs": [
    {
     "data": {
      "text/plain": [
       "'Barks'"
      ]
     },
     "execution_count": 63,
     "metadata": {},
     "output_type": "execute_result"
    }
   ],
   "source": [
    "dog.speak()"
   ]
  },
  {
   "cell_type": "code",
   "execution_count": 64,
   "id": "c91a0037",
   "metadata": {},
   "outputs": [
    {
     "data": {
      "text/plain": [
       "'Meows'"
      ]
     },
     "execution_count": 64,
     "metadata": {},
     "output_type": "execute_result"
    }
   ],
   "source": [
    "cat.speak()"
   ]
  },
  {
   "cell_type": "code",
   "execution_count": 66,
   "id": "7b8eaee8",
   "metadata": {},
   "outputs": [],
   "source": [
    "class Sum:\n",
    "    def add(self,number_1,number_2,number_3=None):\n",
    "        if number_3 is None:\n",
    "            return number_1+number_2\n",
    "        else:\n",
    "            return number_1+number_2+number_3"
   ]
  },
  {
   "cell_type": "code",
   "execution_count": 67,
   "id": "8c8c3abd",
   "metadata": {},
   "outputs": [],
   "source": [
    "obj= Sum()"
   ]
  },
  {
   "cell_type": "code",
   "execution_count": 68,
   "id": "a877ebaa",
   "metadata": {},
   "outputs": [
    {
     "data": {
      "text/plain": [
       "3"
      ]
     },
     "execution_count": 68,
     "metadata": {},
     "output_type": "execute_result"
    }
   ],
   "source": [
    "obj.add(1,2)"
   ]
  },
  {
   "cell_type": "code",
   "execution_count": 69,
   "id": "c8af8805",
   "metadata": {},
   "outputs": [
    {
     "data": {
      "text/plain": [
       "7"
      ]
     },
     "execution_count": 69,
     "metadata": {},
     "output_type": "execute_result"
    }
   ],
   "source": [
    "obj.add(1,2,4)"
   ]
  },
  {
   "cell_type": "code",
   "execution_count": 70,
   "id": "c9f0758c",
   "metadata": {},
   "outputs": [],
   "source": [
    "class Father:\n",
    "    eyes=\"Blue\"\n",
    "class Kid(Father):\n",
    "    nose=\"long\"\n",
    "kid=Kid()\n",
    "kid.eyes\n",
    "# Example of Single Inheritance"
   ]
  },
  {
   "cell_type": "code",
   "execution_count": 77,
   "id": "757727d7",
   "metadata": {},
   "outputs": [
    {
     "name": "stdout",
     "output_type": "stream",
     "text": [
      "Blue long\n"
     ]
    }
   ],
   "source": [
    "class Father:\n",
    "    eyes=\"Blue\"\n",
    "class Mother():\n",
    "    nose=\"long\"\n",
    "    \n",
    "class Kid(Father,Mother):\n",
    "    pass\n",
    "# Example of Multiple Inheritance\n",
    "kid=Kid()\n",
    "print(kid.eyes,kid.nose)"
   ]
  },
  {
   "cell_type": "code",
   "execution_count": 79,
   "id": "de09f1e3",
   "metadata": {},
   "outputs": [
    {
     "name": "stdout",
     "output_type": "stream",
     "text": [
      "Blue long\n"
     ]
    },
    {
     "data": {
      "text/plain": [
       "'Blue'"
      ]
     },
     "execution_count": 79,
     "metadata": {},
     "output_type": "execute_result"
    }
   ],
   "source": [
    "class GrandFather:\n",
    "    eyes=\"Blue\"\n",
    "    \n",
    "class Father(GrandFather):\n",
    "    nose=\"long\"\n",
    "    \n",
    "class Kid(Father):\n",
    "    pass\n",
    "kid=Kid()\n",
    "print(kid.eyes,kid.nose)\n",
    "father = Father()\n",
    "father.eyes\n",
    "# Example of Multi-level Inheritance"
   ]
  },
  {
   "cell_type": "code",
   "execution_count": 82,
   "id": "f11ceeff",
   "metadata": {},
   "outputs": [
    {
     "name": "stdout",
     "output_type": "stream",
     "text": [
      "blue smooth -->  Girl\n",
      "blue smooth -->  Boy\n"
     ]
    }
   ],
   "source": [
    "class Father:\n",
    "    eyes=\"blue\"\n",
    "    hair=\"smooth\"\n",
    "class Boy(Father):\n",
    "    pass\n",
    "class Girl(Father):\n",
    "    pass\n",
    "\n",
    "girl=Girl()\n",
    "boy=Boy()\n",
    "print(girl.eyes,girl.hair,\"--> \",\"Girl\")\n",
    "print(boy.eyes,boy.hair,\"--> \",\"Boy\")\n",
    "# This hierarchical Inheritance"
   ]
  },
  {
   "cell_type": "code",
   "execution_count": 85,
   "id": "0a572ebd",
   "metadata": {},
   "outputs": [
    {
     "name": "stdout",
     "output_type": "stream",
     "text": [
      "blue long smooth\n"
     ]
    },
    {
     "data": {
      "text/plain": [
       "'blue'"
      ]
     },
     "execution_count": 85,
     "metadata": {},
     "output_type": "execute_result"
    }
   ],
   "source": [
    "class Father:\n",
    "    eyes=\"blue\"\n",
    "    hair=\"smooth\"\n",
    "class Mother():\n",
    "    nose=\"long\"\n",
    "class Kid1(Father,Mother):\n",
    "    pass\n",
    "class Kid2(Father):\n",
    "    pass\n",
    "class Kid2_kids2(Kid2):\n",
    "    pass\n",
    "class Kid2_kids2(Kid2):\n",
    "    pass\n",
    "kid1 = Kid1()\n",
    "print(kid1.eyes,\n",
    "kid1.nose,\n",
    "kid1.hair)\n",
    "kid2=Kid2()\n",
    "kid2.eyes\n",
    "# This is example of Hybrid Inheritance"
   ]
  },
  {
   "cell_type": "code",
   "execution_count": null,
   "id": "9a7af92d",
   "metadata": {},
   "outputs": [],
   "source": []
  }
 ],
 "metadata": {
  "kernelspec": {
   "display_name": "Python 3 (ipykernel)",
   "language": "python",
   "name": "python3"
  },
  "language_info": {
   "codemirror_mode": {
    "name": "ipython",
    "version": 3
   },
   "file_extension": ".py",
   "mimetype": "text/x-python",
   "name": "python",
   "nbconvert_exporter": "python",
   "pygments_lexer": "ipython3",
   "version": "3.9.7"
  }
 },
 "nbformat": 4,
 "nbformat_minor": 5
}
