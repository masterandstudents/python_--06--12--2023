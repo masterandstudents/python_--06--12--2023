{
 "cells": [
  {
   "cell_type": "markdown",
   "id": "200cdf09",
   "metadata": {},
   "source": [
    "# Polymorphism"
   ]
  },
  {
   "cell_type": "markdown",
   "id": "16445f73",
   "metadata": {},
   "source": [
    "Polymorphism Implementing Same things in different way's There are two ways you can achieve polymorphism 1.Method overloading,Operator overloading it is also know as compile time polymorphism/Static polymorphism aslo 2.Method overriding also know as run time polymorphism/Dynamic type polymorphism\n",
    "\n",
    "For Methodoverloading These criteria should be fullfil Methods should be in same class Methods Name should be same There must be different Parameters\n",
    "\n",
    "For Operatoroverloading Take example of \"+\" In string this works to concatinate In int this works as addittion\n",
    "\n",
    "For Methodverriding These criteria should be fullfil Methods should be in different class Methods Name should be same Same Parameters should be given"
   ]
  },
  {
   "cell_type": "code",
   "execution_count": 19,
   "id": "0ba8783d",
   "metadata": {},
   "outputs": [],
   "source": [
    "class calculator:\n",
    "    def add(self,number1,number2):\n",
    "        return number1 + number2\n",
    "    \n",
    "    def add(self,number1,number2,number3):\n",
    "        return number1 + number2 + number3\n",
    "    \n",
    "    def add (self,number1):\n",
    "        return number1 +2\n",
    "    \n",
    "# For Methodoverloading These criteria should be fullfil by following Methods should be in same class Methods Name should be same There must be different Parameters\n",
    "# Python do not support this "
   ]
  },
  {
   "cell_type": "code",
   "execution_count": 15,
   "id": "8d8ec263",
   "metadata": {},
   "outputs": [],
   "source": [
    "def sum(a,b):\n",
    "    return a + b\n",
    "\n",
    "def sum(a,b,c):\n",
    "    return a + b + c "
   ]
  },
  {
   "cell_type": "code",
   "execution_count": 21,
   "id": "46e91861",
   "metadata": {},
   "outputs": [],
   "source": [
    "obj = calculator()"
   ]
  },
  {
   "cell_type": "code",
   "execution_count": 28,
   "id": "b1db731f",
   "metadata": {},
   "outputs": [
    {
     "data": {
      "text/plain": [
       "6"
      ]
     },
     "execution_count": 28,
     "metadata": {},
     "output_type": "execute_result"
    }
   ],
   "source": [
    "obj.add(4)"
   ]
  },
  {
   "cell_type": "code",
   "execution_count": null,
   "id": "c10d7103",
   "metadata": {},
   "outputs": [],
   "source": [
    "# Method Overloading --> compile time polymorphism --> static polymorphism these are same"
   ]
  },
  {
   "cell_type": "code",
   "execution_count": 67,
   "id": "af999a12",
   "metadata": {},
   "outputs": [],
   "source": [
    "class calculator:\n",
    "    def add(self,number1=None,number2=None,number3=None):\n",
    "        print(number1,number2,number3)\n",
    "        if number2 is None and number3 is None:\n",
    "            return number1 + 2\n",
    "        elif number3 is None:\n",
    "            return number1 +number2\n",
    "        return number1 + number2 + number3"
   ]
  },
  {
   "cell_type": "code",
   "execution_count": 68,
   "id": "ba35aa9a",
   "metadata": {},
   "outputs": [],
   "source": [
    "obj = calculator()"
   ]
  },
  {
   "cell_type": "code",
   "execution_count": 71,
   "id": "83e874c6",
   "metadata": {},
   "outputs": [
    {
     "name": "stdout",
     "output_type": "stream",
     "text": [
      "3 None None\n"
     ]
    },
    {
     "data": {
      "text/plain": [
       "5"
      ]
     },
     "execution_count": 71,
     "metadata": {},
     "output_type": "execute_result"
    }
   ],
   "source": [
    "obj.add(3)"
   ]
  },
  {
   "cell_type": "code",
   "execution_count": 72,
   "id": "105aeab5",
   "metadata": {},
   "outputs": [
    {
     "name": "stdout",
     "output_type": "stream",
     "text": [
      "4 2 None\n"
     ]
    },
    {
     "data": {
      "text/plain": [
       "6"
      ]
     },
     "execution_count": 72,
     "metadata": {},
     "output_type": "execute_result"
    }
   ],
   "source": [
    "obj.add(4,2)"
   ]
  },
  {
   "cell_type": "code",
   "execution_count": 73,
   "id": "2f5fd33a",
   "metadata": {},
   "outputs": [
    {
     "name": "stdout",
     "output_type": "stream",
     "text": [
      "4 2 3\n"
     ]
    },
    {
     "data": {
      "text/plain": [
       "9"
      ]
     },
     "execution_count": 73,
     "metadata": {},
     "output_type": "execute_result"
    }
   ],
   "source": [
    "obj.add(4,2,3)"
   ]
  },
  {
   "cell_type": "code",
   "execution_count": 62,
   "id": "742f6aab",
   "metadata": {},
   "outputs": [],
   "source": [
    "def sum(a=1,b=1):\n",
    "    print(a,b)\n",
    "    return a+b\n",
    "# left to right -->"
   ]
  },
  {
   "cell_type": "code",
   "execution_count": 66,
   "id": "dd210075",
   "metadata": {},
   "outputs": [
    {
     "name": "stdout",
     "output_type": "stream",
     "text": [
      "2 5\n"
     ]
    },
    {
     "data": {
      "text/plain": [
       "7"
      ]
     },
     "execution_count": 66,
     "metadata": {},
     "output_type": "execute_result"
    }
   ],
   "source": [
    "sum(2,5)"
   ]
  },
  {
   "cell_type": "markdown",
   "id": "8433c5dc",
   "metadata": {},
   "source": [
    "For methodoverriding The methods name should be same with same params but in different class"
   ]
  },
  {
   "cell_type": "code",
   "execution_count": null,
   "id": "73014885",
   "metadata": {},
   "outputs": [],
   "source": [
    "class Animal: #-->This is super class or parent class\n",
    "    def eating(self):\n",
    "        print(\"Eating Grass\")\n",
    "        \n",
    "class Cow(Animal): # --> This is child class\n",
    "    pass\n",
    "\n",
    "class Lion(Animal): # --> this is a child classs\n",
    "    def eating(self):\n",
    "        print(\"Eating Meat\")"
   ]
  },
  {
   "cell_type": "code",
   "execution_count": 90,
   "id": "9d275549",
   "metadata": {},
   "outputs": [],
   "source": [
    "lion = Lion()"
   ]
  },
  {
   "cell_type": "code",
   "execution_count": 91,
   "id": "1b6ac683",
   "metadata": {},
   "outputs": [
    {
     "name": "stdout",
     "output_type": "stream",
     "text": [
      "Eating Meat\n"
     ]
    }
   ],
   "source": [
    "lion.eating()"
   ]
  },
  {
   "cell_type": "code",
   "execution_count": 92,
   "id": "d90f2b2b",
   "metadata": {},
   "outputs": [],
   "source": [
    "cow = Cow()"
   ]
  },
  {
   "cell_type": "code",
   "execution_count": 93,
   "id": "c7194545",
   "metadata": {},
   "outputs": [
    {
     "name": "stdout",
     "output_type": "stream",
     "text": [
      "Eating Grass\n"
     ]
    }
   ],
   "source": [
    "cow.eating()"
   ]
  },
  {
   "cell_type": "markdown",
   "id": "425d93e6",
   "metadata": {},
   "source": [
    "# Encapsulation"
   ]
  },
  {
   "cell_type": "markdown",
   "id": "dc895bed",
   "metadata": {},
   "source": [
    "So in Encapsulation we bind up the data with the help of access modifiers\n",
    "In General we have three access modifiers\n",
    "public which is default one\n",
    "protect which can be decalred by single underscore \n",
    "private which can be declared by double underscore"
   ]
  },
  {
   "cell_type": "code",
   "execution_count": 112,
   "id": "394ac920",
   "metadata": {},
   "outputs": [],
   "source": [
    "class SecurityGroups:\n",
    "    password = \"Welcome123\"\n",
    "    title = \"DataBase\"\n",
    "        \n",
    "class SecurityGroups_two(SecurityGroups):\n",
    "    pass"
   ]
  },
  {
   "cell_type": "code",
   "execution_count": 113,
   "id": "b6daed24",
   "metadata": {},
   "outputs": [],
   "source": [
    "sg = SecurityGroups()"
   ]
  },
  {
   "cell_type": "code",
   "execution_count": 114,
   "id": "b628fd36",
   "metadata": {},
   "outputs": [
    {
     "data": {
      "text/plain": [
       "'Welcome123'"
      ]
     },
     "execution_count": 114,
     "metadata": {},
     "output_type": "execute_result"
    }
   ],
   "source": [
    "sg.password"
   ]
  },
  {
   "cell_type": "code",
   "execution_count": 115,
   "id": "6c4271d7",
   "metadata": {},
   "outputs": [
    {
     "data": {
      "text/plain": [
       "'DataBase'"
      ]
     },
     "execution_count": 115,
     "metadata": {},
     "output_type": "execute_result"
    }
   ],
   "source": [
    "sg.title"
   ]
  },
  {
   "cell_type": "code",
   "execution_count": 116,
   "id": "a327eb57",
   "metadata": {},
   "outputs": [],
   "source": [
    "sg2 = SecurityGroups_two()"
   ]
  },
  {
   "cell_type": "code",
   "execution_count": 117,
   "id": "352b7112",
   "metadata": {},
   "outputs": [
    {
     "data": {
      "text/plain": [
       "'Welcome123'"
      ]
     },
     "execution_count": 117,
     "metadata": {},
     "output_type": "execute_result"
    }
   ],
   "source": [
    "sg2.password"
   ]
  },
  {
   "cell_type": "code",
   "execution_count": 118,
   "id": "52b6ef27",
   "metadata": {},
   "outputs": [
    {
     "data": {
      "text/plain": [
       "'DataBase'"
      ]
     },
     "execution_count": 118,
     "metadata": {},
     "output_type": "execute_result"
    }
   ],
   "source": [
    "sg2.title"
   ]
  },
  {
   "cell_type": "code",
   "execution_count": 119,
   "id": "4d93ad20",
   "metadata": {},
   "outputs": [],
   "source": [
    "# Here's the concept of access modifiers and Encapsulations comes"
   ]
  },
  {
   "cell_type": "code",
   "execution_count": 120,
   "id": "cb16c82f",
   "metadata": {},
   "outputs": [],
   "source": [
    "# access modifiers\n",
    "# public\n",
    "# protected\n",
    "# private"
   ]
  },
  {
   "cell_type": "code",
   "execution_count": 135,
   "id": "60362c67",
   "metadata": {},
   "outputs": [],
   "source": [
    "class SecurityGroups:\n",
    "    password = \"Welcome123\" #This attribute is public \n",
    "    title = \"DataBase\"\n",
    "    \n",
    "    def showingPassword(self): #This method is public \n",
    "        return f\"This is my password{password}\"\n",
    "        \n",
    "class SecurityGroups_two(SecurityGroups):\n",
    "    pass\n",
    "# By default the attributes is in Public mode which mean it can be be accessable from anywhere"
   ]
  },
  {
   "cell_type": "code",
   "execution_count": 138,
   "id": "a6d4ab08",
   "metadata": {},
   "outputs": [
    {
     "data": {
      "text/plain": [
       "'This is my passwordWelcome123'"
      ]
     },
     "execution_count": 138,
     "metadata": {},
     "output_type": "execute_result"
    }
   ],
   "source": [
    "class SecurityGroups:\n",
    "    _password = \"Welcome123\" #This attribute is protect cause it is starting with single underscore\n",
    "    _title = \"DataBase\"\n",
    "    \n",
    "    def _showingPassword(self): #This method is protect cause it is starting with single underscore\n",
    "        return f\"This is my password{self._password}\"\n",
    "    \n",
    "class SecurityGroups_two(SecurityGroups):\n",
    "    pass\n",
    "# By default the attributes is in Protected mode which mean it can be be accessable from class and Inherited class\n",
    "\n",
    "sg = SecurityGroups_two()\n",
    "sg._password\n",
    "sg._showingPassword()"
   ]
  },
  {
   "cell_type": "code",
   "execution_count": 134,
   "id": "4768c206",
   "metadata": {},
   "outputs": [
    {
     "data": {
      "text/plain": [
       "'DataBase'"
      ]
     },
     "execution_count": 134,
     "metadata": {},
     "output_type": "execute_result"
    }
   ],
   "source": [
    "class SecurityGroups:\n",
    "    __password = \"Welcome123\"   #This attribute is private cause it is starting with double underscore\n",
    "    title = \"DataBase\"\n",
    "    \n",
    "    def __showingPassword(self): #This method is private cause it is starting with double underscore\n",
    "        return f\"This is my password{password}\"\n",
    "        \n",
    "class SecurityGroups_two(SecurityGroups):\n",
    "    pass\n",
    "\n",
    "# By default the attributes is in Private mode which mean it can be be accessable from class only\n",
    "\n",
    "sg = SecurityGroups_two()\n",
    "sg.title"
   ]
  },
  {
   "cell_type": "code",
   "execution_count": 144,
   "id": "ec21765f",
   "metadata": {},
   "outputs": [],
   "source": [
    "class demo:\n",
    "    def __init__(self,name):\n",
    "        self.name = name\n",
    "        \n",
    "    def showingName(self):\n",
    "        return f\"My name is {self.name}\""
   ]
  },
  {
   "cell_type": "code",
   "execution_count": 145,
   "id": "3d78dc97",
   "metadata": {},
   "outputs": [],
   "source": [
    "obj = demo(\"John\")"
   ]
  },
  {
   "cell_type": "code",
   "execution_count": 146,
   "id": "6b4ce83d",
   "metadata": {},
   "outputs": [
    {
     "data": {
      "text/plain": [
       "'My name is John'"
      ]
     },
     "execution_count": 146,
     "metadata": {},
     "output_type": "execute_result"
    }
   ],
   "source": [
    "obj.showingName()"
   ]
  },
  {
   "cell_type": "markdown",
   "id": "09360099",
   "metadata": {},
   "source": [
    "# SomeTimes in interview they may ask you that can you access anyhow the private attributes by Inherited class?"
   ]
  },
  {
   "cell_type": "code",
   "execution_count": 151,
   "id": "c4c312af",
   "metadata": {},
   "outputs": [
    {
     "data": {
      "text/plain": [
       "'This is my password Welcome123'"
      ]
     },
     "execution_count": 151,
     "metadata": {},
     "output_type": "execute_result"
    }
   ],
   "source": [
    "class SecurityGroups:\n",
    "    __password = \"Welcome123\"   #This attribute is private cause it is starting with double underscore\n",
    "    title = \"DataBase\"\n",
    "    \n",
    "    def showingPassword(self): #This method is private cause it is starting with double underscore\n",
    "        return f\"This is my password {self.__password}\"\n",
    "        \n",
    "class SecurityGroups_two(SecurityGroups):\n",
    "    pass\n",
    "\n",
    "# By default the attributes is in Private mode which mean it can be be accessable from class only\n",
    "\n",
    "sg = SecurityGroups_two()\n",
    "sg.showingPassword()"
   ]
  },
  {
   "cell_type": "markdown",
   "id": "cd59f929",
   "metadata": {},
   "source": [
    "# Abstraction"
   ]
  },
  {
   "cell_type": "markdown",
   "id": "fd3fb546",
   "metadata": {},
   "source": [
    "\n",
    "Abstraction is a fundamental concept in computer science and programming that involves hiding the complex implementation details of an object and exposing only the necessary functionality to the outside world. It allows programmers to focus on the essential features of an object or system without getting bogged down by unnecessary details. In Python, abstraction is often achieved through the use of classes and interfaces."
   ]
  },
  {
   "cell_type": "code",
   "execution_count": 153,
   "id": "ad904e39",
   "metadata": {},
   "outputs": [
    {
     "name": "stdout",
     "output_type": "stream",
     "text": [
      "Area of the circle: 78.5\n",
      "Area of the square: 16\n"
     ]
    }
   ],
   "source": [
    "from abc import ABC, abstractmethod\n",
    "\n",
    "# Abstract class\n",
    "class Shape(ABC):\n",
    "    @abstractmethod\n",
    "    def area(self):\n",
    "        pass\n",
    "\n",
    "# Concrete class implementing the abstract class\n",
    "class Circle(Shape):\n",
    "    def __init__(self, radius):\n",
    "        self.radius = radius\n",
    "\n",
    "    def area(self):\n",
    "        return 3.14 * self.radius * self.radius\n",
    "\n",
    "# Concrete class implementing the abstract class\n",
    "class Square(Shape):\n",
    "    def __init__(self, side_length):\n",
    "        self.side_length = side_length\n",
    "\n",
    "    def area(self):\n",
    "        return self.side_length * self.side_length\n",
    "\n",
    "# Usage of the classes\n",
    "circle = Circle(5)\n",
    "square = Square(4)\n",
    "\n",
    "print(f\"Area of the circle: {circle.area()}\")\n",
    "print(f\"Area of the square: {square.area()}\")"
   ]
  },
  {
   "cell_type": "code",
   "execution_count": null,
   "id": "feeba5c3",
   "metadata": {},
   "outputs": [],
   "source": []
  }
 ],
 "metadata": {
  "kernelspec": {
   "display_name": "Python 3 (ipykernel)",
   "language": "python",
   "name": "python3"
  },
  "language_info": {
   "codemirror_mode": {
    "name": "ipython",
    "version": 3
   },
   "file_extension": ".py",
   "mimetype": "text/x-python",
   "name": "python",
   "nbconvert_exporter": "python",
   "pygments_lexer": "ipython3",
   "version": "3.9.7"
  }
 },
 "nbformat": 4,
 "nbformat_minor": 5
}
