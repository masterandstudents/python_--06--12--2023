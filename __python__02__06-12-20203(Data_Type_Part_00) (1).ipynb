{
 "cells": [
  {
   "cell_type": "code",
   "execution_count": 1,
   "id": "34b86b01",
   "metadata": {},
   "outputs": [],
   "source": [
    "a=\"shiva\"\n",
    "b=\"ram\""
   ]
  },
  {
   "cell_type": "code",
   "execution_count": 2,
   "id": "be547309",
   "metadata": {},
   "outputs": [
    {
     "data": {
      "text/plain": [
       "'shiva'"
      ]
     },
     "execution_count": 2,
     "metadata": {},
     "output_type": "execute_result"
    }
   ],
   "source": [
    "a"
   ]
  },
  {
   "cell_type": "code",
   "execution_count": 3,
   "id": "c64f3040",
   "metadata": {},
   "outputs": [
    {
     "data": {
      "text/plain": [
       "'ram'"
      ]
     },
     "execution_count": 3,
     "metadata": {},
     "output_type": "execute_result"
    }
   ],
   "source": [
    "b"
   ]
  },
  {
   "cell_type": "code",
   "execution_count": 6,
   "id": "f3d4a65d",
   "metadata": {},
   "outputs": [
    {
     "data": {
      "text/plain": [
       "3"
      ]
     },
     "execution_count": 6,
     "metadata": {},
     "output_type": "execute_result"
    }
   ],
   "source": [
    "1+2"
   ]
  },
  {
   "cell_type": "code",
   "execution_count": 12,
   "id": "ac9a798a",
   "metadata": {},
   "outputs": [
    {
     "name": "stdout",
     "output_type": "stream",
     "text": [
      "Shiva 1\n",
      "Ram 2\n"
     ]
    }
   ],
   "source": [
    "a=\"Shiva\"\n",
    "print(a,\"1\")\n",
    "a=\"Ram\"\n",
    "print(a,\"2\")"
   ]
  },
  {
   "cell_type": "code",
   "execution_count": 13,
   "id": "d972406f",
   "metadata": {},
   "outputs": [],
   "source": [
    "a=\"Ram\""
   ]
  },
  {
   "cell_type": "code",
   "execution_count": 14,
   "id": "2e247550",
   "metadata": {},
   "outputs": [],
   "source": [
    "name=\"Ram\""
   ]
  },
  {
   "cell_type": "code",
   "execution_count": null,
   "id": "d77bf316",
   "metadata": {},
   "outputs": [],
   "source": [
    "# A variable can have a short name (like x and y) or a more descriptive name (age, carname, total_volume). Rules for Python variables:\n",
    "# A variable name must start with a letter or the underscore character\n",
    "# A variable name cannot start with a number\n",
    "# A variable name can only contain alpha-numeric characters and underscores (A-z, 0-9, and _ )\n",
    "# Variable names are case-sensitive (age, Age and AGE are three different variables)\n",
    "# A variable name cannot be any of the Python keywords."
   ]
  },
  {
   "cell_type": "code",
   "execution_count": 17,
   "id": "ae7e6c87",
   "metadata": {},
   "outputs": [],
   "source": [
    "num2=\"opop\""
   ]
  },
  {
   "cell_type": "code",
   "execution_count": 19,
   "id": "17e21aa4",
   "metadata": {},
   "outputs": [],
   "source": [
    "n2m=\"po\""
   ]
  },
  {
   "cell_type": "code",
   "execution_count": 21,
   "id": "0d591708",
   "metadata": {},
   "outputs": [
    {
     "ename": "SyntaxError",
     "evalue": "invalid syntax (Temp/ipykernel_20232/958229273.py, line 1)",
     "output_type": "error",
     "traceback": [
      "\u001b[1;36m  File \u001b[1;32m\"C:\\Users\\hp\\AppData\\Local\\Temp/ipykernel_20232/958229273.py\"\u001b[1;36m, line \u001b[1;32m1\u001b[0m\n\u001b[1;33m    num ber = 1\u001b[0m\n\u001b[1;37m        ^\u001b[0m\n\u001b[1;31mSyntaxError\u001b[0m\u001b[1;31m:\u001b[0m invalid syntax\n"
     ]
    }
   ],
   "source": [
    "num ber = 1"
   ]
  },
  {
   "cell_type": "code",
   "execution_count": 22,
   "id": "0c79085e",
   "metadata": {},
   "outputs": [],
   "source": [
    "num_ber=1"
   ]
  },
  {
   "cell_type": "code",
   "execution_count": 23,
   "id": "06bf7edc",
   "metadata": {},
   "outputs": [
    {
     "data": {
      "text/plain": [
       "1"
      ]
     },
     "execution_count": 23,
     "metadata": {},
     "output_type": "execute_result"
    }
   ],
   "source": [
    "num_ber"
   ]
  },
  {
   "cell_type": "code",
   "execution_count": 24,
   "id": "b0c4e041",
   "metadata": {},
   "outputs": [],
   "source": [
    "first_name=\"Ram\"\n",
    "firstName=\"David\"\n",
    "FirstName=\"James\"\n",
    "# These are the correct ways "
   ]
  },
  {
   "cell_type": "code",
   "execution_count": null,
   "id": "3bd2e33a",
   "metadata": {},
   "outputs": [],
   "source": [
    "# myvar = \"John\"\n",
    "# my_var = \"John\"\n",
    "# _my_var = \"John\"\n",
    "# myVar = \"John\"\n",
    "# MYVAR = \"John\"\n",
    "# myvar2 = \"John\"\n",
    "# Thesee are also correct"
   ]
  },
  {
   "cell_type": "code",
   "execution_count": 25,
   "id": "92ae7bee",
   "metadata": {},
   "outputs": [
    {
     "data": {
      "text/plain": [
       "'Ram'"
      ]
     },
     "execution_count": 25,
     "metadata": {},
     "output_type": "execute_result"
    }
   ],
   "source": [
    "first_name"
   ]
  },
  {
   "cell_type": "code",
   "execution_count": 26,
   "id": "8de7f315",
   "metadata": {},
   "outputs": [
    {
     "data": {
      "text/plain": [
       "'James'"
      ]
     },
     "execution_count": 26,
     "metadata": {},
     "output_type": "execute_result"
    }
   ],
   "source": [
    "FirstName"
   ]
  },
  {
   "cell_type": "code",
   "execution_count": 27,
   "id": "dafa6aba",
   "metadata": {},
   "outputs": [
    {
     "data": {
      "text/plain": [
       "'David'"
      ]
     },
     "execution_count": 27,
     "metadata": {},
     "output_type": "execute_result"
    }
   ],
   "source": [
    "firstName"
   ]
  },
  {
   "cell_type": "code",
   "execution_count": null,
   "id": "df2620b8",
   "metadata": {},
   "outputs": [],
   "source": [
    "# 2myvar = \"John\"\n",
    "# my-var = \"John\"\n",
    "# my var = \"John\"\n",
    "# These are the wrong once"
   ]
  },
  {
   "cell_type": "code",
   "execution_count": null,
   "id": "cd18d9b8",
   "metadata": {},
   "outputs": [],
   "source": [
    "# CamelCase\n",
    "firstName=\"David\"\n",
    "lastName=\"Latin\"\n",
    "# lastName\n",
    "# address\n",
    "# rollNumber"
   ]
  },
  {
   "cell_type": "code",
   "execution_count": null,
   "id": "d0aab1fb",
   "metadata": {},
   "outputs": [],
   "source": [
    "# PascalCase\n",
    "FirstName=\"David\"\n",
    "# LastName\n",
    "# Address\n",
    "# RollNumber"
   ]
  },
  {
   "cell_type": "code",
   "execution_count": null,
   "id": "c282e51e",
   "metadata": {},
   "outputs": [],
   "source": [
    "# SnakeCase\n",
    "first_name=\"James\"\n",
    "# last_name\n",
    "# address\n",
    "# roll_number"
   ]
  },
  {
   "cell_type": "code",
   "execution_count": 29,
   "id": "233f2ed8",
   "metadata": {},
   "outputs": [],
   "source": [
    "# Multiple Values \n",
    "x=\"mango\"\n",
    "t=\"grapes\"\n",
    "n=\"cherry\""
   ]
  },
  {
   "cell_type": "code",
   "execution_count": 30,
   "id": "7aaa42b7",
   "metadata": {},
   "outputs": [],
   "source": [
    "x,t,n=\"mango\",\"grapes\",\"cherry\""
   ]
  },
  {
   "cell_type": "code",
   "execution_count": 31,
   "id": "1e870d69",
   "metadata": {},
   "outputs": [
    {
     "data": {
      "text/plain": [
       "'mango'"
      ]
     },
     "execution_count": 31,
     "metadata": {},
     "output_type": "execute_result"
    }
   ],
   "source": [
    "x"
   ]
  },
  {
   "cell_type": "code",
   "execution_count": 32,
   "id": "18297363",
   "metadata": {},
   "outputs": [
    {
     "data": {
      "text/plain": [
       "'grapes'"
      ]
     },
     "execution_count": 32,
     "metadata": {},
     "output_type": "execute_result"
    }
   ],
   "source": [
    "t"
   ]
  },
  {
   "cell_type": "code",
   "execution_count": 33,
   "id": "ec7e6560",
   "metadata": {},
   "outputs": [
    {
     "data": {
      "text/plain": [
       "'cherry'"
      ]
     },
     "execution_count": 33,
     "metadata": {},
     "output_type": "execute_result"
    }
   ],
   "source": [
    "n"
   ]
  },
  {
   "cell_type": "code",
   "execution_count": 34,
   "id": "39fe3cce",
   "metadata": {},
   "outputs": [],
   "source": [
    "fruits = [\"apple\",\"bannaa\",\"cherry\"]\n",
    "x,t,n =fruits"
   ]
  },
  {
   "cell_type": "code",
   "execution_count": 35,
   "id": "fae4c0a8",
   "metadata": {},
   "outputs": [
    {
     "data": {
      "text/plain": [
       "'apple'"
      ]
     },
     "execution_count": 35,
     "metadata": {},
     "output_type": "execute_result"
    }
   ],
   "source": [
    "x"
   ]
  },
  {
   "cell_type": "code",
   "execution_count": 36,
   "id": "4b60505a",
   "metadata": {},
   "outputs": [
    {
     "data": {
      "text/plain": [
       "'bannaa'"
      ]
     },
     "execution_count": 36,
     "metadata": {},
     "output_type": "execute_result"
    }
   ],
   "source": [
    "t"
   ]
  },
  {
   "cell_type": "code",
   "execution_count": 37,
   "id": "b0ab1c15",
   "metadata": {},
   "outputs": [
    {
     "data": {
      "text/plain": [
       "'cherry'"
      ]
     },
     "execution_count": 37,
     "metadata": {},
     "output_type": "execute_result"
    }
   ],
   "source": [
    "n"
   ]
  },
  {
   "cell_type": "code",
   "execution_count": 38,
   "id": "a25fb1ce",
   "metadata": {},
   "outputs": [
    {
     "name": "stdout",
     "output_type": "stream",
     "text": [
      "Ram\n"
     ]
    }
   ],
   "source": [
    "print(a)"
   ]
  },
  {
   "cell_type": "code",
   "execution_count": 39,
   "id": "55d444a3",
   "metadata": {},
   "outputs": [
    {
     "name": "stdout",
     "output_type": "stream",
     "text": [
      "Hello\n"
     ]
    }
   ],
   "source": [
    "print(\"Hello\")"
   ]
  },
  {
   "cell_type": "code",
   "execution_count": 40,
   "id": "44115407",
   "metadata": {},
   "outputs": [
    {
     "name": "stdout",
     "output_type": "stream",
     "text": [
      "Hello and Bye\n"
     ]
    }
   ],
   "source": [
    "print(\"Hello and Bye\")"
   ]
  },
  {
   "cell_type": "code",
   "execution_count": 41,
   "id": "f2ef2aed",
   "metadata": {},
   "outputs": [],
   "source": [
    "number1 = 1\n",
    "number2 = 5\n",
    "number3 = number1 + number2"
   ]
  },
  {
   "cell_type": "code",
   "execution_count": 43,
   "id": "f4922db3",
   "metadata": {},
   "outputs": [
    {
     "data": {
      "text/plain": [
       "6"
      ]
     },
     "execution_count": 43,
     "metadata": {},
     "output_type": "execute_result"
    }
   ],
   "source": [
    "number3"
   ]
  },
  {
   "cell_type": "code",
   "execution_count": 44,
   "id": "1d777c6b",
   "metadata": {},
   "outputs": [
    {
     "name": "stdout",
     "output_type": "stream",
     "text": [
      "6\n"
     ]
    }
   ],
   "source": [
    "print(number3)"
   ]
  },
  {
   "cell_type": "code",
   "execution_count": 45,
   "id": "03903044",
   "metadata": {},
   "outputs": [
    {
     "data": {
      "text/plain": [
       "6"
      ]
     },
     "execution_count": 45,
     "metadata": {},
     "output_type": "execute_result"
    }
   ],
   "source": [
    "number3"
   ]
  },
  {
   "cell_type": "code",
   "execution_count": 46,
   "id": "8647918f",
   "metadata": {},
   "outputs": [],
   "source": [
    "#DataTypes"
   ]
  },
  {
   "cell_type": "code",
   "execution_count": null,
   "id": "51fbf5dd",
   "metadata": {},
   "outputs": [],
   "source": [
    "# Text Type:\tstr\n",
    "# Numeric Types:\tint, float, complex\n",
    "# Sequence Types:\tlist, tuple, range\n",
    "# Mapping Type:\tdict\n",
    "# Set Types:\tset, frozenset\n",
    "# Boolean Type:\tbool\n",
    "# Binary Types:\tbytes, bytearray, memoryview\n",
    "# None Type:\tNoneType"
   ]
  },
  {
   "cell_type": "code",
   "execution_count": null,
   "id": "30d0116c",
   "metadata": {},
   "outputs": [],
   "source": [
    "# String\n",
    "# Integer\n",
    "# Float\n",
    "# Complex\n",
    "# Boolean\n",
    "# NoneType\n",
    "# List,Tuples,Dictonaries,Set"
   ]
  },
  {
   "cell_type": "code",
   "execution_count": 52,
   "id": "c4c575c5",
   "metadata": {},
   "outputs": [],
   "source": [
    "name = 'John'"
   ]
  },
  {
   "cell_type": "code",
   "execution_count": 53,
   "id": "cdd9def5",
   "metadata": {},
   "outputs": [
    {
     "data": {
      "text/plain": [
       "'John'"
      ]
     },
     "execution_count": 53,
     "metadata": {},
     "output_type": "execute_result"
    }
   ],
   "source": [
    "name"
   ]
  },
  {
   "cell_type": "code",
   "execution_count": 57,
   "id": "e100f9b7",
   "metadata": {},
   "outputs": [],
   "source": [
    "name_= \"Dev\""
   ]
  },
  {
   "cell_type": "code",
   "execution_count": 58,
   "id": "8924d075",
   "metadata": {},
   "outputs": [
    {
     "data": {
      "text/plain": [
       "'John'"
      ]
     },
     "execution_count": 58,
     "metadata": {},
     "output_type": "execute_result"
    }
   ],
   "source": [
    "name"
   ]
  },
  {
   "cell_type": "code",
   "execution_count": 59,
   "id": "3bf56878",
   "metadata": {},
   "outputs": [
    {
     "data": {
      "text/plain": [
       "'Dev'"
      ]
     },
     "execution_count": 59,
     "metadata": {},
     "output_type": "execute_result"
    }
   ],
   "source": [
    "name_"
   ]
  },
  {
   "cell_type": "code",
   "execution_count": 60,
   "id": "bc60cfe8",
   "metadata": {},
   "outputs": [],
   "source": [
    "name = 'John'\n",
    "name = \"John\"\n",
    "# both are same "
   ]
  },
  {
   "cell_type": "code",
   "execution_count": 61,
   "id": "cc0e95d5",
   "metadata": {},
   "outputs": [],
   "source": [
    "message = \"This is msg for everyone...\""
   ]
  },
  {
   "cell_type": "code",
   "execution_count": 62,
   "id": "9b6e5e25",
   "metadata": {},
   "outputs": [
    {
     "name": "stdout",
     "output_type": "stream",
     "text": [
      "This is msg for everyone...\n"
     ]
    }
   ],
   "source": [
    "print(message)"
   ]
  },
  {
   "cell_type": "code",
   "execution_count": 63,
   "id": "ea12185f",
   "metadata": {},
   "outputs": [
    {
     "data": {
      "text/plain": [
       "str"
      ]
     },
     "execution_count": 63,
     "metadata": {},
     "output_type": "execute_result"
    }
   ],
   "source": [
    "type(message)"
   ]
  },
  {
   "cell_type": "code",
   "execution_count": 64,
   "id": "5e0cbdc8",
   "metadata": {},
   "outputs": [],
   "source": [
    "# Integer"
   ]
  },
  {
   "cell_type": "code",
   "execution_count": 69,
   "id": "4949ce7d",
   "metadata": {},
   "outputs": [],
   "source": [
    "number = 1"
   ]
  },
  {
   "cell_type": "code",
   "execution_count": 70,
   "id": "591d64e9",
   "metadata": {},
   "outputs": [],
   "source": [
    "number_ = 12"
   ]
  },
  {
   "cell_type": "code",
   "execution_count": 71,
   "id": "231aeb6f",
   "metadata": {},
   "outputs": [
    {
     "data": {
      "text/plain": [
       "1"
      ]
     },
     "execution_count": 71,
     "metadata": {},
     "output_type": "execute_result"
    }
   ],
   "source": [
    "number"
   ]
  },
  {
   "cell_type": "code",
   "execution_count": 72,
   "id": "2f4f70d2",
   "metadata": {},
   "outputs": [
    {
     "data": {
      "text/plain": [
       "12"
      ]
     },
     "execution_count": 72,
     "metadata": {},
     "output_type": "execute_result"
    }
   ],
   "source": [
    "number_"
   ]
  },
  {
   "cell_type": "code",
   "execution_count": 73,
   "id": "c6e8d870",
   "metadata": {},
   "outputs": [
    {
     "data": {
      "text/plain": [
       "int"
      ]
     },
     "execution_count": 73,
     "metadata": {},
     "output_type": "execute_result"
    }
   ],
   "source": [
    "type(number)"
   ]
  },
  {
   "cell_type": "code",
   "execution_count": 74,
   "id": "31d71a06",
   "metadata": {},
   "outputs": [],
   "source": [
    "# float\n",
    "number_with_decimal = 1.2"
   ]
  },
  {
   "cell_type": "code",
   "execution_count": 75,
   "id": "82e3e57c",
   "metadata": {},
   "outputs": [
    {
     "data": {
      "text/plain": [
       "float"
      ]
     },
     "execution_count": 75,
     "metadata": {},
     "output_type": "execute_result"
    }
   ],
   "source": [
    "type(number_with_decimal)"
   ]
  },
  {
   "cell_type": "code",
   "execution_count": 76,
   "id": "00affad3",
   "metadata": {},
   "outputs": [],
   "source": [
    "# NoneType\n",
    "noneType = None"
   ]
  },
  {
   "cell_type": "code",
   "execution_count": 77,
   "id": "e62e8939",
   "metadata": {},
   "outputs": [
    {
     "data": {
      "text/plain": [
       "NoneType"
      ]
     },
     "execution_count": 77,
     "metadata": {},
     "output_type": "execute_result"
    }
   ],
   "source": [
    "type(noneType)"
   ]
  },
  {
   "cell_type": "code",
   "execution_count": 78,
   "id": "6ed34845",
   "metadata": {},
   "outputs": [],
   "source": [
    "noneType = 0"
   ]
  },
  {
   "cell_type": "code",
   "execution_count": 79,
   "id": "e7ddea71",
   "metadata": {},
   "outputs": [
    {
     "data": {
      "text/plain": [
       "int"
      ]
     },
     "execution_count": 79,
     "metadata": {},
     "output_type": "execute_result"
    }
   ],
   "source": [
    "type(noneType)"
   ]
  },
  {
   "cell_type": "code",
   "execution_count": 80,
   "id": "315724a9",
   "metadata": {},
   "outputs": [],
   "source": [
    "x=1j"
   ]
  },
  {
   "cell_type": "code",
   "execution_count": 81,
   "id": "2e690d0b",
   "metadata": {},
   "outputs": [
    {
     "data": {
      "text/plain": [
       "complex"
      ]
     },
     "execution_count": 81,
     "metadata": {},
     "output_type": "execute_result"
    }
   ],
   "source": [
    "type(x)"
   ]
  },
  {
   "cell_type": "code",
   "execution_count": null,
   "id": "e37b4180",
   "metadata": {},
   "outputs": [],
   "source": []
  }
 ],
 "metadata": {
  "kernelspec": {
   "display_name": "Python 3 (ipykernel)",
   "language": "python",
   "name": "python3"
  },
  "language_info": {
   "codemirror_mode": {
    "name": "ipython",
    "version": 3
   },
   "file_extension": ".py",
   "mimetype": "text/x-python",
   "name": "python",
   "nbconvert_exporter": "python",
   "pygments_lexer": "ipython3",
   "version": "3.9.7"
  }
 },
 "nbformat": 4,
 "nbformat_minor": 5
}
